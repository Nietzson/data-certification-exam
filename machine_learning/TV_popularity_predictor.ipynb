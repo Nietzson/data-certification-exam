{
 "cells": [
  {
   "cell_type": "markdown",
   "metadata": {},
   "source": [
    "# TV shows Popularity Predictor (39%)\n",
    "\n",
    "The goal of this challenge is to create a model that predicts the `popularity` of a movie or TV show\n",
    "\n",
    "<img src=\"image.jpg\" width=300 />\n",
    "\n",
    "\n",
    "\n",
    "\n",
    "The dataset contains a list of movies and TV shows with the following characteristics:\n",
    "- `title`: title of the movie in english\n",
    "- `original_title`: original title of the movie \n",
    "- `duration_min`: duration of the movie in minutes\n",
    "- `popularity`: popularity of the movie in terms of review scores\n",
    "- `release_date`: release date\n",
    "- `description`: short summary of the movie\n",
    "- `budget`: budget spent to produce the movie in USD\n",
    "- `revenue`: movie revenue in USD \n",
    "- `original_language`: original language \n",
    "- `status`: is the movie already released or not\n",
    "- `number_of_awards_won`: number of awards won for the movie\n",
    "- `number_of_nominations`: number of nominations\n",
    "- `has_collection`: if the movie is part of a sequel or not\n",
    "- `all_genres`: genres that described the movie (can be zero, one or many!) \n",
    "- `top_countries`: countries where the movie was produced (can be zero, one or many!) \n",
    "- `number_of_top_productions`: number of top production companies that produced the film if any. \n",
    "Top production companies includes: Warner Bros, Universal Pictures, Paramount Pictures, Canal+, etc...\n",
    "- `available_in_english`: whether the movie is available in english or not"
   ]
  },
  {
   "cell_type": "markdown",
   "metadata": {},
   "source": [
    "## Imports\n",
    "\n",
    "Run the following cell to load the basic packages:"
   ]
  },
  {
   "cell_type": "code",
   "execution_count": 1,
   "metadata": {
    "ExecuteTime": {
     "end_time": "2021-06-30T11:10:12.503478Z",
     "start_time": "2021-06-30T11:10:11.297715Z"
    }
   },
   "outputs": [],
   "source": [
    "import numpy as np\n",
    "import pandas as pd\n",
    "import matplotlib.pyplot as plt\n",
    "import seaborn as sns\n",
    "from nbresult import ChallengeResult"
   ]
  },
  {
   "cell_type": "markdown",
   "metadata": {},
   "source": [
    "## Data collection\n",
    "\n",
    "📝 **Load the `movie_popularity.csv` dataset from the provided this [URL](https://wagon-public-datasets.s3.amazonaws.com/certification_france_2021_q2/tv_movies_popularity.csv)**\n",
    "- First, check and remove the rows that may be complete duplicate from one another (we never know!)\n",
    "- Then, drop the columns that have too much missing values\n",
    "- Finally, drop the few remaining rows that have missing values\n",
    "- Store the result in a `DataFrame` named `data`"
   ]
  },
  {
   "cell_type": "code",
   "execution_count": 2,
   "metadata": {
    "ExecuteTime": {
     "end_time": "2021-06-30T11:10:12.578859Z",
     "start_time": "2021-06-30T11:10:12.506990Z"
    },
    "slideshow": {
     "slide_type": "notes"
    },
    "tags": [
     "challengify"
    ]
   },
   "outputs": [],
   "source": [
    "data = pd.read_csv(\"tv_movies_popularity.csv\")"
   ]
  },
  {
   "cell_type": "markdown",
   "metadata": {},
   "source": [
    "Remove duplicates:"
   ]
  },
  {
   "cell_type": "code",
   "execution_count": 3,
   "metadata": {
    "ExecuteTime": {
     "end_time": "2021-06-30T11:10:12.615976Z",
     "start_time": "2021-06-30T11:10:12.581712Z"
    }
   },
   "outputs": [],
   "source": [
    "data.drop_duplicates(inplace = True)"
   ]
  },
  {
   "cell_type": "code",
   "execution_count": 4,
   "metadata": {
    "ExecuteTime": {
     "end_time": "2021-06-30T11:10:12.628046Z",
     "start_time": "2021-06-30T11:10:12.619187Z"
    }
   },
   "outputs": [
    {
     "data": {
      "text/plain": [
       "(6464, 17)"
      ]
     },
     "execution_count": 4,
     "metadata": {},
     "output_type": "execute_result"
    }
   ],
   "source": [
    "data.shape"
   ]
  },
  {
   "cell_type": "markdown",
   "metadata": {},
   "source": [
    "Drop na values"
   ]
  },
  {
   "cell_type": "code",
   "execution_count": 5,
   "metadata": {
    "ExecuteTime": {
     "end_time": "2021-06-30T11:10:12.665849Z",
     "start_time": "2021-06-30T11:10:12.631521Z"
    }
   },
   "outputs": [
    {
     "data": {
      "text/plain": [
       "original_title               1\n",
       "title                        2\n",
       "popularity                   1\n",
       "release_date                 1\n",
       "duration_min                 1\n",
       "description                  1\n",
       "budget                       1\n",
       "revenue                      2\n",
       "original_language            1\n",
       "status                       1\n",
       "number_of_awards_won         1\n",
       "number_of_nominations        1\n",
       "has_collection               1\n",
       "all_genres                   1\n",
       "top_countries                1\n",
       "number_of_top_productions    1\n",
       "available_in_english         1\n",
       "dtype: int64"
      ]
     },
     "execution_count": 5,
     "metadata": {},
     "output_type": "execute_result"
    }
   ],
   "source": [
    "data.isna().nunique()"
   ]
  },
  {
   "cell_type": "code",
   "execution_count": 6,
   "metadata": {
    "ExecuteTime": {
     "end_time": "2021-06-30T11:10:12.677626Z",
     "start_time": "2021-06-30T11:10:12.669051Z"
    }
   },
   "outputs": [
    {
     "data": {
      "text/plain": [
       "False    6463\n",
       "True        1\n",
       "Name: title, dtype: int64"
      ]
     },
     "execution_count": 6,
     "metadata": {},
     "output_type": "execute_result"
    }
   ],
   "source": [
    "data.title.isna().value_counts()"
   ]
  },
  {
   "cell_type": "code",
   "execution_count": 7,
   "metadata": {
    "ExecuteTime": {
     "end_time": "2021-06-30T11:10:12.695187Z",
     "start_time": "2021-06-30T11:10:12.681077Z"
    }
   },
   "outputs": [
    {
     "data": {
      "text/plain": [
       "True     3847\n",
       "False    2617\n",
       "Name: revenue, dtype: int64"
      ]
     },
     "execution_count": 7,
     "metadata": {},
     "output_type": "execute_result"
    }
   ],
   "source": [
    "data.revenue.isna().value_counts()"
   ]
  },
  {
   "cell_type": "code",
   "execution_count": 8,
   "metadata": {
    "ExecuteTime": {
     "end_time": "2021-06-30T11:10:12.706860Z",
     "start_time": "2021-06-30T11:10:12.698533Z"
    }
   },
   "outputs": [],
   "source": [
    "data.drop(columns=\"revenue\", inplace=True)"
   ]
  },
  {
   "cell_type": "code",
   "execution_count": 9,
   "metadata": {
    "ExecuteTime": {
     "end_time": "2021-06-30T11:10:12.727259Z",
     "start_time": "2021-06-30T11:10:12.709848Z"
    }
   },
   "outputs": [],
   "source": [
    "data.dropna(inplace=True)"
   ]
  },
  {
   "cell_type": "code",
   "execution_count": 10,
   "metadata": {
    "ExecuteTime": {
     "end_time": "2021-06-30T11:10:12.737851Z",
     "start_time": "2021-06-30T11:10:12.731840Z"
    }
   },
   "outputs": [
    {
     "data": {
      "text/plain": [
       "(6463, 16)"
      ]
     },
     "execution_count": 10,
     "metadata": {},
     "output_type": "execute_result"
    }
   ],
   "source": [
    "data.shape"
   ]
  },
  {
   "cell_type": "markdown",
   "metadata": {},
   "source": [
    "### 🧪 Run the following cell to save your results"
   ]
  },
  {
   "cell_type": "code",
   "execution_count": 11,
   "metadata": {
    "ExecuteTime": {
     "end_time": "2021-06-30T11:10:12.755444Z",
     "start_time": "2021-06-30T11:10:12.740792Z"
    }
   },
   "outputs": [],
   "source": [
    "from nbresult import ChallengeResult\n",
    "\n",
    "result = ChallengeResult(\n",
    "    \"data_cleaning\",\n",
    "    columns=data.columns,\n",
    "    cleaning=sum(data.isnull().sum()),\n",
    "    shape=data.shape)\n",
    "result.write()"
   ]
  },
  {
   "cell_type": "markdown",
   "metadata": {},
   "source": [
    "## Baseline model"
   ]
  },
  {
   "cell_type": "markdown",
   "metadata": {},
   "source": [
    "### The metric"
   ]
  },
  {
   "cell_type": "markdown",
   "metadata": {},
   "source": [
    "📝 **We want to predict `popularity`: Start by plotting a histogram of the target to visualize it**"
   ]
  },
  {
   "cell_type": "code",
   "execution_count": 12,
   "metadata": {
    "ExecuteTime": {
     "end_time": "2021-06-30T11:10:12.775233Z",
     "start_time": "2021-06-30T11:10:12.758080Z"
    }
   },
   "outputs": [
    {
     "data": {
      "text/plain": [
       "count    6463.000000\n",
       "mean        9.440948\n",
       "std        12.708256\n",
       "min         0.096403\n",
       "25%         5.325670\n",
       "50%         8.075504\n",
       "75%        11.378155\n",
       "max       547.488298\n",
       "Name: popularity, dtype: float64"
      ]
     },
     "execution_count": 12,
     "metadata": {},
     "output_type": "execute_result"
    }
   ],
   "source": [
    "data.popularity.describe()"
   ]
  },
  {
   "cell_type": "code",
   "execution_count": 13,
   "metadata": {
    "ExecuteTime": {
     "end_time": "2021-06-30T11:10:14.430682Z",
     "start_time": "2021-06-30T11:10:12.778369Z"
    }
   },
   "outputs": [
    {
     "data": {
      "image/png": "[encoded data removed]",
      "text/plain": [
       "<Figure size 1440x576 with 2 Axes>"
      ]
     },
     "metadata": {
      "needs_background": "light"
     },
     "output_type": "display_data"
    }
   ],
   "source": [
    "\n",
    "fig, ax=plt.subplots(1,2,figsize=(20,8))\n",
    "ax[0].set_title(f\"Distribution of: popularity\")\n",
    "sns.histplot(data= data.popularity,kde=True, ax = ax[0])\n",
    "ax[1].set_title(f\"Boxplot of: popularity\")\n",
    "sns.boxplot(data = data.popularity, ax=ax[1])\n",
    "fig.show() "
   ]
  },
  {
   "cell_type": "markdown",
   "metadata": {},
   "source": [
    "📝 **Which sklearn's scoring [metric](https://scikit-learn.org/stable/modules/model_evaluation.html) should we use if we want it to:**\n",
    "\n",
    "- Be better when greater (i.e. metric_good_model > metric_bad_model)\n",
    "- Penalize **more** an error between 10 and 20 compared with an error between 110 and 120\n",
    "- Said otherwise, what matter should be the **relative error ratio**, more than the absolute error difference\n",
    "\n",
    "Hint: the histogram plotted above should give you some intuition about it\n",
    "\n",
    "👉 Store its exact [sklearn scoring name](https://scikit-learn.org/stable/modules/model_evaluation.html) as `string` in the variable `scoring` below.\n",
    "\n",
    "🚨 You must use this metric for the rest of the challenge"
   ]
  },
  {
   "cell_type": "code",
   "execution_count": 14,
   "metadata": {
    "ExecuteTime": {
     "end_time": "2021-06-30T11:10:14.437727Z",
     "start_time": "2021-06-30T11:10:14.433925Z"
    },
    "slideshow": {
     "slide_type": "notes"
    },
    "tags": [
     "challengify"
    ]
   },
   "outputs": [],
   "source": [
    "scoring = \"neg_mean_absolute_percentage_error\""
   ]
  },
  {
   "cell_type": "markdown",
   "metadata": {},
   "source": [
    "<details>\n",
    "    <summary>💡 Hint</summary>\n",
    "It is around here!\n",
    "<img src=\"scores.jpg\" width=200 height=400 />\n",
    "</details>"
   ]
  },
  {
   "cell_type": "markdown",
   "metadata": {},
   "source": [
    "### X,y"
   ]
  },
  {
   "cell_type": "markdown",
   "metadata": {},
   "source": [
    "**📝 Define `X` as the features Dataframe (keep all features) and `y` as the target Series.**"
   ]
  },
  {
   "cell_type": "code",
   "execution_count": 15,
   "metadata": {
    "ExecuteTime": {
     "end_time": "2021-06-30T11:10:14.456943Z",
     "start_time": "2021-06-30T11:10:14.440836Z"
    },
    "tags": [
     "challengify"
    ]
   },
   "outputs": [],
   "source": [
    "X = data.drop(columns = \"popularity\")"
   ]
  },
  {
   "cell_type": "code",
   "execution_count": 16,
   "metadata": {
    "ExecuteTime": {
     "end_time": "2021-06-30T11:10:14.467660Z",
     "start_time": "2021-06-30T11:10:14.461240Z"
    }
   },
   "outputs": [],
   "source": [
    "y = data[\"popularity\"]"
   ]
  },
  {
   "cell_type": "markdown",
   "metadata": {},
   "source": [
    "### Basic pipeline"
   ]
  },
  {
   "cell_type": "markdown",
   "metadata": {},
   "source": [
    "📝 **Check unique values per features**"
   ]
  },
  {
   "cell_type": "code",
   "execution_count": 17,
   "metadata": {
    "ExecuteTime": {
     "end_time": "2021-06-30T11:10:14.503167Z",
     "start_time": "2021-06-30T11:10:14.472346Z"
    },
    "tags": [
     "challengify"
    ]
   },
   "outputs": [
    {
     "data": {
      "text/plain": [
       "original_title               6350\n",
       "title                        6337\n",
       "release_date                 4320\n",
       "duration_min                  152\n",
       "description                  6449\n",
       "budget                        636\n",
       "original_language              42\n",
       "status                          3\n",
       "number_of_awards_won          124\n",
       "number_of_nominations         180\n",
       "has_collection                  2\n",
       "all_genres                    745\n",
       "top_countries                 320\n",
       "number_of_top_productions       5\n",
       "available_in_english            2\n",
       "dtype: int64"
      ]
     },
     "execution_count": 17,
     "metadata": {},
     "output_type": "execute_result"
    }
   ],
   "source": [
    "X.nunique()"
   ]
  },
  {
   "cell_type": "markdown",
   "metadata": {},
   "source": [
    "In this baseline, let's forget about the columns below that are difficult to process"
   ]
  },
  {
   "cell_type": "code",
   "execution_count": 18,
   "metadata": {
    "ExecuteTime": {
     "end_time": "2021-06-30T11:10:14.511123Z",
     "start_time": "2021-06-30T11:10:14.506516Z"
    }
   },
   "outputs": [],
   "source": [
    "text = ['description', 'original_title', 'title']\n",
    "dates = ['release_date'] "
   ]
  },
  {
   "cell_type": "markdown",
   "metadata": {},
   "source": [
    "We will simply scale the numerical features and one-hot-encode the categorical ones remaining\n",
    "\n",
    "📝 **Prepare 2 `list`s of features names as `str`**:\n",
    "- `numerical` which contains **only** numerical features\n",
    "- `categorical` which contains **only** categorical features (exept text and dates above)"
   ]
  },
  {
   "cell_type": "code",
   "execution_count": 19,
   "metadata": {
    "ExecuteTime": {
     "end_time": "2021-06-30T11:10:14.525045Z",
     "start_time": "2021-06-30T11:10:14.513890Z"
    }
   },
   "outputs": [
    {
     "data": {
      "text/plain": [
       "original_title                object\n",
       "title                         object\n",
       "release_date                  object\n",
       "duration_min                 float64\n",
       "description                   object\n",
       "budget                         int64\n",
       "original_language             object\n",
       "status                        object\n",
       "number_of_awards_won           int64\n",
       "number_of_nominations          int64\n",
       "has_collection                 int64\n",
       "all_genres                    object\n",
       "top_countries                 object\n",
       "number_of_top_productions      int64\n",
       "available_in_english            bool\n",
       "dtype: object"
      ]
     },
     "execution_count": 19,
     "metadata": {},
     "output_type": "execute_result"
    }
   ],
   "source": [
    "X.dtypes"
   ]
  },
  {
   "cell_type": "code",
   "execution_count": 20,
   "metadata": {
    "ExecuteTime": {
     "end_time": "2021-06-30T11:10:14.533456Z",
     "start_time": "2021-06-30T11:10:14.528966Z"
    },
    "tags": [
     "challengify"
    ]
   },
   "outputs": [],
   "source": [
    "numerical = [\"duration_min\",\n",
    "             \"budget\",\n",
    "             \"number_of_awards_won\",\n",
    "             \"number_of_nominations\",\n",
    "             \"has_collection\",\n",
    "             \"number_of_top_productions\"]\n",
    "\n",
    "categorical = [\"original_language\",\n",
    "              \"status\",\n",
    "              \"all_genres\",\n",
    "              \"top_countries\",\n",
    "              \"available_in_english\"]"
   ]
  },
  {
   "cell_type": "markdown",
   "metadata": {},
   "source": [
    "### Pipelining\n",
    "\n",
    "You are going to build a basic pipeline made of a basic preprocessing and a trees-based model of your choice."
   ]
  },
  {
   "cell_type": "markdown",
   "metadata": {},
   "source": [
    "#### Preprocessing pipeline\n",
    "\n",
    "**📝 Create a basic preprocessing pipeline for the 2 types of features above:**\n",
    "- It should scale the `numerical` features\n",
    "- one-hot-encode the `categorical` and `boolean` features\n",
    "- drop the others\n",
    "- Store your pipeline in a `basic_preprocessing` variable"
   ]
  },
  {
   "cell_type": "code",
   "execution_count": 145,
   "metadata": {
    "ExecuteTime": {
     "end_time": "2021-06-30T12:35:35.782293Z",
     "start_time": "2021-06-30T12:35:35.767120Z"
    }
   },
   "outputs": [],
   "source": [
    "from sklearn.impute import SimpleImputer\n",
    "from sklearn.preprocessing import RobustScaler\n",
    "from sklearn.preprocessing import MinMaxScaler\n",
    "from sklearn.preprocessing import StandardScaler\n",
    "from sklearn.preprocessing import OneHotEncoder\n",
    "from sklearn.preprocessing import OrdinalEncoder\n",
    "from sklearn.model_selection import cross_validate\n",
    "from sklearn.model_selection import learning_curve\n",
    "from sklearn.model_selection import GridSearchCV\n",
    "from sklearn.model_selection import GridSearchCV\n",
    "from sklearn.model_selection import RandomizedSearchCV\n",
    "from sklearn.model_selection import train_test_split\n",
    "from sklearn.preprocessing import FunctionTransformer\n",
    "from sklearn.compose import ColumnTransformer\n",
    "from sklearn.compose import make_column_selector\n",
    "from sklearn.base import TransformerMixin, BaseEstimator\n",
    "from sklearn.pipeline import FeatureUnion\n",
    "from sklearn.pipeline import Pipeline"
   ]
  },
  {
   "cell_type": "code",
   "execution_count": 22,
   "metadata": {
    "ExecuteTime": {
     "end_time": "2021-06-30T11:10:14.917300Z",
     "start_time": "2021-06-30T11:10:14.913106Z"
    }
   },
   "outputs": [],
   "source": [
    "# Execute this cell to enable a nice display for your pipelines\n",
    "from sklearn import set_config; set_config(display='diagram')"
   ]
  },
  {
   "cell_type": "markdown",
   "metadata": {
    "ExecuteTime": {
     "end_time": "2021-06-29T17:29:13.497003Z",
     "start_time": "2021-06-29T17:29:13.477748Z"
    },
    "tags": [
     "challengify"
    ]
   },
   "source": [
    "Deciding what type of scaler to use:"
   ]
  },
  {
   "cell_type": "code",
   "execution_count": 23,
   "metadata": {
    "ExecuteTime": {
     "end_time": "2021-06-30T11:10:18.054789Z",
     "start_time": "2021-06-30T11:10:14.921346Z"
    },
    "scrolled": false
   },
   "outputs": [
    {
     "data": {
      "image/png": "[encoded data removed]",
      "text/plain": [
       "<Figure size 1440x576 with 2 Axes>"
      ]
     },
     "metadata": {
      "needs_background": "light"
     },
     "output_type": "display_data"
    },
    {
     "data": {
      "image/png": "[encoded data removed]",
      "text/plain": [
       "<Figure size 1440x576 with 2 Axes>"
      ]
     },
     "metadata": {
      "needs_background": "light"
     },
     "output_type": "display_data"
    },
    {
     "data": {
      "image/png": "[encoded data removed]",
      "text/plain": [
       "<Figure size 1440x576 with 2 Axes>"
      ]
     },
     "metadata": {
      "needs_background": "light"
     },
     "output_type": "display_data"
    },
    {
     "data": {
      "image/png": "[encoded data removed]",
      "text/plain": [
       "<Figure size 1440x576 with 2 Axes>"
      ]
     },
     "metadata": {
      "needs_background": "light"
     },
     "output_type": "display_data"
    },
    {
     "data": {
      "image/png": "[encoded data removed]",
      "text/plain": [
       "<Figure size 1440x576 with 2 Axes>"
      ]
     },
     "metadata": {
      "needs_background": "light"
     },
     "output_type": "display_data"
    },
    {
     "data": {
      "image/png": "[encoded data removed]",
      "text/plain": [
       "<Figure size 1440x576 with 2 Axes>"
      ]
     },
     "metadata": {
      "needs_background": "light"
     },
     "output_type": "display_data"
    }
   ],
   "source": [
    "for _ in list(numerical):\n",
    "    fig, ax=plt.subplots(1,2,figsize=(20,8))\n",
    "    ax[0].set_title(f\"Distribution of: {_}\")\n",
    "    sns.histplot(data= data[_],kde=True, ax = ax[0])\n",
    "    ax[1].set_title(f\"Boxplot of: {_}\")\n",
    "    sns.boxplot(data = data[_], ax=ax[1])\n",
    "fig.show() \n"
   ]
  },
  {
   "cell_type": "markdown",
   "metadata": {},
   "source": [
    "A lot of outlier ==> using RobustScaler"
   ]
  },
  {
   "cell_type": "code",
   "execution_count": 24,
   "metadata": {
    "ExecuteTime": {
     "end_time": "2021-06-30T11:10:18.062101Z",
     "start_time": "2021-06-30T11:10:18.057978Z"
    }
   },
   "outputs": [],
   "source": [
    "num_transformer = RobustScaler()"
   ]
  },
  {
   "cell_type": "code",
   "execution_count": 25,
   "metadata": {
    "ExecuteTime": {
     "end_time": "2021-06-30T11:10:18.093862Z",
     "start_time": "2021-06-30T11:10:18.065731Z"
    }
   },
   "outputs": [],
   "source": [
    "cat_transformer = OneHotEncoder(sparse = False, handle_unknown=\"ignore\")"
   ]
  },
  {
   "cell_type": "code",
   "execution_count": 26,
   "metadata": {
    "ExecuteTime": {
     "end_time": "2021-06-30T11:10:18.107292Z",
     "start_time": "2021-06-30T11:10:18.096255Z"
    }
   },
   "outputs": [],
   "source": [
    "basic_preprocessing = ColumnTransformer([\n",
    "(\"cat_transformer\", cat_transformer, categorical),\n",
    "(\"num_transformer\", num_transformer, numerical)\n",
    "], sparse_threshold=0)"
   ]
  },
  {
   "cell_type": "code",
   "execution_count": 27,
   "metadata": {
    "ExecuteTime": {
     "end_time": "2021-06-30T11:10:18.130754Z",
     "start_time": "2021-06-30T11:10:18.110118Z"
    }
   },
   "outputs": [
    {
     "data": {
      "text/html": [
       "<style>#sk-e920e63c-5b37-46d9-bbcf-5be6089a5a1a {color: black;background-color: white;}#sk-e920e63c-5b37-46d9-bbcf-5be6089a5a1a pre{padding: 0;}#sk-e920e63c-5b37-46d9-bbcf-5be6089a5a1a div.sk-toggleable {background-color: white;}#sk-e920e63c-5b37-46d9-bbcf-5be6089a5a1a label.sk-toggleable__label {cursor: pointer;display: block;width: 100%;margin-bottom: 0;padding: 0.2em 0.3em;box-sizing: border-box;text-align: center;}#sk-e920e63c-5b37-46d9-bbcf-5be6089a5a1a div.sk-toggleable__content {max-height: 0;max-width: 0;overflow: hidden;text-align: left;background-color: #f0f8ff;}#sk-e920e63c-5b37-46d9-bbcf-5be6089a5a1a div.sk-toggleable__content pre {margin: 0.2em;color: black;border-radius: 0.25em;background-color: #f0f8ff;}#sk-e920e63c-5b37-46d9-bbcf-5be6089a5a1a input.sk-toggleable__control:checked~div.sk-toggleable__content {max-height: 200px;max-width: 100%;overflow: auto;}#sk-e920e63c-5b37-46d9-bbcf-5be6089a5a1a div.sk-estimator input.sk-toggleable__control:checked~label.sk-toggleable__label {background-color: #d4ebff;}#sk-e920e63c-5b37-46d9-bbcf-5be6089a5a1a div.sk-label input.sk-toggleable__control:checked~label.sk-toggleable__label {background-color: #d4ebff;}#sk-e920e63c-5b37-46d9-bbcf-5be6089a5a1a input.sk-hidden--visually {border: 0;clip: rect(1px 1px 1px 1px);clip: rect(1px, 1px, 1px, 1px);height: 1px;margin: -1px;overflow: hidden;padding: 0;position: absolute;width: 1px;}#sk-e920e63c-5b37-46d9-bbcf-5be6089a5a1a div.sk-estimator {font-family: monospace;background-color: #f0f8ff;margin: 0.25em 0.25em;border: 1px dotted black;border-radius: 0.25em;box-sizing: border-box;}#sk-e920e63c-5b37-46d9-bbcf-5be6089a5a1a div.sk-estimator:hover {background-color: #d4ebff;}#sk-e920e63c-5b37-46d9-bbcf-5be6089a5a1a div.sk-parallel-item::after {content: \"\";width: 100%;border-bottom: 1px solid gray;flex-grow: 1;}#sk-e920e63c-5b37-46d9-bbcf-5be6089a5a1a div.sk-label:hover label.sk-toggleable__label {background-color: #d4ebff;}#sk-e920e63c-5b37-46d9-bbcf-5be6089a5a1a div.sk-serial::before {content: \"\";position: absolute;border-left: 1px solid gray;box-sizing: border-box;top: 2em;bottom: 0;left: 50%;}#sk-e920e63c-5b37-46d9-bbcf-5be6089a5a1a div.sk-serial {display: flex;flex-direction: column;align-items: center;background-color: white;}#sk-e920e63c-5b37-46d9-bbcf-5be6089a5a1a div.sk-item {z-index: 1;}#sk-e920e63c-5b37-46d9-bbcf-5be6089a5a1a div.sk-parallel {display: flex;align-items: stretch;justify-content: center;background-color: white;}#sk-e920e63c-5b37-46d9-bbcf-5be6089a5a1a div.sk-parallel-item {display: flex;flex-direction: column;position: relative;background-color: white;}#sk-e920e63c-5b37-46d9-bbcf-5be6089a5a1a div.sk-parallel-item:first-child::after {align-self: flex-end;width: 50%;}#sk-e920e63c-5b37-46d9-bbcf-5be6089a5a1a div.sk-parallel-item:last-child::after {align-self: flex-start;width: 50%;}#sk-e920e63c-5b37-46d9-bbcf-5be6089a5a1a div.sk-parallel-item:only-child::after {width: 0;}#sk-e920e63c-5b37-46d9-bbcf-5be6089a5a1a div.sk-dashed-wrapped {border: 1px dashed gray;margin: 0.2em;box-sizing: border-box;padding-bottom: 0.1em;background-color: white;position: relative;}#sk-e920e63c-5b37-46d9-bbcf-5be6089a5a1a div.sk-label label {font-family: monospace;font-weight: bold;background-color: white;display: inline-block;line-height: 1.2em;}#sk-e920e63c-5b37-46d9-bbcf-5be6089a5a1a div.sk-label-container {position: relative;z-index: 2;text-align: center;}#sk-e920e63c-5b37-46d9-bbcf-5be6089a5a1a div.sk-container {display: inline-block;position: relative;}</style><div id=\"sk-e920e63c-5b37-46d9-bbcf-5be6089a5a1a\" class\"sk-top-container\"><div class=\"sk-container\"><div class=\"sk-item sk-dashed-wrapped\"><div class=\"sk-label-container\"><div class=\"sk-label sk-toggleable\"><input class=\"sk-toggleable__control sk-hidden--visually\" id=\"49a4a2c6-b20a-4c7f-ab4a-abfddaa5da65\" type=\"checkbox\" ><label class=\"sk-toggleable__label\" for=\"49a4a2c6-b20a-4c7f-ab4a-abfddaa5da65\">ColumnTransformer</label><div class=\"sk-toggleable__content\"><pre>ColumnTransformer(sparse_threshold=0,\n",
       "                  transformers=[('cat_transformer',\n",
       "                                 OneHotEncoder(handle_unknown='ignore',\n",
       "                                               sparse=False),\n",
       "                                 ['original_language', 'status', 'all_genres',\n",
       "                                  'top_countries', 'available_in_english']),\n",
       "                                ('num_transformer', RobustScaler(),\n",
       "                                 ['duration_min', 'budget',\n",
       "                                  'number_of_awards_won',\n",
       "                                  'number_of_nominations', 'has_collection',\n",
       "                                  'number_of_top_productions'])])</pre></div></div></div><div class=\"sk-parallel\"><div class=\"sk-parallel-item\"><div class=\"sk-item\"><div class=\"sk-label-container\"><div class=\"sk-label sk-toggleable\"><input class=\"sk-toggleable__control sk-hidden--visually\" id=\"c7b22acd-c457-49d8-9f8f-c9c7656b7c64\" type=\"checkbox\" ><label class=\"sk-toggleable__label\" for=\"c7b22acd-c457-49d8-9f8f-c9c7656b7c64\">cat_transformer</label><div class=\"sk-toggleable__content\"><pre>['original_language', 'status', 'all_genres', 'top_countries', 'available_in_english']</pre></div></div></div><div class=\"sk-serial\"><div class=\"sk-item\"><div class=\"sk-estimator sk-toggleable\"><input class=\"sk-toggleable__control sk-hidden--visually\" id=\"54e5cb9a-3e4a-457f-b0ac-48de14441877\" type=\"checkbox\" ><label class=\"sk-toggleable__label\" for=\"54e5cb9a-3e4a-457f-b0ac-48de14441877\">OneHotEncoder</label><div class=\"sk-toggleable__content\"><pre>OneHotEncoder(handle_unknown='ignore', sparse=False)</pre></div></div></div></div></div></div><div class=\"sk-parallel-item\"><div class=\"sk-item\"><div class=\"sk-label-container\"><div class=\"sk-label sk-toggleable\"><input class=\"sk-toggleable__control sk-hidden--visually\" id=\"9351f116-e767-4152-bd3a-715d55f71127\" type=\"checkbox\" ><label class=\"sk-toggleable__label\" for=\"9351f116-e767-4152-bd3a-715d55f71127\">num_transformer</label><div class=\"sk-toggleable__content\"><pre>['duration_min', 'budget', 'number_of_awards_won', 'number_of_nominations', 'has_collection', 'number_of_top_productions']</pre></div></div></div><div class=\"sk-serial\"><div class=\"sk-item\"><div class=\"sk-estimator sk-toggleable\"><input class=\"sk-toggleable__control sk-hidden--visually\" id=\"d9df1133-d887-4d8f-8c14-d31f8c2f6052\" type=\"checkbox\" ><label class=\"sk-toggleable__label\" for=\"d9df1133-d887-4d8f-8c14-d31f8c2f6052\">RobustScaler</label><div class=\"sk-toggleable__content\"><pre>RobustScaler()</pre></div></div></div></div></div></div></div></div></div></div>"
      ],
      "text/plain": [
       "ColumnTransformer(sparse_threshold=0,\n",
       "                  transformers=[('cat_transformer',\n",
       "                                 OneHotEncoder(handle_unknown='ignore',\n",
       "                                               sparse=False),\n",
       "                                 ['original_language', 'status', 'all_genres',\n",
       "                                  'top_countries', 'available_in_english']),\n",
       "                                ('num_transformer', RobustScaler(),\n",
       "                                 ['duration_min', 'budget',\n",
       "                                  'number_of_awards_won',\n",
       "                                  'number_of_nominations', 'has_collection',\n",
       "                                  'number_of_top_productions'])])"
      ]
     },
     "execution_count": 27,
     "metadata": {},
     "output_type": "execute_result"
    }
   ],
   "source": [
    "basic_preprocessing"
   ]
  },
  {
   "cell_type": "markdown",
   "metadata": {},
   "source": [
    "**📝 Encode the features and store the result in the variable `X_basic_preprocessing`.**"
   ]
  },
  {
   "cell_type": "code",
   "execution_count": 28,
   "metadata": {
    "ExecuteTime": {
     "end_time": "2021-06-30T11:10:18.258517Z",
     "start_time": "2021-06-30T11:10:18.133087Z"
    },
    "tags": [
     "challengify"
    ]
   },
   "outputs": [],
   "source": [
    "X_basic_preprocessing = basic_preprocessing.fit_transform(X)"
   ]
  },
  {
   "cell_type": "markdown",
   "metadata": {},
   "source": [
    "**❓ How many features has been generated by the preprocessing? What do you think about this number?**"
   ]
  },
  {
   "cell_type": "code",
   "execution_count": 29,
   "metadata": {
    "ExecuteTime": {
     "end_time": "2021-06-30T11:10:18.266355Z",
     "start_time": "2021-06-30T11:10:18.261017Z"
    }
   },
   "outputs": [
    {
     "data": {
      "text/plain": [
       "((6463, 15), (6463, 1118))"
      ]
     },
     "execution_count": 29,
     "metadata": {},
     "output_type": "execute_result"
    }
   ],
   "source": [
    "X.shape, X_basic_preprocessing.shape"
   ]
  },
  {
   "cell_type": "markdown",
   "metadata": {
    "tags": [
     "challengify"
    ]
   },
   "source": [
    "We had 15 features, we now have 1118 after preprocessing. This is alot of feature, we might need to drop unsignificant features to speed later use of the model"
   ]
  },
  {
   "cell_type": "markdown",
   "metadata": {},
   "source": [
    "#### Modeling pipeline\n",
    "\n",
    "Let's add a model to our pipe. With so many features one-hot-encoded, we **need a model which can act as a feature selector**\n",
    "\n",
    "👉 A linear model regularized with L1 penalty is a good starting point.\n",
    "\n",
    "\n",
    "**📝 Create a `basic_pipeline` which encapsulate the `basic_preprocessing` pipeline + a linear model with a L1 penalty**\n",
    "\n",
    "- store the resulting pipeline as `basic_pipeline`\n",
    "- don't fine-tune it\n",
    "\n",
    "\n",
    "<details>\n",
    "    <summary>Hints</summary>\n",
    "\n",
    "Choose your model from the list [here](https://scikit-learn.org/stable/modules/classes.html#module-sklearn.linear_model)\n",
    "\n",
    "</details>"
   ]
  },
  {
   "cell_type": "code",
   "execution_count": 30,
   "metadata": {
    "ExecuteTime": {
     "end_time": "2021-06-30T11:10:18.323004Z",
     "start_time": "2021-06-30T11:10:18.269122Z"
    }
   },
   "outputs": [],
   "source": [
    "from sklearn.linear_model import Lasso"
   ]
  },
  {
   "cell_type": "code",
   "execution_count": 31,
   "metadata": {
    "ExecuteTime": {
     "end_time": "2021-06-30T11:10:18.353335Z",
     "start_time": "2021-06-30T11:10:18.326296Z"
    },
    "tags": [
     "challengify"
    ]
   },
   "outputs": [
    {
     "data": {
      "text/html": [
       "<style>#sk-e75ff308-d9b6-45d6-90c1-bb7ab5fc45b4 {color: black;background-color: white;}#sk-e75ff308-d9b6-45d6-90c1-bb7ab5fc45b4 pre{padding: 0;}#sk-e75ff308-d9b6-45d6-90c1-bb7ab5fc45b4 div.sk-toggleable {background-color: white;}#sk-e75ff308-d9b6-45d6-90c1-bb7ab5fc45b4 label.sk-toggleable__label {cursor: pointer;display: block;width: 100%;margin-bottom: 0;padding: 0.2em 0.3em;box-sizing: border-box;text-align: center;}#sk-e75ff308-d9b6-45d6-90c1-bb7ab5fc45b4 div.sk-toggleable__content {max-height: 0;max-width: 0;overflow: hidden;text-align: left;background-color: #f0f8ff;}#sk-e75ff308-d9b6-45d6-90c1-bb7ab5fc45b4 div.sk-toggleable__content pre {margin: 0.2em;color: black;border-radius: 0.25em;background-color: #f0f8ff;}#sk-e75ff308-d9b6-45d6-90c1-bb7ab5fc45b4 input.sk-toggleable__control:checked~div.sk-toggleable__content {max-height: 200px;max-width: 100%;overflow: auto;}#sk-e75ff308-d9b6-45d6-90c1-bb7ab5fc45b4 div.sk-estimator input.sk-toggleable__control:checked~label.sk-toggleable__label {background-color: #d4ebff;}#sk-e75ff308-d9b6-45d6-90c1-bb7ab5fc45b4 div.sk-label input.sk-toggleable__control:checked~label.sk-toggleable__label {background-color: #d4ebff;}#sk-e75ff308-d9b6-45d6-90c1-bb7ab5fc45b4 input.sk-hidden--visually {border: 0;clip: rect(1px 1px 1px 1px);clip: rect(1px, 1px, 1px, 1px);height: 1px;margin: -1px;overflow: hidden;padding: 0;position: absolute;width: 1px;}#sk-e75ff308-d9b6-45d6-90c1-bb7ab5fc45b4 div.sk-estimator {font-family: monospace;background-color: #f0f8ff;margin: 0.25em 0.25em;border: 1px dotted black;border-radius: 0.25em;box-sizing: border-box;}#sk-e75ff308-d9b6-45d6-90c1-bb7ab5fc45b4 div.sk-estimator:hover {background-color: #d4ebff;}#sk-e75ff308-d9b6-45d6-90c1-bb7ab5fc45b4 div.sk-parallel-item::after {content: \"\";width: 100%;border-bottom: 1px solid gray;flex-grow: 1;}#sk-e75ff308-d9b6-45d6-90c1-bb7ab5fc45b4 div.sk-label:hover label.sk-toggleable__label {background-color: #d4ebff;}#sk-e75ff308-d9b6-45d6-90c1-bb7ab5fc45b4 div.sk-serial::before {content: \"\";position: absolute;border-left: 1px solid gray;box-sizing: border-box;top: 2em;bottom: 0;left: 50%;}#sk-e75ff308-d9b6-45d6-90c1-bb7ab5fc45b4 div.sk-serial {display: flex;flex-direction: column;align-items: center;background-color: white;}#sk-e75ff308-d9b6-45d6-90c1-bb7ab5fc45b4 div.sk-item {z-index: 1;}#sk-e75ff308-d9b6-45d6-90c1-bb7ab5fc45b4 div.sk-parallel {display: flex;align-items: stretch;justify-content: center;background-color: white;}#sk-e75ff308-d9b6-45d6-90c1-bb7ab5fc45b4 div.sk-parallel-item {display: flex;flex-direction: column;position: relative;background-color: white;}#sk-e75ff308-d9b6-45d6-90c1-bb7ab5fc45b4 div.sk-parallel-item:first-child::after {align-self: flex-end;width: 50%;}#sk-e75ff308-d9b6-45d6-90c1-bb7ab5fc45b4 div.sk-parallel-item:last-child::after {align-self: flex-start;width: 50%;}#sk-e75ff308-d9b6-45d6-90c1-bb7ab5fc45b4 div.sk-parallel-item:only-child::after {width: 0;}#sk-e75ff308-d9b6-45d6-90c1-bb7ab5fc45b4 div.sk-dashed-wrapped {border: 1px dashed gray;margin: 0.2em;box-sizing: border-box;padding-bottom: 0.1em;background-color: white;position: relative;}#sk-e75ff308-d9b6-45d6-90c1-bb7ab5fc45b4 div.sk-label label {font-family: monospace;font-weight: bold;background-color: white;display: inline-block;line-height: 1.2em;}#sk-e75ff308-d9b6-45d6-90c1-bb7ab5fc45b4 div.sk-label-container {position: relative;z-index: 2;text-align: center;}#sk-e75ff308-d9b6-45d6-90c1-bb7ab5fc45b4 div.sk-container {display: inline-block;position: relative;}</style><div id=\"sk-e75ff308-d9b6-45d6-90c1-bb7ab5fc45b4\" class\"sk-top-container\"><div class=\"sk-container\"><div class=\"sk-item sk-dashed-wrapped\"><div class=\"sk-label-container\"><div class=\"sk-label sk-toggleable\"><input class=\"sk-toggleable__control sk-hidden--visually\" id=\"8948ecae-0c12-412c-b58d-d790ee050181\" type=\"checkbox\" ><label class=\"sk-toggleable__label\" for=\"8948ecae-0c12-412c-b58d-d790ee050181\">Pipeline</label><div class=\"sk-toggleable__content\"><pre>Pipeline(steps=[('preprocessor',\n",
       "                 ColumnTransformer(sparse_threshold=0,\n",
       "                                   transformers=[('cat_transformer',\n",
       "                                                  OneHotEncoder(handle_unknown='ignore',\n",
       "                                                                sparse=False),\n",
       "                                                  ['original_language',\n",
       "                                                   'status', 'all_genres',\n",
       "                                                   'top_countries',\n",
       "                                                   'available_in_english']),\n",
       "                                                 ('num_transformer',\n",
       "                                                  RobustScaler(),\n",
       "                                                  ['duration_min', 'budget',\n",
       "                                                   'number_of_awards_won',\n",
       "                                                   'number_of_nominations',\n",
       "                                                   'has_collection',\n",
       "                                                   'number_of_top_productions'])])),\n",
       "                ('linear_regression', Lasso())])</pre></div></div></div><div class=\"sk-serial\"><div class=\"sk-item sk-dashed-wrapped\"><div class=\"sk-label-container\"><div class=\"sk-label sk-toggleable\"><input class=\"sk-toggleable__control sk-hidden--visually\" id=\"7e72b8fb-c40d-4258-925d-8ab376a316ac\" type=\"checkbox\" ><label class=\"sk-toggleable__label\" for=\"7e72b8fb-c40d-4258-925d-8ab376a316ac\">preprocessor: ColumnTransformer</label><div class=\"sk-toggleable__content\"><pre>ColumnTransformer(sparse_threshold=0,\n",
       "                  transformers=[('cat_transformer',\n",
       "                                 OneHotEncoder(handle_unknown='ignore',\n",
       "                                               sparse=False),\n",
       "                                 ['original_language', 'status', 'all_genres',\n",
       "                                  'top_countries', 'available_in_english']),\n",
       "                                ('num_transformer', RobustScaler(),\n",
       "                                 ['duration_min', 'budget',\n",
       "                                  'number_of_awards_won',\n",
       "                                  'number_of_nominations', 'has_collection',\n",
       "                                  'number_of_top_productions'])])</pre></div></div></div><div class=\"sk-parallel\"><div class=\"sk-parallel-item\"><div class=\"sk-item\"><div class=\"sk-label-container\"><div class=\"sk-label sk-toggleable\"><input class=\"sk-toggleable__control sk-hidden--visually\" id=\"f1cbbfaa-ef4b-41f2-a7a1-235c7e89e61f\" type=\"checkbox\" ><label class=\"sk-toggleable__label\" for=\"f1cbbfaa-ef4b-41f2-a7a1-235c7e89e61f\">cat_transformer</label><div class=\"sk-toggleable__content\"><pre>['original_language', 'status', 'all_genres', 'top_countries', 'available_in_english']</pre></div></div></div><div class=\"sk-serial\"><div class=\"sk-item\"><div class=\"sk-estimator sk-toggleable\"><input class=\"sk-toggleable__control sk-hidden--visually\" id=\"c8d06114-43c7-49d0-acc4-10dd1a50597c\" type=\"checkbox\" ><label class=\"sk-toggleable__label\" for=\"c8d06114-43c7-49d0-acc4-10dd1a50597c\">OneHotEncoder</label><div class=\"sk-toggleable__content\"><pre>OneHotEncoder(handle_unknown='ignore', sparse=False)</pre></div></div></div></div></div></div><div class=\"sk-parallel-item\"><div class=\"sk-item\"><div class=\"sk-label-container\"><div class=\"sk-label sk-toggleable\"><input class=\"sk-toggleable__control sk-hidden--visually\" id=\"9683b58f-cd0b-49a0-a101-b5f681059c3d\" type=\"checkbox\" ><label class=\"sk-toggleable__label\" for=\"9683b58f-cd0b-49a0-a101-b5f681059c3d\">num_transformer</label><div class=\"sk-toggleable__content\"><pre>['duration_min', 'budget', 'number_of_awards_won', 'number_of_nominations', 'has_collection', 'number_of_top_productions']</pre></div></div></div><div class=\"sk-serial\"><div class=\"sk-item\"><div class=\"sk-estimator sk-toggleable\"><input class=\"sk-toggleable__control sk-hidden--visually\" id=\"7267de89-ce98-4abb-b409-dd9e5f1dbbba\" type=\"checkbox\" ><label class=\"sk-toggleable__label\" for=\"7267de89-ce98-4abb-b409-dd9e5f1dbbba\">RobustScaler</label><div class=\"sk-toggleable__content\"><pre>RobustScaler()</pre></div></div></div></div></div></div></div></div><div class=\"sk-item\"><div class=\"sk-estimator sk-toggleable\"><input class=\"sk-toggleable__control sk-hidden--visually\" id=\"38684f9c-b960-49f1-a39e-453ab4f196c5\" type=\"checkbox\" ><label class=\"sk-toggleable__label\" for=\"38684f9c-b960-49f1-a39e-453ab4f196c5\">Lasso</label><div class=\"sk-toggleable__content\"><pre>Lasso()</pre></div></div></div></div></div></div></div>"
      ],
      "text/plain": [
       "Pipeline(steps=[('preprocessor',\n",
       "                 ColumnTransformer(sparse_threshold=0,\n",
       "                                   transformers=[('cat_transformer',\n",
       "                                                  OneHotEncoder(handle_unknown='ignore',\n",
       "                                                                sparse=False),\n",
       "                                                  ['original_language',\n",
       "                                                   'status', 'all_genres',\n",
       "                                                   'top_countries',\n",
       "                                                   'available_in_english']),\n",
       "                                                 ('num_transformer',\n",
       "                                                  RobustScaler(),\n",
       "                                                  ['duration_min', 'budget',\n",
       "                                                   'number_of_awards_won',\n",
       "                                                   'number_of_nominations',\n",
       "                                                   'has_collection',\n",
       "                                                   'number_of_top_productions'])])),\n",
       "                ('linear_regression', Lasso())])"
      ]
     },
     "execution_count": 31,
     "metadata": {},
     "output_type": "execute_result"
    }
   ],
   "source": [
    "basic_pipeline = Pipeline([\n",
    "    (\"preprocessor\", basic_preprocessing),\n",
    "    (\"linear_regression\", Lasso())\n",
    "])\n",
    "\n",
    "basic_pipeline"
   ]
  },
  {
   "cell_type": "markdown",
   "metadata": {},
   "source": [
    "### Cross-validated baseline\n",
    "\n",
    "**📝 Perform a cross-validated evaluation of your baseline model using the metric you defined above. Store the results of this evaluation as an `array` of floating scores in the `basic_scores` variable.**"
   ]
  },
  {
   "cell_type": "code",
   "execution_count": 32,
   "metadata": {
    "ExecuteTime": {
     "end_time": "2021-06-30T11:10:19.392767Z",
     "start_time": "2021-06-30T11:10:18.355777Z"
    },
    "scrolled": false,
    "tags": [
     "challengify"
    ]
   },
   "outputs": [],
   "source": [
    "basic_scores = cross_validate(basic_pipeline, X, y, cv = 5, scoring=scoring)"
   ]
  },
  {
   "cell_type": "code",
   "execution_count": 33,
   "metadata": {
    "ExecuteTime": {
     "end_time": "2021-06-30T11:10:19.416002Z",
     "start_time": "2021-06-30T11:10:19.404744Z"
    }
   },
   "outputs": [
    {
     "data": {
      "text/plain": [
       "{'fit_time': array([0.23307562, 0.20540929, 0.16450977, 0.15311599, 0.18767524]),\n",
       " 'score_time': array([0.01831245, 0.01633716, 0.0147965 , 0.01670933, 0.01545835]),\n",
       " 'test_score': array([-0.83501648, -0.96666569, -0.91112822, -0.90045368, -0.90539316])}"
      ]
     },
     "execution_count": 33,
     "metadata": {},
     "output_type": "execute_result"
    }
   ],
   "source": [
    "basic_scores"
   ]
  },
  {
   "cell_type": "markdown",
   "metadata": {},
   "source": [
    "### 🧪 Save your results\n",
    "\n",
    "Run the following cell to save your results"
   ]
  },
  {
   "cell_type": "code",
   "execution_count": 34,
   "metadata": {
    "ExecuteTime": {
     "end_time": "2021-06-30T11:10:19.450415Z",
     "start_time": "2021-06-30T11:10:19.426282Z"
    }
   },
   "outputs": [],
   "source": [
    "ChallengeResult(\n",
    "    'baseline',\n",
    "    metric=scoring,\n",
    "    features=[categorical,numerical],\n",
    "    preproc=basic_preprocessing,\n",
    "    preproc_shape=X_basic_preprocessing.shape,\n",
    "    pipe=basic_pipeline,\n",
    "    scores=basic_scores\n",
    ").write()"
   ]
  },
  {
   "cell_type": "markdown",
   "metadata": {},
   "source": [
    "## Feature engineering"
   ]
  },
  {
   "cell_type": "markdown",
   "metadata": {},
   "source": [
    "### Time Features\n",
    "\n",
    "\n",
    "👉 Let's try to improve performance using the feature `release_date`, and especially its `month` and `year`.\n",
    "\n",
    "ℹ️ If you want to skip this section, you can move directly to the next one: _Advanced categorical features_."
   ]
  },
  {
   "cell_type": "markdown",
   "metadata": {},
   "source": [
    "**📝 Complete the custom transformer `TimeFeaturesExtractor` below**\n",
    "\n",
    "Running\n",
    "```python\n",
    "TimeFeaturesExtractor().fit_transform(X[['release_date']])\n",
    "``` \n",
    "should return something like\n",
    "\n",
    "|    |   month |   year |\n",
    "|---:|--------:|-------:|\n",
    "|  0 |       2 |   2015 |\n",
    "|  1 |       8 |   2004 |\n",
    "|  2 |      10 |   2014 |\n",
    "|  3 |       3 |   2012 |\n",
    "|  4 |       8 |   2012 |\n"
   ]
  },
  {
   "cell_type": "code",
   "execution_count": 35,
   "metadata": {
    "ExecuteTime": {
     "end_time": "2021-06-30T11:10:19.479431Z",
     "start_time": "2021-06-30T11:10:19.458781Z"
    }
   },
   "outputs": [
    {
     "data": {
      "text/plain": [
       "0       2015-02-20\n",
       "1       2004-08-06\n",
       "2       2014-10-10\n",
       "3       2012-03-09\n",
       "4       2012-08-30\n",
       "           ...    \n",
       "6459    2001-08-03\n",
       "6460    2004-08-20\n",
       "6461    1982-12-08\n",
       "6462    2015-02-04\n",
       "6463    1962-09-20\n",
       "Name: release_date, Length: 6463, dtype: object"
      ]
     },
     "execution_count": 35,
     "metadata": {},
     "output_type": "execute_result"
    }
   ],
   "source": [
    "data.release_date"
   ]
  },
  {
   "cell_type": "code",
   "execution_count": 36,
   "metadata": {
    "ExecuteTime": {
     "end_time": "2021-06-30T11:10:19.507195Z",
     "start_time": "2021-06-30T11:10:19.487258Z"
    }
   },
   "outputs": [],
   "source": [
    "from sklearn.base import BaseEstimator, TransformerMixin\n",
    "import re\n",
    "\n",
    "class TimeFeaturesExtractor(BaseEstimator, TransformerMixin):\n",
    "    \"\"\"Extract the 2 time features from a date\"\"\"\n",
    "    \n",
    "    def fit(self, X, y=None):\n",
    "        return self\n",
    "    \n",
    "    def transform(self, X, y=None):\n",
    "        \"\"\"\n",
    "        Params:\n",
    "        X: DataFrame\n",
    "        y: Series\n",
    "        \n",
    "        Returns a DataFrame with 2 columns containing the time features as integers extracted from the release_date.\n",
    "        \"\"\"\n",
    "        egg = X.release_date\n",
    "        return self.regexor(egg)\n",
    "        \n",
    "        \n",
    "        \n",
    "        \n",
    "    def regexor(self, line, y = None):\n",
    "        \n",
    "        year = []\n",
    "        month = []\n",
    "        regex = re.compile('((?P<year>\\d{4})-(?P<month>\\d{2})-(\\d{2}))')\n",
    "        for line in list(line):\n",
    "            \n",
    "            m = regex.search(line)\n",
    "            year.append(int(m.group(\"year\")))\n",
    "            month.append(int(m.group(\"month\")))\n",
    "            shaped = pd.DataFrame(year, month)\n",
    "            shaped.reset_index(inplace=True)\n",
    "            shaped.rename(columns={\"index\":\"month\", 0:\"year\"}, inplace = True)\n",
    "            \n",
    "        return shaped"
   ]
  },
  {
   "cell_type": "code",
   "execution_count": 48,
   "metadata": {
    "ExecuteTime": {
     "end_time": "2021-06-30T11:12:08.906565Z",
     "start_time": "2021-06-30T11:11:53.369048Z"
    }
   },
   "outputs": [
    {
     "data": {
      "text/plain": [
       "(6463, 2)"
      ]
     },
     "execution_count": 48,
     "metadata": {},
     "output_type": "execute_result"
    }
   ],
   "source": [
    "# Try your transformer and save your new features here\n",
    "X_time_features = TimeFeaturesExtractor().fit_transform(X[['release_date']])\n",
    "X_time_features.shape"
   ]
  },
  {
   "cell_type": "code",
   "execution_count": 49,
   "metadata": {
    "ExecuteTime": {
     "end_time": "2021-06-30T11:12:23.636724Z",
     "start_time": "2021-06-30T11:12:23.631059Z"
    }
   },
   "outputs": [
    {
     "data": {
      "text/plain": [
       "(6463, 15)"
      ]
     },
     "execution_count": 49,
     "metadata": {},
     "output_type": "execute_result"
    }
   ],
   "source": [
    "X.shape"
   ]
  },
  {
   "cell_type": "markdown",
   "metadata": {},
   "source": [
    "We still have 2 problems to solve\n",
    "- `month` is cyclical: 12 should be as close to 1 as to 11, right? \n",
    "- `year` is not scaled\n",
    "\n",
    "**📝 Build a final custom transformer `CyclicalEncoder` so that**\n",
    "\n",
    "Running\n",
    "```python\n",
    "CyclicalEncoder().fit_transform(X_time_features)\n",
    "``` \n",
    "should return something like this\n",
    "\n",
    "|    |    month_cos |   month_sin |      year |\n",
    "|---:|-------------:|------------:|----------:|\n",
    "|  0 |  0.5         |    0.866025 | 0.0466039 |\n",
    "|  1 | -0.5         |   -0.866025 | 0.0411502 |\n",
    "|  2 |  0.5         |   -0.866025 | 0.0461081 |\n",
    "|  3 |  6.12323e-17 |    1        | 0.0451165 |\n",
    "|  4 | -0.5         |   -0.866025 | 0.0451165 |\n",
    "\n",
    "With the cyclical encoding is done as below\n",
    "- `month_cos = np.cos(2 * math.pi / 12 * X[['month']]) `\n",
    "- `month_sin = np.sin(2 * math.pi / 12 * X[['month']]) `\n",
    "\n",
    "And the `year` begin min-max scaled"
   ]
  },
  {
   "cell_type": "code",
   "execution_count": null,
   "metadata": {
    "ExecuteTime": {
     "end_time": "2021-06-30T12:28:53.766456Z",
     "start_time": "2021-06-30T12:26:31.848Z"
    }
   },
   "outputs": [],
   "source": [
    "from sklearn.base import BaseEstimator, TransformerMixin\n",
    "import math\n",
    "\n",
    "class CyclicalEncoder(BaseEstimator, TransformerMixin):\n",
    "    \"\"\"\n",
    "    Encode a cyclical feature\n",
    "    \"\"\"\n",
    "    \n",
    "    def __init__(self):\n",
    "        pass\n",
    "\n",
    "    def fit(self, X, y=None):\n",
    "        \"\"\"\n",
    "        Compute here what you need for the transform phase and store it as instance variable\n",
    "        \"\"\"\n",
    "        self.year_max = X[\"year\"].max()\n",
    "        self.year_min = X[\"year\"].min()\n",
    "        \n",
    "        return self\n",
    "\n",
    "    def transform(self, X, y=None):\n",
    "        \"\"\"\n",
    "        Compute and returns the final DataFrame\n",
    "        \"\"\"\n",
    "        reshaped = X.copy()\n",
    "        reshaped[\"month_cos\"] = np.cos(2 * math.pi / 12 * reshaped[['month']])\n",
    "        reshaped[\"month_sin\"] = np.sin(2 * math.pi / 12 * reshaped[['month']])\n",
    "        reshaped[\"year\"] = (reshaped[\"year\"] - self.year_min) / (self.year_max - self.year_min)\n",
    "        return reshaped"
   ]
  },
  {
   "cell_type": "code",
   "execution_count": 134,
   "metadata": {
    "ExecuteTime": {
     "end_time": "2021-06-30T12:30:31.818584Z",
     "start_time": "2021-06-30T12:30:31.790105Z"
    }
   },
   "outputs": [
    {
     "data": {
      "text/html": [
       "<div>\n",
       "<style scoped>\n",
       "    .dataframe tbody tr th:only-of-type {\n",
       "        vertical-align: middle;\n",
       "    }\n",
       "\n",
       "    .dataframe tbody tr th {\n",
       "        vertical-align: top;\n",
       "    }\n",
       "\n",
       "    .dataframe thead th {\n",
       "        text-align: right;\n",
       "    }\n",
       "</style>\n",
       "<table border=\"1\" class=\"dataframe\">\n",
       "  <thead>\n",
       "    <tr style=\"text-align: right;\">\n",
       "      <th></th>\n",
       "      <th>month_sin</th>\n",
       "      <th>month_cos</th>\n",
       "      <th>year</th>\n",
       "    </tr>\n",
       "  </thead>\n",
       "  <tbody>\n",
       "    <tr>\n",
       "      <th>0</th>\n",
       "      <td>8.660254e-01</td>\n",
       "      <td>5.000000e-01</td>\n",
       "      <td>0.979167</td>\n",
       "    </tr>\n",
       "    <tr>\n",
       "      <th>1</th>\n",
       "      <td>-8.660254e-01</td>\n",
       "      <td>-5.000000e-01</td>\n",
       "      <td>0.864583</td>\n",
       "    </tr>\n",
       "    <tr>\n",
       "      <th>2</th>\n",
       "      <td>-8.660254e-01</td>\n",
       "      <td>5.000000e-01</td>\n",
       "      <td>0.968750</td>\n",
       "    </tr>\n",
       "    <tr>\n",
       "      <th>3</th>\n",
       "      <td>1.000000e+00</td>\n",
       "      <td>6.123234e-17</td>\n",
       "      <td>0.947917</td>\n",
       "    </tr>\n",
       "    <tr>\n",
       "      <th>4</th>\n",
       "      <td>-8.660254e-01</td>\n",
       "      <td>-5.000000e-01</td>\n",
       "      <td>0.947917</td>\n",
       "    </tr>\n",
       "    <tr>\n",
       "      <th>...</th>\n",
       "      <td>...</td>\n",
       "      <td>...</td>\n",
       "      <td>...</td>\n",
       "    </tr>\n",
       "    <tr>\n",
       "      <th>6458</th>\n",
       "      <td>-8.660254e-01</td>\n",
       "      <td>-5.000000e-01</td>\n",
       "      <td>0.833333</td>\n",
       "    </tr>\n",
       "    <tr>\n",
       "      <th>6459</th>\n",
       "      <td>-8.660254e-01</td>\n",
       "      <td>-5.000000e-01</td>\n",
       "      <td>0.864583</td>\n",
       "    </tr>\n",
       "    <tr>\n",
       "      <th>6460</th>\n",
       "      <td>-2.449294e-16</td>\n",
       "      <td>1.000000e+00</td>\n",
       "      <td>0.635417</td>\n",
       "    </tr>\n",
       "    <tr>\n",
       "      <th>6461</th>\n",
       "      <td>8.660254e-01</td>\n",
       "      <td>5.000000e-01</td>\n",
       "      <td>0.979167</td>\n",
       "    </tr>\n",
       "    <tr>\n",
       "      <th>6462</th>\n",
       "      <td>-1.000000e+00</td>\n",
       "      <td>-1.836970e-16</td>\n",
       "      <td>0.427083</td>\n",
       "    </tr>\n",
       "  </tbody>\n",
       "</table>\n",
       "<p>6463 rows × 3 columns</p>\n",
       "</div>"
      ],
      "text/plain": [
       "         month_sin     month_cos      year\n",
       "0     8.660254e-01  5.000000e-01  0.979167\n",
       "1    -8.660254e-01 -5.000000e-01  0.864583\n",
       "2    -8.660254e-01  5.000000e-01  0.968750\n",
       "3     1.000000e+00  6.123234e-17  0.947917\n",
       "4    -8.660254e-01 -5.000000e-01  0.947917\n",
       "...            ...           ...       ...\n",
       "6458 -8.660254e-01 -5.000000e-01  0.833333\n",
       "6459 -8.660254e-01 -5.000000e-01  0.864583\n",
       "6460 -2.449294e-16  1.000000e+00  0.635417\n",
       "6461  8.660254e-01  5.000000e-01  0.979167\n",
       "6462 -1.000000e+00 -1.836970e-16  0.427083\n",
       "\n",
       "[6463 rows x 3 columns]"
      ]
     },
     "execution_count": 134,
     "metadata": {},
     "output_type": "execute_result"
    }
   ],
   "source": [
    "# Try your transformer and save your new features here\n",
    "X_time_cyclical = CyclicalEncoder().fit_transform(X_time_features)\n",
    "X_time_cyclical"
   ]
  },
  {
   "cell_type": "code",
   "execution_count": 135,
   "metadata": {
    "ExecuteTime": {
     "end_time": "2021-06-30T12:30:37.496653Z",
     "start_time": "2021-06-30T12:30:37.276742Z"
    }
   },
   "outputs": [
    {
     "data": {
      "image/png": "[encoded data removed]",
      "text/plain": [
       "<Figure size 432x288 with 1 Axes>"
      ]
     },
     "metadata": {
      "needs_background": "light"
     },
     "output_type": "display_data"
    }
   ],
   "source": [
    "# Check that this form a circle with 12 points\n",
    "plt.scatter(X_time_cyclical['month_cos'],\n",
    "            X_time_cyclical['month_sin'])\n",
    "plt.xlabel(\"month_cos\"); plt.ylabel(\"month_sin\");"
   ]
  },
  {
   "cell_type": "markdown",
   "metadata": {},
   "source": [
    "**📝 Enhance your `basic_pipeline` with a new preprocessing including both `TimeFeaturesExtractor` and `CyclicalFeatureExtractor`:**\n",
    "\n",
    "- Just use `TimeFeatureExtractor` if you haven't had time to do the `Cyclical` one\n",
    "- Store this new pipeline as `time_pipeline`\n",
    "- Keep same estimator for now"
   ]
  },
  {
   "cell_type": "code",
   "execution_count": 136,
   "metadata": {
    "ExecuteTime": {
     "end_time": "2021-06-30T12:30:42.404108Z",
     "start_time": "2021-06-30T12:30:42.400501Z"
    }
   },
   "outputs": [],
   "source": [
    "time_transformer = TimeFeaturesExtractor()"
   ]
  },
  {
   "cell_type": "code",
   "execution_count": 137,
   "metadata": {
    "ExecuteTime": {
     "end_time": "2021-06-30T12:30:45.094787Z",
     "start_time": "2021-06-30T12:30:45.090887Z"
    }
   },
   "outputs": [],
   "source": [
    "time_features = [\"month\", \"year\"]\n",
    "\n",
    "time_encoder = Pipeline([\n",
    "    ('time_features', TimeFeaturesExtractor()),\n",
    "    ('cycle_time',CyclicalEncoder())\n",
    "])"
   ]
  },
  {
   "cell_type": "code",
   "execution_count": 138,
   "metadata": {
    "ExecuteTime": {
     "end_time": "2021-06-30T12:30:58.981152Z",
     "start_time": "2021-06-30T12:30:58.948678Z"
    }
   },
   "outputs": [
    {
     "data": {
      "text/html": [
       "<style>#sk-a794fe68-3417-4a8b-8027-1c32b5ae682f {color: black;background-color: white;}#sk-a794fe68-3417-4a8b-8027-1c32b5ae682f pre{padding: 0;}#sk-a794fe68-3417-4a8b-8027-1c32b5ae682f div.sk-toggleable {background-color: white;}#sk-a794fe68-3417-4a8b-8027-1c32b5ae682f label.sk-toggleable__label {cursor: pointer;display: block;width: 100%;margin-bottom: 0;padding: 0.2em 0.3em;box-sizing: border-box;text-align: center;}#sk-a794fe68-3417-4a8b-8027-1c32b5ae682f div.sk-toggleable__content {max-height: 0;max-width: 0;overflow: hidden;text-align: left;background-color: #f0f8ff;}#sk-a794fe68-3417-4a8b-8027-1c32b5ae682f div.sk-toggleable__content pre {margin: 0.2em;color: black;border-radius: 0.25em;background-color: #f0f8ff;}#sk-a794fe68-3417-4a8b-8027-1c32b5ae682f input.sk-toggleable__control:checked~div.sk-toggleable__content {max-height: 200px;max-width: 100%;overflow: auto;}#sk-a794fe68-3417-4a8b-8027-1c32b5ae682f div.sk-estimator input.sk-toggleable__control:checked~label.sk-toggleable__label {background-color: #d4ebff;}#sk-a794fe68-3417-4a8b-8027-1c32b5ae682f div.sk-label input.sk-toggleable__control:checked~label.sk-toggleable__label {background-color: #d4ebff;}#sk-a794fe68-3417-4a8b-8027-1c32b5ae682f input.sk-hidden--visually {border: 0;clip: rect(1px 1px 1px 1px);clip: rect(1px, 1px, 1px, 1px);height: 1px;margin: -1px;overflow: hidden;padding: 0;position: absolute;width: 1px;}#sk-a794fe68-3417-4a8b-8027-1c32b5ae682f div.sk-estimator {font-family: monospace;background-color: #f0f8ff;margin: 0.25em 0.25em;border: 1px dotted black;border-radius: 0.25em;box-sizing: border-box;}#sk-a794fe68-3417-4a8b-8027-1c32b5ae682f div.sk-estimator:hover {background-color: #d4ebff;}#sk-a794fe68-3417-4a8b-8027-1c32b5ae682f div.sk-parallel-item::after {content: \"\";width: 100%;border-bottom: 1px solid gray;flex-grow: 1;}#sk-a794fe68-3417-4a8b-8027-1c32b5ae682f div.sk-label:hover label.sk-toggleable__label {background-color: #d4ebff;}#sk-a794fe68-3417-4a8b-8027-1c32b5ae682f div.sk-serial::before {content: \"\";position: absolute;border-left: 1px solid gray;box-sizing: border-box;top: 2em;bottom: 0;left: 50%;}#sk-a794fe68-3417-4a8b-8027-1c32b5ae682f div.sk-serial {display: flex;flex-direction: column;align-items: center;background-color: white;}#sk-a794fe68-3417-4a8b-8027-1c32b5ae682f div.sk-item {z-index: 1;}#sk-a794fe68-3417-4a8b-8027-1c32b5ae682f div.sk-parallel {display: flex;align-items: stretch;justify-content: center;background-color: white;}#sk-a794fe68-3417-4a8b-8027-1c32b5ae682f div.sk-parallel-item {display: flex;flex-direction: column;position: relative;background-color: white;}#sk-a794fe68-3417-4a8b-8027-1c32b5ae682f div.sk-parallel-item:first-child::after {align-self: flex-end;width: 50%;}#sk-a794fe68-3417-4a8b-8027-1c32b5ae682f div.sk-parallel-item:last-child::after {align-self: flex-start;width: 50%;}#sk-a794fe68-3417-4a8b-8027-1c32b5ae682f div.sk-parallel-item:only-child::after {width: 0;}#sk-a794fe68-3417-4a8b-8027-1c32b5ae682f div.sk-dashed-wrapped {border: 1px dashed gray;margin: 0.2em;box-sizing: border-box;padding-bottom: 0.1em;background-color: white;position: relative;}#sk-a794fe68-3417-4a8b-8027-1c32b5ae682f div.sk-label label {font-family: monospace;font-weight: bold;background-color: white;display: inline-block;line-height: 1.2em;}#sk-a794fe68-3417-4a8b-8027-1c32b5ae682f div.sk-label-container {position: relative;z-index: 2;text-align: center;}#sk-a794fe68-3417-4a8b-8027-1c32b5ae682f div.sk-container {display: inline-block;position: relative;}</style><div id=\"sk-a794fe68-3417-4a8b-8027-1c32b5ae682f\" class\"sk-top-container\"><div class=\"sk-container\"><div class=\"sk-item sk-dashed-wrapped\"><div class=\"sk-label-container\"><div class=\"sk-label sk-toggleable\"><input class=\"sk-toggleable__control sk-hidden--visually\" id=\"54d4e558-77d6-4d06-b73e-b337cdf3970a\" type=\"checkbox\" ><label class=\"sk-toggleable__label\" for=\"54d4e558-77d6-4d06-b73e-b337cdf3970a\">ColumnTransformer</label><div class=\"sk-toggleable__content\"><pre>ColumnTransformer(sparse_threshold=0,\n",
       "                  transformers=[('cat_transformer',\n",
       "                                 OneHotEncoder(handle_unknown='ignore',\n",
       "                                               sparse=False),\n",
       "                                 ['original_language', 'status',\n",
       "                                  'available_in_english']),\n",
       "                                ('num_transformer', RobustScaler(),\n",
       "                                 ['duration_min', 'budget',\n",
       "                                  'number_of_awards_won',\n",
       "                                  'number_of_nominations', 'has_collection',\n",
       "                                  'number_of_top_productions']),\n",
       "                                ('time_encoder',\n",
       "                                 Pipeline(steps=[('time_features',\n",
       "                                                  TimeFeaturesExtractor()),\n",
       "                                                 ('cycle_time',\n",
       "                                                  CyclicalEncoder())]),\n",
       "                                 ['release_date'])])</pre></div></div></div><div class=\"sk-parallel\"><div class=\"sk-parallel-item\"><div class=\"sk-item\"><div class=\"sk-label-container\"><div class=\"sk-label sk-toggleable\"><input class=\"sk-toggleable__control sk-hidden--visually\" id=\"33bdf2d7-33cf-441a-97ab-785bb2f2a8d8\" type=\"checkbox\" ><label class=\"sk-toggleable__label\" for=\"33bdf2d7-33cf-441a-97ab-785bb2f2a8d8\">cat_transformer</label><div class=\"sk-toggleable__content\"><pre>['original_language', 'status', 'available_in_english']</pre></div></div></div><div class=\"sk-serial\"><div class=\"sk-item\"><div class=\"sk-estimator sk-toggleable\"><input class=\"sk-toggleable__control sk-hidden--visually\" id=\"00a5e082-0638-4725-889b-5be658219ace\" type=\"checkbox\" ><label class=\"sk-toggleable__label\" for=\"00a5e082-0638-4725-889b-5be658219ace\">OneHotEncoder</label><div class=\"sk-toggleable__content\"><pre>OneHotEncoder(handle_unknown='ignore', sparse=False)</pre></div></div></div></div></div></div><div class=\"sk-parallel-item\"><div class=\"sk-item\"><div class=\"sk-label-container\"><div class=\"sk-label sk-toggleable\"><input class=\"sk-toggleable__control sk-hidden--visually\" id=\"7815dde8-0e90-45af-a2a7-b6a2876a736d\" type=\"checkbox\" ><label class=\"sk-toggleable__label\" for=\"7815dde8-0e90-45af-a2a7-b6a2876a736d\">num_transformer</label><div class=\"sk-toggleable__content\"><pre>['duration_min', 'budget', 'number_of_awards_won', 'number_of_nominations', 'has_collection', 'number_of_top_productions']</pre></div></div></div><div class=\"sk-serial\"><div class=\"sk-item\"><div class=\"sk-estimator sk-toggleable\"><input class=\"sk-toggleable__control sk-hidden--visually\" id=\"22614ad1-6db7-4513-9c7c-ef9581bc9ebb\" type=\"checkbox\" ><label class=\"sk-toggleable__label\" for=\"22614ad1-6db7-4513-9c7c-ef9581bc9ebb\">RobustScaler</label><div class=\"sk-toggleable__content\"><pre>RobustScaler()</pre></div></div></div></div></div></div><div class=\"sk-parallel-item\"><div class=\"sk-item\"><div class=\"sk-label-container\"><div class=\"sk-label sk-toggleable\"><input class=\"sk-toggleable__control sk-hidden--visually\" id=\"93c4d6c2-7f24-4aa6-8dec-64645ad4a4a3\" type=\"checkbox\" ><label class=\"sk-toggleable__label\" for=\"93c4d6c2-7f24-4aa6-8dec-64645ad4a4a3\">time_encoder</label><div class=\"sk-toggleable__content\"><pre>['release_date']</pre></div></div></div><div class=\"sk-serial\"><div class=\"sk-item\"><div class=\"sk-serial\"><div class=\"sk-item\"><div class=\"sk-estimator sk-toggleable\"><input class=\"sk-toggleable__control sk-hidden--visually\" id=\"0e419654-0dfa-44e1-9538-e27e48c826cf\" type=\"checkbox\" ><label class=\"sk-toggleable__label\" for=\"0e419654-0dfa-44e1-9538-e27e48c826cf\">TimeFeaturesExtractor</label><div class=\"sk-toggleable__content\"><pre>TimeFeaturesExtractor()</pre></div></div></div><div class=\"sk-item\"><div class=\"sk-estimator sk-toggleable\"><input class=\"sk-toggleable__control sk-hidden--visually\" id=\"5e45d6ba-de61-4e1d-a86b-9ce2b55e745d\" type=\"checkbox\" ><label class=\"sk-toggleable__label\" for=\"5e45d6ba-de61-4e1d-a86b-9ce2b55e745d\">CyclicalEncoder</label><div class=\"sk-toggleable__content\"><pre>CyclicalEncoder()</pre></div></div></div></div></div></div></div></div></div></div></div></div>"
      ],
      "text/plain": [
       "ColumnTransformer(sparse_threshold=0,\n",
       "                  transformers=[('cat_transformer',\n",
       "                                 OneHotEncoder(handle_unknown='ignore',\n",
       "                                               sparse=False),\n",
       "                                 ['original_language', 'status',\n",
       "                                  'available_in_english']),\n",
       "                                ('num_transformer', RobustScaler(),\n",
       "                                 ['duration_min', 'budget',\n",
       "                                  'number_of_awards_won',\n",
       "                                  'number_of_nominations', 'has_collection',\n",
       "                                  'number_of_top_productions']),\n",
       "                                ('time_encoder',\n",
       "                                 Pipeline(steps=[('time_features',\n",
       "                                                  TimeFeaturesExtractor()),\n",
       "                                                 ('cycle_time',\n",
       "                                                  CyclicalEncoder())]),\n",
       "                                 ['release_date'])])"
      ]
     },
     "execution_count": 138,
     "metadata": {},
     "output_type": "execute_result"
    }
   ],
   "source": [
    "base_preproc = ColumnTransformer([\n",
    "    (\"cat_transformer\", cat_transformer, categorical),\n",
    "    (\"num_transformer\", num_transformer, numerical),\n",
    "    (\"time_encoder\", time_encoder, [\"release_date\"])\n",
    "], sparse_threshold=0)\n",
    "\n",
    "base_preproc"
   ]
  },
  {
   "cell_type": "code",
   "execution_count": 150,
   "metadata": {
    "ExecuteTime": {
     "end_time": "2021-06-30T12:44:32.283657Z",
     "start_time": "2021-06-30T12:44:32.169909Z"
    }
   },
   "outputs": [
    {
     "data": {
      "text/html": [
       "<style>#sk-a21e630f-0a79-4741-b918-66903de8eb44 {color: black;background-color: white;}#sk-a21e630f-0a79-4741-b918-66903de8eb44 pre{padding: 0;}#sk-a21e630f-0a79-4741-b918-66903de8eb44 div.sk-toggleable {background-color: white;}#sk-a21e630f-0a79-4741-b918-66903de8eb44 label.sk-toggleable__label {cursor: pointer;display: block;width: 100%;margin-bottom: 0;padding: 0.2em 0.3em;box-sizing: border-box;text-align: center;}#sk-a21e630f-0a79-4741-b918-66903de8eb44 div.sk-toggleable__content {max-height: 0;max-width: 0;overflow: hidden;text-align: left;background-color: #f0f8ff;}#sk-a21e630f-0a79-4741-b918-66903de8eb44 div.sk-toggleable__content pre {margin: 0.2em;color: black;border-radius: 0.25em;background-color: #f0f8ff;}#sk-a21e630f-0a79-4741-b918-66903de8eb44 input.sk-toggleable__control:checked~div.sk-toggleable__content {max-height: 200px;max-width: 100%;overflow: auto;}#sk-a21e630f-0a79-4741-b918-66903de8eb44 div.sk-estimator input.sk-toggleable__control:checked~label.sk-toggleable__label {background-color: #d4ebff;}#sk-a21e630f-0a79-4741-b918-66903de8eb44 div.sk-label input.sk-toggleable__control:checked~label.sk-toggleable__label {background-color: #d4ebff;}#sk-a21e630f-0a79-4741-b918-66903de8eb44 input.sk-hidden--visually {border: 0;clip: rect(1px 1px 1px 1px);clip: rect(1px, 1px, 1px, 1px);height: 1px;margin: -1px;overflow: hidden;padding: 0;position: absolute;width: 1px;}#sk-a21e630f-0a79-4741-b918-66903de8eb44 div.sk-estimator {font-family: monospace;background-color: #f0f8ff;margin: 0.25em 0.25em;border: 1px dotted black;border-radius: 0.25em;box-sizing: border-box;}#sk-a21e630f-0a79-4741-b918-66903de8eb44 div.sk-estimator:hover {background-color: #d4ebff;}#sk-a21e630f-0a79-4741-b918-66903de8eb44 div.sk-parallel-item::after {content: \"\";width: 100%;border-bottom: 1px solid gray;flex-grow: 1;}#sk-a21e630f-0a79-4741-b918-66903de8eb44 div.sk-label:hover label.sk-toggleable__label {background-color: #d4ebff;}#sk-a21e630f-0a79-4741-b918-66903de8eb44 div.sk-serial::before {content: \"\";position: absolute;border-left: 1px solid gray;box-sizing: border-box;top: 2em;bottom: 0;left: 50%;}#sk-a21e630f-0a79-4741-b918-66903de8eb44 div.sk-serial {display: flex;flex-direction: column;align-items: center;background-color: white;}#sk-a21e630f-0a79-4741-b918-66903de8eb44 div.sk-item {z-index: 1;}#sk-a21e630f-0a79-4741-b918-66903de8eb44 div.sk-parallel {display: flex;align-items: stretch;justify-content: center;background-color: white;}#sk-a21e630f-0a79-4741-b918-66903de8eb44 div.sk-parallel-item {display: flex;flex-direction: column;position: relative;background-color: white;}#sk-a21e630f-0a79-4741-b918-66903de8eb44 div.sk-parallel-item:first-child::after {align-self: flex-end;width: 50%;}#sk-a21e630f-0a79-4741-b918-66903de8eb44 div.sk-parallel-item:last-child::after {align-self: flex-start;width: 50%;}#sk-a21e630f-0a79-4741-b918-66903de8eb44 div.sk-parallel-item:only-child::after {width: 0;}#sk-a21e630f-0a79-4741-b918-66903de8eb44 div.sk-dashed-wrapped {border: 1px dashed gray;margin: 0.2em;box-sizing: border-box;padding-bottom: 0.1em;background-color: white;position: relative;}#sk-a21e630f-0a79-4741-b918-66903de8eb44 div.sk-label label {font-family: monospace;font-weight: bold;background-color: white;display: inline-block;line-height: 1.2em;}#sk-a21e630f-0a79-4741-b918-66903de8eb44 div.sk-label-container {position: relative;z-index: 2;text-align: center;}#sk-a21e630f-0a79-4741-b918-66903de8eb44 div.sk-container {display: inline-block;position: relative;}</style><div id=\"sk-a21e630f-0a79-4741-b918-66903de8eb44\" class\"sk-top-container\"><div class=\"sk-container\"><div class=\"sk-item sk-dashed-wrapped\"><div class=\"sk-label-container\"><div class=\"sk-label sk-toggleable\"><input class=\"sk-toggleable__control sk-hidden--visually\" id=\"6fb793a9-98b6-41db-91c4-171eec949394\" type=\"checkbox\" ><label class=\"sk-toggleable__label\" for=\"6fb793a9-98b6-41db-91c4-171eec949394\">Pipeline</label><div class=\"sk-toggleable__content\"><pre>Pipeline(steps=[('preprocessor',\n",
       "                 ColumnTransformer(sparse_threshold=0,\n",
       "                                   transformers=[('cat_transformer',\n",
       "                                                  OneHotEncoder(handle_unknown='ignore',\n",
       "                                                                sparse=False),\n",
       "                                                  ['original_language',\n",
       "                                                   'status',\n",
       "                                                   'available_in_english']),\n",
       "                                                 ('num_transformer',\n",
       "                                                  RobustScaler(),\n",
       "                                                  ['duration_min', 'budget',\n",
       "                                                   'number_of_awards_won',\n",
       "                                                   'number_of_nominations',\n",
       "                                                   'has_collection',\n",
       "                                                   'number_of_top_productions']),\n",
       "                                                 ('time_encoder',\n",
       "                                                  Pipeline(steps=[('time_features',\n",
       "                                                                   TimeFeaturesExtractor()),\n",
       "                                                                  ('cycle_time',\n",
       "                                                                   CyclicalEncoder())]),\n",
       "                                                  ['release_date'])])),\n",
       "                ('linear_regression', Lasso())])</pre></div></div></div><div class=\"sk-serial\"><div class=\"sk-item sk-dashed-wrapped\"><div class=\"sk-label-container\"><div class=\"sk-label sk-toggleable\"><input class=\"sk-toggleable__control sk-hidden--visually\" id=\"bd397232-5f80-4ac8-af8d-9b1ed7e7760f\" type=\"checkbox\" ><label class=\"sk-toggleable__label\" for=\"bd397232-5f80-4ac8-af8d-9b1ed7e7760f\">preprocessor: ColumnTransformer</label><div class=\"sk-toggleable__content\"><pre>ColumnTransformer(sparse_threshold=0,\n",
       "                  transformers=[('cat_transformer',\n",
       "                                 OneHotEncoder(handle_unknown='ignore',\n",
       "                                               sparse=False),\n",
       "                                 ['original_language', 'status',\n",
       "                                  'available_in_english']),\n",
       "                                ('num_transformer', RobustScaler(),\n",
       "                                 ['duration_min', 'budget',\n",
       "                                  'number_of_awards_won',\n",
       "                                  'number_of_nominations', 'has_collection',\n",
       "                                  'number_of_top_productions']),\n",
       "                                ('time_encoder',\n",
       "                                 Pipeline(steps=[('time_features',\n",
       "                                                  TimeFeaturesExtractor()),\n",
       "                                                 ('cycle_time',\n",
       "                                                  CyclicalEncoder())]),\n",
       "                                 ['release_date'])])</pre></div></div></div><div class=\"sk-parallel\"><div class=\"sk-parallel-item\"><div class=\"sk-item\"><div class=\"sk-label-container\"><div class=\"sk-label sk-toggleable\"><input class=\"sk-toggleable__control sk-hidden--visually\" id=\"0305f64c-a8ba-4a9c-822f-1f821d05245c\" type=\"checkbox\" ><label class=\"sk-toggleable__label\" for=\"0305f64c-a8ba-4a9c-822f-1f821d05245c\">cat_transformer</label><div class=\"sk-toggleable__content\"><pre>['original_language', 'status', 'available_in_english']</pre></div></div></div><div class=\"sk-serial\"><div class=\"sk-item\"><div class=\"sk-estimator sk-toggleable\"><input class=\"sk-toggleable__control sk-hidden--visually\" id=\"3eec3c00-ab47-4fc6-be4c-2b6692781d5a\" type=\"checkbox\" ><label class=\"sk-toggleable__label\" for=\"3eec3c00-ab47-4fc6-be4c-2b6692781d5a\">OneHotEncoder</label><div class=\"sk-toggleable__content\"><pre>OneHotEncoder(handle_unknown='ignore', sparse=False)</pre></div></div></div></div></div></div><div class=\"sk-parallel-item\"><div class=\"sk-item\"><div class=\"sk-label-container\"><div class=\"sk-label sk-toggleable\"><input class=\"sk-toggleable__control sk-hidden--visually\" id=\"5c907106-cb61-4e52-b934-9ed912c06324\" type=\"checkbox\" ><label class=\"sk-toggleable__label\" for=\"5c907106-cb61-4e52-b934-9ed912c06324\">num_transformer</label><div class=\"sk-toggleable__content\"><pre>['duration_min', 'budget', 'number_of_awards_won', 'number_of_nominations', 'has_collection', 'number_of_top_productions']</pre></div></div></div><div class=\"sk-serial\"><div class=\"sk-item\"><div class=\"sk-estimator sk-toggleable\"><input class=\"sk-toggleable__control sk-hidden--visually\" id=\"72ce640a-aafb-48d1-9a7e-3cf16366295d\" type=\"checkbox\" ><label class=\"sk-toggleable__label\" for=\"72ce640a-aafb-48d1-9a7e-3cf16366295d\">RobustScaler</label><div class=\"sk-toggleable__content\"><pre>RobustScaler()</pre></div></div></div></div></div></div><div class=\"sk-parallel-item\"><div class=\"sk-item\"><div class=\"sk-label-container\"><div class=\"sk-label sk-toggleable\"><input class=\"sk-toggleable__control sk-hidden--visually\" id=\"66ec43a0-92d5-4fc6-b927-6fabd3bd1b38\" type=\"checkbox\" ><label class=\"sk-toggleable__label\" for=\"66ec43a0-92d5-4fc6-b927-6fabd3bd1b38\">time_encoder</label><div class=\"sk-toggleable__content\"><pre>['release_date']</pre></div></div></div><div class=\"sk-serial\"><div class=\"sk-item\"><div class=\"sk-serial\"><div class=\"sk-item\"><div class=\"sk-estimator sk-toggleable\"><input class=\"sk-toggleable__control sk-hidden--visually\" id=\"7204eefa-ebb5-4761-9dab-8d28fc8ec2ab\" type=\"checkbox\" ><label class=\"sk-toggleable__label\" for=\"7204eefa-ebb5-4761-9dab-8d28fc8ec2ab\">TimeFeaturesExtractor</label><div class=\"sk-toggleable__content\"><pre>TimeFeaturesExtractor()</pre></div></div></div><div class=\"sk-item\"><div class=\"sk-estimator sk-toggleable\"><input class=\"sk-toggleable__control sk-hidden--visually\" id=\"872600da-fbb6-42d9-9728-2f34596f3de6\" type=\"checkbox\" ><label class=\"sk-toggleable__label\" for=\"872600da-fbb6-42d9-9728-2f34596f3de6\">CyclicalEncoder</label><div class=\"sk-toggleable__content\"><pre>CyclicalEncoder()</pre></div></div></div></div></div></div></div></div></div></div><div class=\"sk-item\"><div class=\"sk-estimator sk-toggleable\"><input class=\"sk-toggleable__control sk-hidden--visually\" id=\"dd5147c8-ffc7-4ce7-b78d-df3cc90ffe89\" type=\"checkbox\" ><label class=\"sk-toggleable__label\" for=\"dd5147c8-ffc7-4ce7-b78d-df3cc90ffe89\">Lasso</label><div class=\"sk-toggleable__content\"><pre>Lasso()</pre></div></div></div></div></div></div></div>"
      ],
      "text/plain": [
       "Pipeline(steps=[('preprocessor',\n",
       "                 ColumnTransformer(sparse_threshold=0,\n",
       "                                   transformers=[('cat_transformer',\n",
       "                                                  OneHotEncoder(handle_unknown='ignore',\n",
       "                                                                sparse=False),\n",
       "                                                  ['original_language',\n",
       "                                                   'status',\n",
       "                                                   'available_in_english']),\n",
       "                                                 ('num_transformer',\n",
       "                                                  RobustScaler(),\n",
       "                                                  ['duration_min', 'budget',\n",
       "                                                   'number_of_awards_won',\n",
       "                                                   'number_of_nominations',\n",
       "                                                   'has_collection',\n",
       "                                                   'number_of_top_productions']),\n",
       "                                                 ('time_encoder',\n",
       "                                                  Pipeline(steps=[('time_features',\n",
       "                                                                   TimeFeaturesExtractor()),\n",
       "                                                                  ('cycle_time',\n",
       "                                                                   CyclicalEncoder())]),\n",
       "                                                  ['release_date'])])),\n",
       "                ('linear_regression', Lasso())])"
      ]
     },
     "execution_count": 150,
     "metadata": {},
     "output_type": "execute_result"
    }
   ],
   "source": [
    "time_pipeline = Pipeline([\n",
    "    (\"preprocessor\", base_preproc),\n",
    "    (\"linear_regression\", Lasso())\n",
    "    \n",
    "])\n",
    "\n",
    "time_pipeline"
   ]
  },
  {
   "cell_type": "code",
   "execution_count": 148,
   "metadata": {
    "ExecuteTime": {
     "end_time": "2021-06-30T12:37:22.611303Z",
     "start_time": "2021-06-30T12:36:17.015652Z"
    }
   },
   "outputs": [
    {
     "name": "stderr",
     "output_type": "stream",
     "text": [
      "/home/eldrad/.pyenv/versions/3.8.6/envs/lewagon3/lib/python3.8/site-packages/sklearn/model_selection/_validation.py:696: UserWarning: Scoring failed. The score on this train-test partition for these parameters will be set to nan. Details: \n",
      "Traceback (most recent call last):\n",
      "  File \"/home/eldrad/.pyenv/versions/3.8.6/envs/lewagon3/lib/python3.8/site-packages/sklearn/model_selection/_validation.py\", line 687, in _score\n",
      "    scores = scorer(estimator, X_test, y_test)\n",
      "  File \"/home/eldrad/.pyenv/versions/3.8.6/envs/lewagon3/lib/python3.8/site-packages/sklearn/metrics/_scorer.py\", line 397, in _passthrough_scorer\n",
      "    return estimator.score(*args, **kwargs)\n",
      "  File \"/home/eldrad/.pyenv/versions/3.8.6/envs/lewagon3/lib/python3.8/site-packages/sklearn/utils/metaestimators.py\", line 120, in <lambda>\n",
      "    out = lambda *args, **kwargs: self.fn(obj, *args, **kwargs)\n",
      "  File \"/home/eldrad/.pyenv/versions/3.8.6/envs/lewagon3/lib/python3.8/site-packages/sklearn/pipeline.py\", line 618, in score\n",
      "    Xt = transform.transform(Xt)\n",
      "  File \"/home/eldrad/.pyenv/versions/3.8.6/envs/lewagon3/lib/python3.8/site-packages/sklearn/compose/_column_transformer.py\", line 571, in transform\n",
      "    return self._hstack(list(Xs))\n",
      "  File \"/home/eldrad/.pyenv/versions/3.8.6/envs/lewagon3/lib/python3.8/site-packages/sklearn/compose/_column_transformer.py\", line 601, in _hstack\n",
      "    return np.hstack(Xs)\n",
      "  File \"<__array_function__ internals>\", line 5, in hstack\n",
      "  File \"/home/eldrad/.pyenv/versions/3.8.6/envs/lewagon3/lib/python3.8/site-packages/numpy/core/shape_base.py\", line 345, in hstack\n",
      "    return _nx.concatenate(arrs, 1)\n",
      "  File \"<__array_function__ internals>\", line 5, in concatenate\n",
      "ValueError: all the input array dimensions for the concatenation axis must match exactly, but along dimension 0, the array at index 0 has size 1293 and the array at index 2 has size 5170\n",
      "\n",
      "  warnings.warn(\n",
      "/home/eldrad/.pyenv/versions/3.8.6/envs/lewagon3/lib/python3.8/site-packages/sklearn/model_selection/_validation.py:696: UserWarning: Scoring failed. The score on this train-test partition for these parameters will be set to nan. Details: \n",
      "Traceback (most recent call last):\n",
      "  File \"/home/eldrad/.pyenv/versions/3.8.6/envs/lewagon3/lib/python3.8/site-packages/sklearn/model_selection/_validation.py\", line 687, in _score\n",
      "    scores = scorer(estimator, X_test, y_test)\n",
      "  File \"/home/eldrad/.pyenv/versions/3.8.6/envs/lewagon3/lib/python3.8/site-packages/sklearn/metrics/_scorer.py\", line 397, in _passthrough_scorer\n",
      "    return estimator.score(*args, **kwargs)\n",
      "  File \"/home/eldrad/.pyenv/versions/3.8.6/envs/lewagon3/lib/python3.8/site-packages/sklearn/utils/metaestimators.py\", line 120, in <lambda>\n",
      "    out = lambda *args, **kwargs: self.fn(obj, *args, **kwargs)\n",
      "  File \"/home/eldrad/.pyenv/versions/3.8.6/envs/lewagon3/lib/python3.8/site-packages/sklearn/pipeline.py\", line 618, in score\n",
      "    Xt = transform.transform(Xt)\n",
      "  File \"/home/eldrad/.pyenv/versions/3.8.6/envs/lewagon3/lib/python3.8/site-packages/sklearn/compose/_column_transformer.py\", line 571, in transform\n",
      "    return self._hstack(list(Xs))\n",
      "  File \"/home/eldrad/.pyenv/versions/3.8.6/envs/lewagon3/lib/python3.8/site-packages/sklearn/compose/_column_transformer.py\", line 601, in _hstack\n",
      "    return np.hstack(Xs)\n",
      "  File \"<__array_function__ internals>\", line 5, in hstack\n",
      "  File \"/home/eldrad/.pyenv/versions/3.8.6/envs/lewagon3/lib/python3.8/site-packages/numpy/core/shape_base.py\", line 345, in hstack\n",
      "    return _nx.concatenate(arrs, 1)\n",
      "  File \"<__array_function__ internals>\", line 5, in concatenate\n",
      "ValueError: all the input array dimensions for the concatenation axis must match exactly, but along dimension 0, the array at index 0 has size 1293 and the array at index 2 has size 5170\n",
      "\n",
      "  warnings.warn(\n",
      "/home/eldrad/.pyenv/versions/3.8.6/envs/lewagon3/lib/python3.8/site-packages/sklearn/model_selection/_validation.py:696: UserWarning: Scoring failed. The score on this train-test partition for these parameters will be set to nan. Details: \n",
      "Traceback (most recent call last):\n",
      "  File \"/home/eldrad/.pyenv/versions/3.8.6/envs/lewagon3/lib/python3.8/site-packages/sklearn/model_selection/_validation.py\", line 687, in _score\n",
      "    scores = scorer(estimator, X_test, y_test)\n",
      "  File \"/home/eldrad/.pyenv/versions/3.8.6/envs/lewagon3/lib/python3.8/site-packages/sklearn/metrics/_scorer.py\", line 397, in _passthrough_scorer\n",
      "    return estimator.score(*args, **kwargs)\n",
      "  File \"/home/eldrad/.pyenv/versions/3.8.6/envs/lewagon3/lib/python3.8/site-packages/sklearn/utils/metaestimators.py\", line 120, in <lambda>\n",
      "    out = lambda *args, **kwargs: self.fn(obj, *args, **kwargs)\n",
      "  File \"/home/eldrad/.pyenv/versions/3.8.6/envs/lewagon3/lib/python3.8/site-packages/sklearn/pipeline.py\", line 618, in score\n",
      "    Xt = transform.transform(Xt)\n",
      "  File \"/home/eldrad/.pyenv/versions/3.8.6/envs/lewagon3/lib/python3.8/site-packages/sklearn/compose/_column_transformer.py\", line 571, in transform\n",
      "    return self._hstack(list(Xs))\n",
      "  File \"/home/eldrad/.pyenv/versions/3.8.6/envs/lewagon3/lib/python3.8/site-packages/sklearn/compose/_column_transformer.py\", line 601, in _hstack\n",
      "    return np.hstack(Xs)\n",
      "  File \"<__array_function__ internals>\", line 5, in hstack\n",
      "  File \"/home/eldrad/.pyenv/versions/3.8.6/envs/lewagon3/lib/python3.8/site-packages/numpy/core/shape_base.py\", line 345, in hstack\n",
      "    return _nx.concatenate(arrs, 1)\n",
      "  File \"<__array_function__ internals>\", line 5, in concatenate\n",
      "ValueError: all the input array dimensions for the concatenation axis must match exactly, but along dimension 0, the array at index 0 has size 1293 and the array at index 2 has size 5170\n",
      "\n",
      "  warnings.warn(\n",
      "/home/eldrad/.pyenv/versions/3.8.6/envs/lewagon3/lib/python3.8/site-packages/sklearn/model_selection/_validation.py:696: UserWarning: Scoring failed. The score on this train-test partition for these parameters will be set to nan. Details: \n",
      "Traceback (most recent call last):\n",
      "  File \"/home/eldrad/.pyenv/versions/3.8.6/envs/lewagon3/lib/python3.8/site-packages/sklearn/model_selection/_validation.py\", line 687, in _score\n",
      "    scores = scorer(estimator, X_test, y_test)\n",
      "  File \"/home/eldrad/.pyenv/versions/3.8.6/envs/lewagon3/lib/python3.8/site-packages/sklearn/metrics/_scorer.py\", line 397, in _passthrough_scorer\n",
      "    return estimator.score(*args, **kwargs)\n",
      "  File \"/home/eldrad/.pyenv/versions/3.8.6/envs/lewagon3/lib/python3.8/site-packages/sklearn/utils/metaestimators.py\", line 120, in <lambda>\n",
      "    out = lambda *args, **kwargs: self.fn(obj, *args, **kwargs)\n",
      "  File \"/home/eldrad/.pyenv/versions/3.8.6/envs/lewagon3/lib/python3.8/site-packages/sklearn/pipeline.py\", line 618, in score\n",
      "    Xt = transform.transform(Xt)\n",
      "  File \"/home/eldrad/.pyenv/versions/3.8.6/envs/lewagon3/lib/python3.8/site-packages/sklearn/compose/_column_transformer.py\", line 571, in transform\n",
      "    return self._hstack(list(Xs))\n",
      "  File \"/home/eldrad/.pyenv/versions/3.8.6/envs/lewagon3/lib/python3.8/site-packages/sklearn/compose/_column_transformer.py\", line 601, in _hstack\n",
      "    return np.hstack(Xs)\n",
      "  File \"<__array_function__ internals>\", line 5, in hstack\n",
      "  File \"/home/eldrad/.pyenv/versions/3.8.6/envs/lewagon3/lib/python3.8/site-packages/numpy/core/shape_base.py\", line 345, in hstack\n",
      "    return _nx.concatenate(arrs, 1)\n",
      "  File \"<__array_function__ internals>\", line 5, in concatenate\n",
      "ValueError: all the input array dimensions for the concatenation axis must match exactly, but along dimension 0, the array at index 0 has size 1292 and the array at index 2 has size 5171\n",
      "\n",
      "  warnings.warn(\n",
      "/home/eldrad/.pyenv/versions/3.8.6/envs/lewagon3/lib/python3.8/site-packages/sklearn/model_selection/_validation.py:696: UserWarning: Scoring failed. The score on this train-test partition for these parameters will be set to nan. Details: \n",
      "Traceback (most recent call last):\n",
      "  File \"/home/eldrad/.pyenv/versions/3.8.6/envs/lewagon3/lib/python3.8/site-packages/sklearn/model_selection/_validation.py\", line 687, in _score\n",
      "    scores = scorer(estimator, X_test, y_test)\n",
      "  File \"/home/eldrad/.pyenv/versions/3.8.6/envs/lewagon3/lib/python3.8/site-packages/sklearn/metrics/_scorer.py\", line 397, in _passthrough_scorer\n",
      "    return estimator.score(*args, **kwargs)\n",
      "  File \"/home/eldrad/.pyenv/versions/3.8.6/envs/lewagon3/lib/python3.8/site-packages/sklearn/utils/metaestimators.py\", line 120, in <lambda>\n",
      "    out = lambda *args, **kwargs: self.fn(obj, *args, **kwargs)\n",
      "  File \"/home/eldrad/.pyenv/versions/3.8.6/envs/lewagon3/lib/python3.8/site-packages/sklearn/pipeline.py\", line 618, in score\n",
      "    Xt = transform.transform(Xt)\n",
      "  File \"/home/eldrad/.pyenv/versions/3.8.6/envs/lewagon3/lib/python3.8/site-packages/sklearn/compose/_column_transformer.py\", line 571, in transform\n",
      "    return self._hstack(list(Xs))\n",
      "  File \"/home/eldrad/.pyenv/versions/3.8.6/envs/lewagon3/lib/python3.8/site-packages/sklearn/compose/_column_transformer.py\", line 601, in _hstack\n",
      "    return np.hstack(Xs)\n",
      "  File \"<__array_function__ internals>\", line 5, in hstack\n",
      "  File \"/home/eldrad/.pyenv/versions/3.8.6/envs/lewagon3/lib/python3.8/site-packages/numpy/core/shape_base.py\", line 345, in hstack\n",
      "    return _nx.concatenate(arrs, 1)\n",
      "  File \"<__array_function__ internals>\", line 5, in concatenate\n",
      "ValueError: all the input array dimensions for the concatenation axis must match exactly, but along dimension 0, the array at index 0 has size 1292 and the array at index 2 has size 5171\n",
      "\n",
      "  warnings.warn(\n"
     ]
    }
   ],
   "source": [
    "cv = cross_validate(time_pipeline, X, y, cv = 5)"
   ]
  },
  {
   "cell_type": "code",
   "execution_count": 143,
   "metadata": {
    "ExecuteTime": {
     "end_time": "2021-06-30T12:33:07.592900Z",
     "start_time": "2021-06-30T12:33:07.586692Z"
    }
   },
   "outputs": [
    {
     "data": {
      "text/plain": [
       "nan"
      ]
     },
     "execution_count": 143,
     "metadata": {},
     "output_type": "execute_result"
    }
   ],
   "source": [
    "time_score = cv[\"test_score\"].mean()\n",
    "time_score"
   ]
  },
  {
   "cell_type": "markdown",
   "metadata": {},
   "source": [
    "### Advanced categorical encoder to reduce the number of features\n",
    "\n",
    "ℹ️ Most of it has already been coded for you and it shouldn't take long. Still if you want to skip it and move to the next section: _Model Tuning_"
   ]
  },
  {
   "cell_type": "markdown",
   "metadata": {},
   "source": [
    "👉 We need to reduce the number of features to one-hot-encode, which arise from the high cardinality of `all_genres` and `top_countries`"
   ]
  },
  {
   "cell_type": "code",
   "execution_count": 90,
   "metadata": {
    "ExecuteTime": {
     "end_time": "2021-06-30T11:53:29.188001Z",
     "start_time": "2021-06-30T11:53:29.173386Z"
    }
   },
   "outputs": [
    {
     "data": {
      "text/plain": [
       "all_genres       745\n",
       "top_countries    320\n",
       "dtype: int64"
      ]
     },
     "execution_count": 90,
     "metadata": {},
     "output_type": "execute_result"
    }
   ],
   "source": [
    "X[['all_genres', 'top_countries']].nunique()"
   ]
  },
  {
   "cell_type": "markdown",
   "metadata": {},
   "source": [
    "👇 Both share a common pattern: there can be more than 1 country and more than 1 genre per movie."
   ]
  },
  {
   "cell_type": "code",
   "execution_count": 91,
   "metadata": {
    "ExecuteTime": {
     "end_time": "2021-06-30T11:53:29.601119Z",
     "start_time": "2021-06-30T11:53:29.589586Z"
    }
   },
   "outputs": [
    {
     "data": {
      "text/html": [
       "<div>\n",
       "<style scoped>\n",
       "    .dataframe tbody tr th:only-of-type {\n",
       "        vertical-align: middle;\n",
       "    }\n",
       "\n",
       "    .dataframe tbody tr th {\n",
       "        vertical-align: top;\n",
       "    }\n",
       "\n",
       "    .dataframe thead th {\n",
       "        text-align: right;\n",
       "    }\n",
       "</style>\n",
       "<table border=\"1\" class=\"dataframe\">\n",
       "  <thead>\n",
       "    <tr style=\"text-align: right;\">\n",
       "      <th></th>\n",
       "      <th>all_genres</th>\n",
       "      <th>top_countries</th>\n",
       "    </tr>\n",
       "  </thead>\n",
       "  <tbody>\n",
       "    <tr>\n",
       "      <th>6459</th>\n",
       "      <td>Thriller</td>\n",
       "      <td>France, United States of America</td>\n",
       "    </tr>\n",
       "    <tr>\n",
       "      <th>6460</th>\n",
       "      <td>Action, Adventure, Comedy, Thriller</td>\n",
       "      <td>United States of America</td>\n",
       "    </tr>\n",
       "    <tr>\n",
       "      <th>6461</th>\n",
       "      <td>Drama</td>\n",
       "      <td>United States of America</td>\n",
       "    </tr>\n",
       "    <tr>\n",
       "      <th>6462</th>\n",
       "      <td>Horror, Thriller</td>\n",
       "      <td>United States of America</td>\n",
       "    </tr>\n",
       "    <tr>\n",
       "      <th>6463</th>\n",
       "      <td>Drama</td>\n",
       "      <td>France</td>\n",
       "    </tr>\n",
       "  </tbody>\n",
       "</table>\n",
       "</div>"
      ],
      "text/plain": [
       "                               all_genres                     top_countries\n",
       "6459                             Thriller  France, United States of America\n",
       "6460  Action, Adventure, Comedy, Thriller          United States of America\n",
       "6461                                Drama          United States of America\n",
       "6462                     Horror, Thriller          United States of America\n",
       "6463                                Drama                            France"
      ]
     },
     "execution_count": 91,
     "metadata": {},
     "output_type": "execute_result"
    }
   ],
   "source": [
    "X[['all_genres', 'top_countries']].tail()"
   ]
  },
  {
   "cell_type": "markdown",
   "metadata": {},
   "source": [
    "👉 Run the cell below where we have coded for you a custom transformer `CustomGenreAndCountryEncoder` which: \n",
    "- Select the 10 most frequent genres and the 5 most frequent countries\n",
    "- Encode `all_genres` into 10 One Hot Encoded features\n",
    "- Encode `top_countries` into 5 One Hot Encoded features"
   ]
  },
  {
   "cell_type": "code",
   "execution_count": 92,
   "metadata": {
    "ExecuteTime": {
     "end_time": "2021-06-30T11:53:30.241109Z",
     "start_time": "2021-06-30T11:53:30.230857Z"
    }
   },
   "outputs": [],
   "source": [
    "from collections import Counter\n",
    "from sklearn.base import BaseEstimator, TransformerMixin\n",
    "\n",
    "class CustomGenreAndCountryEncoder(BaseEstimator, TransformerMixin):\n",
    "    \"\"\"\n",
    "    Encoding the all_genres and top_companies features which are multi-categorical :\n",
    "    a movie has several possible genres and countries of productions!\n",
    "    \"\"\"\n",
    "\n",
    "    def __init__(self):\n",
    "        pass\n",
    "\n",
    "    def fit(self, X, y=None):\n",
    "        \"\"\"\n",
    "        compute top genres and top countries of productions from all_genres and top_countries features\n",
    "        \"\"\"\n",
    "\n",
    "        # compute top 10 genres       \n",
    "        list_of_genres = list(X['all_genres'].apply(lambda x: [i.strip() for i in x.split(\",\")] if x != [''] else []).values)\n",
    "        top_genres = [m[0] for m in Counter([i for j in list_of_genres for i in j]).most_common(10)]\n",
    "\n",
    "        # save top_genres in dedicated instance variable\n",
    "        self.top_genres = top_genres\n",
    "        \n",
    "         # compute top 5 countries       \n",
    "        list_of_countries = list(X['top_countries'].apply(lambda x: [i.strip() for i in x.split(\",\")] if x != [''] else []).values)\n",
    "        top_countries = [m[0] for m in Counter([i for j in list_of_countries for i in j]).most_common(5)]\n",
    "\n",
    "        # save top_countries in dedicated instance variable\n",
    "        self.top_countries = top_countries\n",
    "\n",
    "        return self\n",
    "\n",
    "    def transform(self, X, y=None):\n",
    "        \"\"\"\n",
    "        encoding genre and country\n",
    "        \"\"\"\n",
    "        X_new = X.copy()\n",
    "        for genre in self.top_genres:\n",
    "            X_new['genre_' + genre] = X_new['all_genres'].apply(lambda x: 1 if genre in x else 0)\n",
    "        X_new = X_new.drop(columns=[\"all_genres\"])\n",
    "        for country in self.top_countries:\n",
    "            X_new['country_' + country] = X_new['top_countries'].apply(lambda x: 1 if country in x else 0)\n",
    "        X_new = X_new.drop(columns=[\"top_countries\"])\n",
    "        return X_new"
   ]
  },
  {
   "cell_type": "code",
   "execution_count": 93,
   "metadata": {
    "ExecuteTime": {
     "end_time": "2021-06-30T11:53:30.920638Z",
     "start_time": "2021-06-30T11:53:30.823015Z"
    }
   },
   "outputs": [
    {
     "name": "stdout",
     "output_type": "stream",
     "text": [
      "(6463, 15)\n"
     ]
    },
    {
     "data": {
      "text/html": [
       "<div>\n",
       "<style scoped>\n",
       "    .dataframe tbody tr th:only-of-type {\n",
       "        vertical-align: middle;\n",
       "    }\n",
       "\n",
       "    .dataframe tbody tr th {\n",
       "        vertical-align: top;\n",
       "    }\n",
       "\n",
       "    .dataframe thead th {\n",
       "        text-align: right;\n",
       "    }\n",
       "</style>\n",
       "<table border=\"1\" class=\"dataframe\">\n",
       "  <thead>\n",
       "    <tr style=\"text-align: right;\">\n",
       "      <th></th>\n",
       "      <th>genre_Drama</th>\n",
       "      <th>genre_Comedy</th>\n",
       "      <th>genre_Thriller</th>\n",
       "      <th>genre_Action</th>\n",
       "      <th>genre_Romance</th>\n",
       "      <th>genre_Adventure</th>\n",
       "      <th>genre_Crime</th>\n",
       "      <th>genre_Science Fiction</th>\n",
       "      <th>genre_Horror</th>\n",
       "      <th>genre_Family</th>\n",
       "      <th>country_United States of America</th>\n",
       "      <th>country_United Kingdom</th>\n",
       "      <th>country_France</th>\n",
       "      <th>country_Germany</th>\n",
       "      <th>country_Canada</th>\n",
       "    </tr>\n",
       "  </thead>\n",
       "  <tbody>\n",
       "    <tr>\n",
       "      <th>0</th>\n",
       "      <td>0</td>\n",
       "      <td>1</td>\n",
       "      <td>0</td>\n",
       "      <td>0</td>\n",
       "      <td>0</td>\n",
       "      <td>0</td>\n",
       "      <td>0</td>\n",
       "      <td>0</td>\n",
       "      <td>0</td>\n",
       "      <td>0</td>\n",
       "      <td>1</td>\n",
       "      <td>0</td>\n",
       "      <td>0</td>\n",
       "      <td>0</td>\n",
       "      <td>0</td>\n",
       "    </tr>\n",
       "    <tr>\n",
       "      <th>1</th>\n",
       "      <td>1</td>\n",
       "      <td>1</td>\n",
       "      <td>0</td>\n",
       "      <td>0</td>\n",
       "      <td>1</td>\n",
       "      <td>0</td>\n",
       "      <td>0</td>\n",
       "      <td>0</td>\n",
       "      <td>0</td>\n",
       "      <td>1</td>\n",
       "      <td>1</td>\n",
       "      <td>0</td>\n",
       "      <td>0</td>\n",
       "      <td>0</td>\n",
       "      <td>0</td>\n",
       "    </tr>\n",
       "    <tr>\n",
       "      <th>2</th>\n",
       "      <td>1</td>\n",
       "      <td>0</td>\n",
       "      <td>0</td>\n",
       "      <td>0</td>\n",
       "      <td>0</td>\n",
       "      <td>0</td>\n",
       "      <td>0</td>\n",
       "      <td>0</td>\n",
       "      <td>0</td>\n",
       "      <td>0</td>\n",
       "      <td>1</td>\n",
       "      <td>0</td>\n",
       "      <td>0</td>\n",
       "      <td>0</td>\n",
       "      <td>0</td>\n",
       "    </tr>\n",
       "    <tr>\n",
       "      <th>3</th>\n",
       "      <td>1</td>\n",
       "      <td>0</td>\n",
       "      <td>1</td>\n",
       "      <td>0</td>\n",
       "      <td>0</td>\n",
       "      <td>0</td>\n",
       "      <td>0</td>\n",
       "      <td>0</td>\n",
       "      <td>0</td>\n",
       "      <td>0</td>\n",
       "      <td>0</td>\n",
       "      <td>0</td>\n",
       "      <td>0</td>\n",
       "      <td>0</td>\n",
       "      <td>0</td>\n",
       "    </tr>\n",
       "    <tr>\n",
       "      <th>4</th>\n",
       "      <td>0</td>\n",
       "      <td>0</td>\n",
       "      <td>1</td>\n",
       "      <td>0</td>\n",
       "      <td>0</td>\n",
       "      <td>0</td>\n",
       "      <td>0</td>\n",
       "      <td>0</td>\n",
       "      <td>1</td>\n",
       "      <td>0</td>\n",
       "      <td>1</td>\n",
       "      <td>0</td>\n",
       "      <td>0</td>\n",
       "      <td>0</td>\n",
       "      <td>1</td>\n",
       "    </tr>\n",
       "  </tbody>\n",
       "</table>\n",
       "</div>"
      ],
      "text/plain": [
       "   genre_Drama  genre_Comedy  genre_Thriller  genre_Action  genre_Romance  \\\n",
       "0            0             1               0             0              0   \n",
       "1            1             1               0             0              1   \n",
       "2            1             0               0             0              0   \n",
       "3            1             0               1             0              0   \n",
       "4            0             0               1             0              0   \n",
       "\n",
       "   genre_Adventure  genre_Crime  genre_Science Fiction  genre_Horror  \\\n",
       "0                0            0                      0             0   \n",
       "1                0            0                      0             0   \n",
       "2                0            0                      0             0   \n",
       "3                0            0                      0             0   \n",
       "4                0            0                      0             1   \n",
       "\n",
       "   genre_Family  country_United States of America  country_United Kingdom  \\\n",
       "0             0                                 1                       0   \n",
       "1             1                                 1                       0   \n",
       "2             0                                 1                       0   \n",
       "3             0                                 0                       0   \n",
       "4             0                                 1                       0   \n",
       "\n",
       "   country_France  country_Germany  country_Canada  \n",
       "0               0                0               0  \n",
       "1               0                0               0  \n",
       "2               0                0               0  \n",
       "3               0                0               0  \n",
       "4               0                0               1  "
      ]
     },
     "execution_count": 93,
     "metadata": {},
     "output_type": "execute_result"
    }
   ],
   "source": [
    "# Check it out\n",
    "X_custom = CustomGenreAndCountryEncoder().fit_transform(X[['all_genres', 'top_countries']])\n",
    "print(X_custom.shape)\n",
    "X_custom.head()"
   ]
  },
  {
   "cell_type": "markdown",
   "metadata": {},
   "source": [
    "**📝 Compute your `final_pipeline` by integrating all these transformers** (or all those you have coded)\n",
    "\n",
    "- `CustomGenreAndCountryEncoder`\n",
    "- `TimeFeaturesExtractor`\n",
    "- `CyclicalFeatureExtractor`"
   ]
  },
  {
   "cell_type": "code",
   "execution_count": 94,
   "metadata": {
    "ExecuteTime": {
     "end_time": "2021-06-30T11:53:51.119511Z",
     "start_time": "2021-06-30T11:53:51.096551Z"
    },
    "tags": [
     "challengify"
    ]
   },
   "outputs": [
    {
     "data": {
      "text/html": [
       "<style>#sk-afbb8269-e0bc-4221-b466-57524de32fbf {color: black;background-color: white;}#sk-afbb8269-e0bc-4221-b466-57524de32fbf pre{padding: 0;}#sk-afbb8269-e0bc-4221-b466-57524de32fbf div.sk-toggleable {background-color: white;}#sk-afbb8269-e0bc-4221-b466-57524de32fbf label.sk-toggleable__label {cursor: pointer;display: block;width: 100%;margin-bottom: 0;padding: 0.2em 0.3em;box-sizing: border-box;text-align: center;}#sk-afbb8269-e0bc-4221-b466-57524de32fbf div.sk-toggleable__content {max-height: 0;max-width: 0;overflow: hidden;text-align: left;background-color: #f0f8ff;}#sk-afbb8269-e0bc-4221-b466-57524de32fbf div.sk-toggleable__content pre {margin: 0.2em;color: black;border-radius: 0.25em;background-color: #f0f8ff;}#sk-afbb8269-e0bc-4221-b466-57524de32fbf input.sk-toggleable__control:checked~div.sk-toggleable__content {max-height: 200px;max-width: 100%;overflow: auto;}#sk-afbb8269-e0bc-4221-b466-57524de32fbf div.sk-estimator input.sk-toggleable__control:checked~label.sk-toggleable__label {background-color: #d4ebff;}#sk-afbb8269-e0bc-4221-b466-57524de32fbf div.sk-label input.sk-toggleable__control:checked~label.sk-toggleable__label {background-color: #d4ebff;}#sk-afbb8269-e0bc-4221-b466-57524de32fbf input.sk-hidden--visually {border: 0;clip: rect(1px 1px 1px 1px);clip: rect(1px, 1px, 1px, 1px);height: 1px;margin: -1px;overflow: hidden;padding: 0;position: absolute;width: 1px;}#sk-afbb8269-e0bc-4221-b466-57524de32fbf div.sk-estimator {font-family: monospace;background-color: #f0f8ff;margin: 0.25em 0.25em;border: 1px dotted black;border-radius: 0.25em;box-sizing: border-box;}#sk-afbb8269-e0bc-4221-b466-57524de32fbf div.sk-estimator:hover {background-color: #d4ebff;}#sk-afbb8269-e0bc-4221-b466-57524de32fbf div.sk-parallel-item::after {content: \"\";width: 100%;border-bottom: 1px solid gray;flex-grow: 1;}#sk-afbb8269-e0bc-4221-b466-57524de32fbf div.sk-label:hover label.sk-toggleable__label {background-color: #d4ebff;}#sk-afbb8269-e0bc-4221-b466-57524de32fbf div.sk-serial::before {content: \"\";position: absolute;border-left: 1px solid gray;box-sizing: border-box;top: 2em;bottom: 0;left: 50%;}#sk-afbb8269-e0bc-4221-b466-57524de32fbf div.sk-serial {display: flex;flex-direction: column;align-items: center;background-color: white;}#sk-afbb8269-e0bc-4221-b466-57524de32fbf div.sk-item {z-index: 1;}#sk-afbb8269-e0bc-4221-b466-57524de32fbf div.sk-parallel {display: flex;align-items: stretch;justify-content: center;background-color: white;}#sk-afbb8269-e0bc-4221-b466-57524de32fbf div.sk-parallel-item {display: flex;flex-direction: column;position: relative;background-color: white;}#sk-afbb8269-e0bc-4221-b466-57524de32fbf div.sk-parallel-item:first-child::after {align-self: flex-end;width: 50%;}#sk-afbb8269-e0bc-4221-b466-57524de32fbf div.sk-parallel-item:last-child::after {align-self: flex-start;width: 50%;}#sk-afbb8269-e0bc-4221-b466-57524de32fbf div.sk-parallel-item:only-child::after {width: 0;}#sk-afbb8269-e0bc-4221-b466-57524de32fbf div.sk-dashed-wrapped {border: 1px dashed gray;margin: 0.2em;box-sizing: border-box;padding-bottom: 0.1em;background-color: white;position: relative;}#sk-afbb8269-e0bc-4221-b466-57524de32fbf div.sk-label label {font-family: monospace;font-weight: bold;background-color: white;display: inline-block;line-height: 1.2em;}#sk-afbb8269-e0bc-4221-b466-57524de32fbf div.sk-label-container {position: relative;z-index: 2;text-align: center;}#sk-afbb8269-e0bc-4221-b466-57524de32fbf div.sk-container {display: inline-block;position: relative;}</style><div id=\"sk-afbb8269-e0bc-4221-b466-57524de32fbf\" class\"sk-top-container\"><div class=\"sk-container\"><div class=\"sk-item sk-dashed-wrapped\"><div class=\"sk-label-container\"><div class=\"sk-label sk-toggleable\"><input class=\"sk-toggleable__control sk-hidden--visually\" id=\"2a01f9b6-44a9-4b4b-b321-c72289e2fbd2\" type=\"checkbox\" ><label class=\"sk-toggleable__label\" for=\"2a01f9b6-44a9-4b4b-b321-c72289e2fbd2\">ColumnTransformer</label><div class=\"sk-toggleable__content\"><pre>ColumnTransformer(sparse_threshold=0,\n",
       "                  transformers=[('cat_transformer',\n",
       "                                 OneHotEncoder(handle_unknown='ignore',\n",
       "                                               sparse=False),\n",
       "                                 ['original_language', 'status',\n",
       "                                  'available_in_english']),\n",
       "                                ('num_transformer', RobustScaler(),\n",
       "                                 ['duration_min', 'budget',\n",
       "                                  'number_of_awards_won',\n",
       "                                  'number_of_nominations', 'has_collection',\n",
       "                                  'number_of_top_productions']),\n",
       "                                ('genre_country_encoder',\n",
       "                                 CustomGenreAndCountryEncoder(),\n",
       "                                 ['all_genres', 'top_countries']),\n",
       "                                ('time_encoder', TimeFeaturesExtractor(),\n",
       "                                 ['release_date'])])</pre></div></div></div><div class=\"sk-parallel\"><div class=\"sk-parallel-item\"><div class=\"sk-item\"><div class=\"sk-label-container\"><div class=\"sk-label sk-toggleable\"><input class=\"sk-toggleable__control sk-hidden--visually\" id=\"35e46d7b-3244-4902-ae29-e94547f0941d\" type=\"checkbox\" ><label class=\"sk-toggleable__label\" for=\"35e46d7b-3244-4902-ae29-e94547f0941d\">cat_transformer</label><div class=\"sk-toggleable__content\"><pre>['original_language', 'status', 'available_in_english']</pre></div></div></div><div class=\"sk-serial\"><div class=\"sk-item\"><div class=\"sk-estimator sk-toggleable\"><input class=\"sk-toggleable__control sk-hidden--visually\" id=\"bbe9cdb0-1a6a-402c-9c85-c9353537c360\" type=\"checkbox\" ><label class=\"sk-toggleable__label\" for=\"bbe9cdb0-1a6a-402c-9c85-c9353537c360\">OneHotEncoder</label><div class=\"sk-toggleable__content\"><pre>OneHotEncoder(handle_unknown='ignore', sparse=False)</pre></div></div></div></div></div></div><div class=\"sk-parallel-item\"><div class=\"sk-item\"><div class=\"sk-label-container\"><div class=\"sk-label sk-toggleable\"><input class=\"sk-toggleable__control sk-hidden--visually\" id=\"c867a9b0-5a00-47ab-b657-ce00adc017c2\" type=\"checkbox\" ><label class=\"sk-toggleable__label\" for=\"c867a9b0-5a00-47ab-b657-ce00adc017c2\">num_transformer</label><div class=\"sk-toggleable__content\"><pre>['duration_min', 'budget', 'number_of_awards_won', 'number_of_nominations', 'has_collection', 'number_of_top_productions']</pre></div></div></div><div class=\"sk-serial\"><div class=\"sk-item\"><div class=\"sk-estimator sk-toggleable\"><input class=\"sk-toggleable__control sk-hidden--visually\" id=\"5db8bed8-5df1-4300-8d9e-18fe1c9e575a\" type=\"checkbox\" ><label class=\"sk-toggleable__label\" for=\"5db8bed8-5df1-4300-8d9e-18fe1c9e575a\">RobustScaler</label><div class=\"sk-toggleable__content\"><pre>RobustScaler()</pre></div></div></div></div></div></div><div class=\"sk-parallel-item\"><div class=\"sk-item\"><div class=\"sk-label-container\"><div class=\"sk-label sk-toggleable\"><input class=\"sk-toggleable__control sk-hidden--visually\" id=\"b36dce19-7839-4af9-b865-fafd3ce4d5dc\" type=\"checkbox\" ><label class=\"sk-toggleable__label\" for=\"b36dce19-7839-4af9-b865-fafd3ce4d5dc\">genre_country_encoder</label><div class=\"sk-toggleable__content\"><pre>['all_genres', 'top_countries']</pre></div></div></div><div class=\"sk-serial\"><div class=\"sk-item\"><div class=\"sk-estimator sk-toggleable\"><input class=\"sk-toggleable__control sk-hidden--visually\" id=\"128f235e-d9e1-4779-bfa4-ae5cbf13e512\" type=\"checkbox\" ><label class=\"sk-toggleable__label\" for=\"128f235e-d9e1-4779-bfa4-ae5cbf13e512\">CustomGenreAndCountryEncoder</label><div class=\"sk-toggleable__content\"><pre>CustomGenreAndCountryEncoder()</pre></div></div></div></div></div></div><div class=\"sk-parallel-item\"><div class=\"sk-item\"><div class=\"sk-label-container\"><div class=\"sk-label sk-toggleable\"><input class=\"sk-toggleable__control sk-hidden--visually\" id=\"096d3ed4-6f29-4cf9-8a40-08d0f4626215\" type=\"checkbox\" ><label class=\"sk-toggleable__label\" for=\"096d3ed4-6f29-4cf9-8a40-08d0f4626215\">time_encoder</label><div class=\"sk-toggleable__content\"><pre>['release_date']</pre></div></div></div><div class=\"sk-serial\"><div class=\"sk-item\"><div class=\"sk-estimator sk-toggleable\"><input class=\"sk-toggleable__control sk-hidden--visually\" id=\"58925c7b-992a-42c1-a76a-39d56f071e7c\" type=\"checkbox\" ><label class=\"sk-toggleable__label\" for=\"58925c7b-992a-42c1-a76a-39d56f071e7c\">TimeFeaturesExtractor</label><div class=\"sk-toggleable__content\"><pre>TimeFeaturesExtractor()</pre></div></div></div></div></div></div></div></div></div></div>"
      ],
      "text/plain": [
       "ColumnTransformer(sparse_threshold=0,\n",
       "                  transformers=[('cat_transformer',\n",
       "                                 OneHotEncoder(handle_unknown='ignore',\n",
       "                                               sparse=False),\n",
       "                                 ['original_language', 'status',\n",
       "                                  'available_in_english']),\n",
       "                                ('num_transformer', RobustScaler(),\n",
       "                                 ['duration_min', 'budget',\n",
       "                                  'number_of_awards_won',\n",
       "                                  'number_of_nominations', 'has_collection',\n",
       "                                  'number_of_top_productions']),\n",
       "                                ('genre_country_encoder',\n",
       "                                 CustomGenreAndCountryEncoder(),\n",
       "                                 ['all_genres', 'top_countries']),\n",
       "                                ('time_encoder', TimeFeaturesExtractor(),\n",
       "                                 ['release_date'])])"
      ]
     },
     "execution_count": 94,
     "metadata": {},
     "output_type": "execute_result"
    }
   ],
   "source": [
    "categorical = [\"original_language\",\n",
    "              \"status\",\n",
    "              \"available_in_english\"]\n",
    "\n",
    "genre_country_encoder = CustomGenreAndCountryEncoder()\n",
    "\n",
    "preprocessing_v3 = ColumnTransformer([\n",
    "    (\"cat_transformer\", cat_transformer, categorical),\n",
    "    (\"num_transformer\", num_transformer, numerical),\n",
    "    (\"genre_country_encoder\", genre_country_encoder, [\"all_genres\", \"top_countries\"]),\n",
    "    (\"time_encoder\", TimeFeaturesExtractor(), [\"release_date\"])\n",
    "], sparse_threshold=0)\n",
    "\n",
    "preprocessing_v3"
   ]
  },
  {
   "cell_type": "code",
   "execution_count": 106,
   "metadata": {
    "ExecuteTime": {
     "end_time": "2021-06-30T11:57:56.189879Z",
     "start_time": "2021-06-30T11:57:56.140683Z"
    }
   },
   "outputs": [
    {
     "data": {
      "text/html": [
       "<style>#sk-b26754f6-f63e-473c-8b30-2449c33f98d8 {color: black;background-color: white;}#sk-b26754f6-f63e-473c-8b30-2449c33f98d8 pre{padding: 0;}#sk-b26754f6-f63e-473c-8b30-2449c33f98d8 div.sk-toggleable {background-color: white;}#sk-b26754f6-f63e-473c-8b30-2449c33f98d8 label.sk-toggleable__label {cursor: pointer;display: block;width: 100%;margin-bottom: 0;padding: 0.2em 0.3em;box-sizing: border-box;text-align: center;}#sk-b26754f6-f63e-473c-8b30-2449c33f98d8 div.sk-toggleable__content {max-height: 0;max-width: 0;overflow: hidden;text-align: left;background-color: #f0f8ff;}#sk-b26754f6-f63e-473c-8b30-2449c33f98d8 div.sk-toggleable__content pre {margin: 0.2em;color: black;border-radius: 0.25em;background-color: #f0f8ff;}#sk-b26754f6-f63e-473c-8b30-2449c33f98d8 input.sk-toggleable__control:checked~div.sk-toggleable__content {max-height: 200px;max-width: 100%;overflow: auto;}#sk-b26754f6-f63e-473c-8b30-2449c33f98d8 div.sk-estimator input.sk-toggleable__control:checked~label.sk-toggleable__label {background-color: #d4ebff;}#sk-b26754f6-f63e-473c-8b30-2449c33f98d8 div.sk-label input.sk-toggleable__control:checked~label.sk-toggleable__label {background-color: #d4ebff;}#sk-b26754f6-f63e-473c-8b30-2449c33f98d8 input.sk-hidden--visually {border: 0;clip: rect(1px 1px 1px 1px);clip: rect(1px, 1px, 1px, 1px);height: 1px;margin: -1px;overflow: hidden;padding: 0;position: absolute;width: 1px;}#sk-b26754f6-f63e-473c-8b30-2449c33f98d8 div.sk-estimator {font-family: monospace;background-color: #f0f8ff;margin: 0.25em 0.25em;border: 1px dotted black;border-radius: 0.25em;box-sizing: border-box;}#sk-b26754f6-f63e-473c-8b30-2449c33f98d8 div.sk-estimator:hover {background-color: #d4ebff;}#sk-b26754f6-f63e-473c-8b30-2449c33f98d8 div.sk-parallel-item::after {content: \"\";width: 100%;border-bottom: 1px solid gray;flex-grow: 1;}#sk-b26754f6-f63e-473c-8b30-2449c33f98d8 div.sk-label:hover label.sk-toggleable__label {background-color: #d4ebff;}#sk-b26754f6-f63e-473c-8b30-2449c33f98d8 div.sk-serial::before {content: \"\";position: absolute;border-left: 1px solid gray;box-sizing: border-box;top: 2em;bottom: 0;left: 50%;}#sk-b26754f6-f63e-473c-8b30-2449c33f98d8 div.sk-serial {display: flex;flex-direction: column;align-items: center;background-color: white;}#sk-b26754f6-f63e-473c-8b30-2449c33f98d8 div.sk-item {z-index: 1;}#sk-b26754f6-f63e-473c-8b30-2449c33f98d8 div.sk-parallel {display: flex;align-items: stretch;justify-content: center;background-color: white;}#sk-b26754f6-f63e-473c-8b30-2449c33f98d8 div.sk-parallel-item {display: flex;flex-direction: column;position: relative;background-color: white;}#sk-b26754f6-f63e-473c-8b30-2449c33f98d8 div.sk-parallel-item:first-child::after {align-self: flex-end;width: 50%;}#sk-b26754f6-f63e-473c-8b30-2449c33f98d8 div.sk-parallel-item:last-child::after {align-self: flex-start;width: 50%;}#sk-b26754f6-f63e-473c-8b30-2449c33f98d8 div.sk-parallel-item:only-child::after {width: 0;}#sk-b26754f6-f63e-473c-8b30-2449c33f98d8 div.sk-dashed-wrapped {border: 1px dashed gray;margin: 0.2em;box-sizing: border-box;padding-bottom: 0.1em;background-color: white;position: relative;}#sk-b26754f6-f63e-473c-8b30-2449c33f98d8 div.sk-label label {font-family: monospace;font-weight: bold;background-color: white;display: inline-block;line-height: 1.2em;}#sk-b26754f6-f63e-473c-8b30-2449c33f98d8 div.sk-label-container {position: relative;z-index: 2;text-align: center;}#sk-b26754f6-f63e-473c-8b30-2449c33f98d8 div.sk-container {display: inline-block;position: relative;}</style><div id=\"sk-b26754f6-f63e-473c-8b30-2449c33f98d8\" class\"sk-top-container\"><div class=\"sk-container\"><div class=\"sk-item sk-dashed-wrapped\"><div class=\"sk-label-container\"><div class=\"sk-label sk-toggleable\"><input class=\"sk-toggleable__control sk-hidden--visually\" id=\"06b16182-b624-414a-9709-5bb90b95f6b7\" type=\"checkbox\" ><label class=\"sk-toggleable__label\" for=\"06b16182-b624-414a-9709-5bb90b95f6b7\">Pipeline</label><div class=\"sk-toggleable__content\"><pre>Pipeline(steps=[('preprocessor',\n",
       "                 ColumnTransformer(sparse_threshold=0,\n",
       "                                   transformers=[('cat_transformer',\n",
       "                                                  OneHotEncoder(handle_unknown='ignore',\n",
       "                                                                sparse=False),\n",
       "                                                  ['original_language',\n",
       "                                                   'status',\n",
       "                                                   'available_in_english']),\n",
       "                                                 ('num_transformer',\n",
       "                                                  RobustScaler(),\n",
       "                                                  ['duration_min', 'budget',\n",
       "                                                   'number_of_awards_won',\n",
       "                                                   'number_of_nominations',\n",
       "                                                   'has_collection',\n",
       "                                                   'number_of_top_productions']),\n",
       "                                                 ('genre_country_encoder',\n",
       "                                                  CustomGenreAndCountryEncoder(),\n",
       "                                                  ['all_genres',\n",
       "                                                   'top_countries']),\n",
       "                                                 ('time_encoder',\n",
       "                                                  TimeFeaturesExtractor(),\n",
       "                                                  ['release_date'])])),\n",
       "                ('linear_regression', Lasso())])</pre></div></div></div><div class=\"sk-serial\"><div class=\"sk-item sk-dashed-wrapped\"><div class=\"sk-label-container\"><div class=\"sk-label sk-toggleable\"><input class=\"sk-toggleable__control sk-hidden--visually\" id=\"d8b2c2f7-a7ba-450f-a102-2be872f8ab45\" type=\"checkbox\" ><label class=\"sk-toggleable__label\" for=\"d8b2c2f7-a7ba-450f-a102-2be872f8ab45\">preprocessor: ColumnTransformer</label><div class=\"sk-toggleable__content\"><pre>ColumnTransformer(sparse_threshold=0,\n",
       "                  transformers=[('cat_transformer',\n",
       "                                 OneHotEncoder(handle_unknown='ignore',\n",
       "                                               sparse=False),\n",
       "                                 ['original_language', 'status',\n",
       "                                  'available_in_english']),\n",
       "                                ('num_transformer', RobustScaler(),\n",
       "                                 ['duration_min', 'budget',\n",
       "                                  'number_of_awards_won',\n",
       "                                  'number_of_nominations', 'has_collection',\n",
       "                                  'number_of_top_productions']),\n",
       "                                ('genre_country_encoder',\n",
       "                                 CustomGenreAndCountryEncoder(),\n",
       "                                 ['all_genres', 'top_countries']),\n",
       "                                ('time_encoder', TimeFeaturesExtractor(),\n",
       "                                 ['release_date'])])</pre></div></div></div><div class=\"sk-parallel\"><div class=\"sk-parallel-item\"><div class=\"sk-item\"><div class=\"sk-label-container\"><div class=\"sk-label sk-toggleable\"><input class=\"sk-toggleable__control sk-hidden--visually\" id=\"00254e2f-da8c-4229-a18e-41d335232eb0\" type=\"checkbox\" ><label class=\"sk-toggleable__label\" for=\"00254e2f-da8c-4229-a18e-41d335232eb0\">cat_transformer</label><div class=\"sk-toggleable__content\"><pre>['original_language', 'status', 'available_in_english']</pre></div></div></div><div class=\"sk-serial\"><div class=\"sk-item\"><div class=\"sk-estimator sk-toggleable\"><input class=\"sk-toggleable__control sk-hidden--visually\" id=\"005b116a-2063-44e9-9045-a298f3474a13\" type=\"checkbox\" ><label class=\"sk-toggleable__label\" for=\"005b116a-2063-44e9-9045-a298f3474a13\">OneHotEncoder</label><div class=\"sk-toggleable__content\"><pre>OneHotEncoder(handle_unknown='ignore', sparse=False)</pre></div></div></div></div></div></div><div class=\"sk-parallel-item\"><div class=\"sk-item\"><div class=\"sk-label-container\"><div class=\"sk-label sk-toggleable\"><input class=\"sk-toggleable__control sk-hidden--visually\" id=\"16062932-910c-487c-9f4d-78aca77b4dca\" type=\"checkbox\" ><label class=\"sk-toggleable__label\" for=\"16062932-910c-487c-9f4d-78aca77b4dca\">num_transformer</label><div class=\"sk-toggleable__content\"><pre>['duration_min', 'budget', 'number_of_awards_won', 'number_of_nominations', 'has_collection', 'number_of_top_productions']</pre></div></div></div><div class=\"sk-serial\"><div class=\"sk-item\"><div class=\"sk-estimator sk-toggleable\"><input class=\"sk-toggleable__control sk-hidden--visually\" id=\"d0e3545b-dc57-43a8-a50a-4a3a56103e8b\" type=\"checkbox\" ><label class=\"sk-toggleable__label\" for=\"d0e3545b-dc57-43a8-a50a-4a3a56103e8b\">RobustScaler</label><div class=\"sk-toggleable__content\"><pre>RobustScaler()</pre></div></div></div></div></div></div><div class=\"sk-parallel-item\"><div class=\"sk-item\"><div class=\"sk-label-container\"><div class=\"sk-label sk-toggleable\"><input class=\"sk-toggleable__control sk-hidden--visually\" id=\"494e5203-a378-43d2-9265-72546c79cc25\" type=\"checkbox\" ><label class=\"sk-toggleable__label\" for=\"494e5203-a378-43d2-9265-72546c79cc25\">genre_country_encoder</label><div class=\"sk-toggleable__content\"><pre>['all_genres', 'top_countries']</pre></div></div></div><div class=\"sk-serial\"><div class=\"sk-item\"><div class=\"sk-estimator sk-toggleable\"><input class=\"sk-toggleable__control sk-hidden--visually\" id=\"f6ccf2b9-6d4f-424a-a46a-f39674c8e63c\" type=\"checkbox\" ><label class=\"sk-toggleable__label\" for=\"f6ccf2b9-6d4f-424a-a46a-f39674c8e63c\">CustomGenreAndCountryEncoder</label><div class=\"sk-toggleable__content\"><pre>CustomGenreAndCountryEncoder()</pre></div></div></div></div></div></div><div class=\"sk-parallel-item\"><div class=\"sk-item\"><div class=\"sk-label-container\"><div class=\"sk-label sk-toggleable\"><input class=\"sk-toggleable__control sk-hidden--visually\" id=\"b4ed4a12-c2ae-4409-846e-8c052076843e\" type=\"checkbox\" ><label class=\"sk-toggleable__label\" for=\"b4ed4a12-c2ae-4409-846e-8c052076843e\">time_encoder</label><div class=\"sk-toggleable__content\"><pre>['release_date']</pre></div></div></div><div class=\"sk-serial\"><div class=\"sk-item\"><div class=\"sk-estimator sk-toggleable\"><input class=\"sk-toggleable__control sk-hidden--visually\" id=\"62d4263d-2208-4957-8507-1297ebe7790e\" type=\"checkbox\" ><label class=\"sk-toggleable__label\" for=\"62d4263d-2208-4957-8507-1297ebe7790e\">TimeFeaturesExtractor</label><div class=\"sk-toggleable__content\"><pre>TimeFeaturesExtractor()</pre></div></div></div></div></div></div></div></div><div class=\"sk-item\"><div class=\"sk-estimator sk-toggleable\"><input class=\"sk-toggleable__control sk-hidden--visually\" id=\"9f712cf8-9e1e-47cb-b861-bc00478a8ad8\" type=\"checkbox\" ><label class=\"sk-toggleable__label\" for=\"9f712cf8-9e1e-47cb-b861-bc00478a8ad8\">Lasso</label><div class=\"sk-toggleable__content\"><pre>Lasso()</pre></div></div></div></div></div></div></div>"
      ],
      "text/plain": [
       "Pipeline(steps=[('preprocessor',\n",
       "                 ColumnTransformer(sparse_threshold=0,\n",
       "                                   transformers=[('cat_transformer',\n",
       "                                                  OneHotEncoder(handle_unknown='ignore',\n",
       "                                                                sparse=False),\n",
       "                                                  ['original_language',\n",
       "                                                   'status',\n",
       "                                                   'available_in_english']),\n",
       "                                                 ('num_transformer',\n",
       "                                                  RobustScaler(),\n",
       "                                                  ['duration_min', 'budget',\n",
       "                                                   'number_of_awards_won',\n",
       "                                                   'number_of_nominations',\n",
       "                                                   'has_collection',\n",
       "                                                   'number_of_top_productions']),\n",
       "                                                 ('genre_country_encoder',\n",
       "                                                  CustomGenreAndCountryEncoder(),\n",
       "                                                  ['all_genres',\n",
       "                                                   'top_countries']),\n",
       "                                                 ('time_encoder',\n",
       "                                                  TimeFeaturesExtractor(),\n",
       "                                                  ['release_date'])])),\n",
       "                ('linear_regression', Lasso())])"
      ]
     },
     "execution_count": 106,
     "metadata": {},
     "output_type": "execute_result"
    }
   ],
   "source": [
    "final_pipeline = Pipeline([\n",
    "    (\"preprocessor\", preprocessing_v3),\n",
    "    (\"linear_regression\", Lasso())\n",
    "    \n",
    "])\n",
    "\n",
    "final_pipeline"
   ]
  },
  {
   "cell_type": "markdown",
   "metadata": {},
   "source": [
    "📝 **Compute and store its cross validated scores as `final_scores` array of floats**\n",
    "\n",
    "- It does not necessarily improve the performance before we can try-out doing model tuning\n",
    "- However, with a now limited number of features, we will be able to train more complex models in next section (ensemble...)"
   ]
  },
  {
   "cell_type": "code",
   "execution_count": 97,
   "metadata": {
    "ExecuteTime": {
     "end_time": "2021-06-30T11:55:12.413246Z",
     "start_time": "2021-06-30T11:54:03.262659Z"
    }
   },
   "outputs": [],
   "source": [
    "final_scores = cross_validate(final_pipeline, X, y, cv = 5, scoring=scoring)"
   ]
  },
  {
   "cell_type": "code",
   "execution_count": 99,
   "metadata": {
    "ExecuteTime": {
     "end_time": "2021-06-30T11:55:40.910834Z",
     "start_time": "2021-06-30T11:55:40.903741Z"
    }
   },
   "outputs": [
    {
     "data": {
      "text/plain": [
       "{'fit_time': array([11.28299332, 12.93828583, 12.64280939, 11.49871659, 11.78139496]),\n",
       " 'score_time': array([2.08892727, 1.74797034, 1.80436373, 1.69978786, 1.64932179]),\n",
       " 'test_score': array([-0.83879548, -0.96569499, -0.91900956, -0.89769635, -0.90092816])}"
      ]
     },
     "execution_count": 99,
     "metadata": {},
     "output_type": "execute_result"
    }
   ],
   "source": [
    "final_scores"
   ]
  },
  {
   "cell_type": "markdown",
   "metadata": {},
   "source": [
    "### 🧪 Save your result\n",
    "\n",
    "Run the following cell to save your results."
   ]
  },
  {
   "cell_type": "code",
   "execution_count": 107,
   "metadata": {
    "ExecuteTime": {
     "end_time": "2021-06-30T11:58:04.105811Z",
     "start_time": "2021-06-30T11:58:04.096195Z"
    }
   },
   "outputs": [],
   "source": [
    "ChallengeResult(\n",
    "    'feature_engineering',\n",
    "    X_time_features=X_time_features,\n",
    "    X_time_cyclical= X_time_cyclical,\n",
    "    time_pipeline=time_pipeline,\n",
    "    final_pipeline=final_pipeline,\n",
    "    final_scores=final_scores\n",
    ").write()\n",
    "\n",
    "# Hint: Try restarting your notebook if you obtain an error about saving a custom encoder"
   ]
  },
  {
   "cell_type": "markdown",
   "metadata": {},
   "source": [
    "## Model tuning"
   ]
  },
  {
   "cell_type": "markdown",
   "metadata": {},
   "source": [
    "### Random Forest"
   ]
  },
  {
   "cell_type": "markdown",
   "metadata": {},
   "source": [
    "📝 **Change the estimator of your `final_pipeline` by a Random Forest and checkout your new cross-validated score**"
   ]
  },
  {
   "cell_type": "code",
   "execution_count": 109,
   "metadata": {
    "ExecuteTime": {
     "end_time": "2021-06-30T11:59:42.964051Z",
     "start_time": "2021-06-30T11:59:42.959889Z"
    },
    "tags": [
     "challengify"
    ]
   },
   "outputs": [],
   "source": [
    "from sklearn.ensemble import RandomForestRegressor\n",
    "\n",
    "forest = RandomForestRegressor(n_estimators=100)"
   ]
  },
  {
   "cell_type": "code",
   "execution_count": 110,
   "metadata": {
    "ExecuteTime": {
     "end_time": "2021-06-30T11:59:43.178399Z",
     "start_time": "2021-06-30T11:59:43.120727Z"
    }
   },
   "outputs": [
    {
     "data": {
      "text/html": [
       "<style>#sk-32653a8b-5155-450c-98dd-3d1641f20cf7 {color: black;background-color: white;}#sk-32653a8b-5155-450c-98dd-3d1641f20cf7 pre{padding: 0;}#sk-32653a8b-5155-450c-98dd-3d1641f20cf7 div.sk-toggleable {background-color: white;}#sk-32653a8b-5155-450c-98dd-3d1641f20cf7 label.sk-toggleable__label {cursor: pointer;display: block;width: 100%;margin-bottom: 0;padding: 0.2em 0.3em;box-sizing: border-box;text-align: center;}#sk-32653a8b-5155-450c-98dd-3d1641f20cf7 div.sk-toggleable__content {max-height: 0;max-width: 0;overflow: hidden;text-align: left;background-color: #f0f8ff;}#sk-32653a8b-5155-450c-98dd-3d1641f20cf7 div.sk-toggleable__content pre {margin: 0.2em;color: black;border-radius: 0.25em;background-color: #f0f8ff;}#sk-32653a8b-5155-450c-98dd-3d1641f20cf7 input.sk-toggleable__control:checked~div.sk-toggleable__content {max-height: 200px;max-width: 100%;overflow: auto;}#sk-32653a8b-5155-450c-98dd-3d1641f20cf7 div.sk-estimator input.sk-toggleable__control:checked~label.sk-toggleable__label {background-color: #d4ebff;}#sk-32653a8b-5155-450c-98dd-3d1641f20cf7 div.sk-label input.sk-toggleable__control:checked~label.sk-toggleable__label {background-color: #d4ebff;}#sk-32653a8b-5155-450c-98dd-3d1641f20cf7 input.sk-hidden--visually {border: 0;clip: rect(1px 1px 1px 1px);clip: rect(1px, 1px, 1px, 1px);height: 1px;margin: -1px;overflow: hidden;padding: 0;position: absolute;width: 1px;}#sk-32653a8b-5155-450c-98dd-3d1641f20cf7 div.sk-estimator {font-family: monospace;background-color: #f0f8ff;margin: 0.25em 0.25em;border: 1px dotted black;border-radius: 0.25em;box-sizing: border-box;}#sk-32653a8b-5155-450c-98dd-3d1641f20cf7 div.sk-estimator:hover {background-color: #d4ebff;}#sk-32653a8b-5155-450c-98dd-3d1641f20cf7 div.sk-parallel-item::after {content: \"\";width: 100%;border-bottom: 1px solid gray;flex-grow: 1;}#sk-32653a8b-5155-450c-98dd-3d1641f20cf7 div.sk-label:hover label.sk-toggleable__label {background-color: #d4ebff;}#sk-32653a8b-5155-450c-98dd-3d1641f20cf7 div.sk-serial::before {content: \"\";position: absolute;border-left: 1px solid gray;box-sizing: border-box;top: 2em;bottom: 0;left: 50%;}#sk-32653a8b-5155-450c-98dd-3d1641f20cf7 div.sk-serial {display: flex;flex-direction: column;align-items: center;background-color: white;}#sk-32653a8b-5155-450c-98dd-3d1641f20cf7 div.sk-item {z-index: 1;}#sk-32653a8b-5155-450c-98dd-3d1641f20cf7 div.sk-parallel {display: flex;align-items: stretch;justify-content: center;background-color: white;}#sk-32653a8b-5155-450c-98dd-3d1641f20cf7 div.sk-parallel-item {display: flex;flex-direction: column;position: relative;background-color: white;}#sk-32653a8b-5155-450c-98dd-3d1641f20cf7 div.sk-parallel-item:first-child::after {align-self: flex-end;width: 50%;}#sk-32653a8b-5155-450c-98dd-3d1641f20cf7 div.sk-parallel-item:last-child::after {align-self: flex-start;width: 50%;}#sk-32653a8b-5155-450c-98dd-3d1641f20cf7 div.sk-parallel-item:only-child::after {width: 0;}#sk-32653a8b-5155-450c-98dd-3d1641f20cf7 div.sk-dashed-wrapped {border: 1px dashed gray;margin: 0.2em;box-sizing: border-box;padding-bottom: 0.1em;background-color: white;position: relative;}#sk-32653a8b-5155-450c-98dd-3d1641f20cf7 div.sk-label label {font-family: monospace;font-weight: bold;background-color: white;display: inline-block;line-height: 1.2em;}#sk-32653a8b-5155-450c-98dd-3d1641f20cf7 div.sk-label-container {position: relative;z-index: 2;text-align: center;}#sk-32653a8b-5155-450c-98dd-3d1641f20cf7 div.sk-container {display: inline-block;position: relative;}</style><div id=\"sk-32653a8b-5155-450c-98dd-3d1641f20cf7\" class\"sk-top-container\"><div class=\"sk-container\"><div class=\"sk-item sk-dashed-wrapped\"><div class=\"sk-label-container\"><div class=\"sk-label sk-toggleable\"><input class=\"sk-toggleable__control sk-hidden--visually\" id=\"3ba9cd61-155b-4a2f-bf43-efb9891de668\" type=\"checkbox\" ><label class=\"sk-toggleable__label\" for=\"3ba9cd61-155b-4a2f-bf43-efb9891de668\">Pipeline</label><div class=\"sk-toggleable__content\"><pre>Pipeline(steps=[('preprocessor',\n",
       "                 ColumnTransformer(sparse_threshold=0,\n",
       "                                   transformers=[('cat_transformer',\n",
       "                                                  OneHotEncoder(handle_unknown='ignore',\n",
       "                                                                sparse=False),\n",
       "                                                  ['original_language',\n",
       "                                                   'status',\n",
       "                                                   'available_in_english']),\n",
       "                                                 ('num_transformer',\n",
       "                                                  RobustScaler(),\n",
       "                                                  ['duration_min', 'budget',\n",
       "                                                   'number_of_awards_won',\n",
       "                                                   'number_of_nominations',\n",
       "                                                   'has_collection',\n",
       "                                                   'number_of_top_productions']),\n",
       "                                                 ('genre_country_encoder',\n",
       "                                                  CustomGenreAndCountryEncoder(),\n",
       "                                                  ['all_genres',\n",
       "                                                   'top_countries']),\n",
       "                                                 ('time_encoder',\n",
       "                                                  TimeFeaturesExtractor(),\n",
       "                                                  ['release_date'])])),\n",
       "                ('Random_Forest', RandomForestRegressor())])</pre></div></div></div><div class=\"sk-serial\"><div class=\"sk-item sk-dashed-wrapped\"><div class=\"sk-label-container\"><div class=\"sk-label sk-toggleable\"><input class=\"sk-toggleable__control sk-hidden--visually\" id=\"bb4f05b0-cf54-46f3-b9c7-a4aeba31d93c\" type=\"checkbox\" ><label class=\"sk-toggleable__label\" for=\"bb4f05b0-cf54-46f3-b9c7-a4aeba31d93c\">preprocessor: ColumnTransformer</label><div class=\"sk-toggleable__content\"><pre>ColumnTransformer(sparse_threshold=0,\n",
       "                  transformers=[('cat_transformer',\n",
       "                                 OneHotEncoder(handle_unknown='ignore',\n",
       "                                               sparse=False),\n",
       "                                 ['original_language', 'status',\n",
       "                                  'available_in_english']),\n",
       "                                ('num_transformer', RobustScaler(),\n",
       "                                 ['duration_min', 'budget',\n",
       "                                  'number_of_awards_won',\n",
       "                                  'number_of_nominations', 'has_collection',\n",
       "                                  'number_of_top_productions']),\n",
       "                                ('genre_country_encoder',\n",
       "                                 CustomGenreAndCountryEncoder(),\n",
       "                                 ['all_genres', 'top_countries']),\n",
       "                                ('time_encoder', TimeFeaturesExtractor(),\n",
       "                                 ['release_date'])])</pre></div></div></div><div class=\"sk-parallel\"><div class=\"sk-parallel-item\"><div class=\"sk-item\"><div class=\"sk-label-container\"><div class=\"sk-label sk-toggleable\"><input class=\"sk-toggleable__control sk-hidden--visually\" id=\"81f9f9ef-c6be-49e6-81f2-b84b44cb5809\" type=\"checkbox\" ><label class=\"sk-toggleable__label\" for=\"81f9f9ef-c6be-49e6-81f2-b84b44cb5809\">cat_transformer</label><div class=\"sk-toggleable__content\"><pre>['original_language', 'status', 'available_in_english']</pre></div></div></div><div class=\"sk-serial\"><div class=\"sk-item\"><div class=\"sk-estimator sk-toggleable\"><input class=\"sk-toggleable__control sk-hidden--visually\" id=\"e942a373-cfa3-4ac0-a49b-544a0f37732c\" type=\"checkbox\" ><label class=\"sk-toggleable__label\" for=\"e942a373-cfa3-4ac0-a49b-544a0f37732c\">OneHotEncoder</label><div class=\"sk-toggleable__content\"><pre>OneHotEncoder(handle_unknown='ignore', sparse=False)</pre></div></div></div></div></div></div><div class=\"sk-parallel-item\"><div class=\"sk-item\"><div class=\"sk-label-container\"><div class=\"sk-label sk-toggleable\"><input class=\"sk-toggleable__control sk-hidden--visually\" id=\"3a5e8e5b-6fae-4332-93b2-3761b7ae7520\" type=\"checkbox\" ><label class=\"sk-toggleable__label\" for=\"3a5e8e5b-6fae-4332-93b2-3761b7ae7520\">num_transformer</label><div class=\"sk-toggleable__content\"><pre>['duration_min', 'budget', 'number_of_awards_won', 'number_of_nominations', 'has_collection', 'number_of_top_productions']</pre></div></div></div><div class=\"sk-serial\"><div class=\"sk-item\"><div class=\"sk-estimator sk-toggleable\"><input class=\"sk-toggleable__control sk-hidden--visually\" id=\"3c7c990f-580a-43d0-a28f-601ee1e1ac09\" type=\"checkbox\" ><label class=\"sk-toggleable__label\" for=\"3c7c990f-580a-43d0-a28f-601ee1e1ac09\">RobustScaler</label><div class=\"sk-toggleable__content\"><pre>RobustScaler()</pre></div></div></div></div></div></div><div class=\"sk-parallel-item\"><div class=\"sk-item\"><div class=\"sk-label-container\"><div class=\"sk-label sk-toggleable\"><input class=\"sk-toggleable__control sk-hidden--visually\" id=\"0763c62a-d90c-4c9b-b244-ee1afc2c999d\" type=\"checkbox\" ><label class=\"sk-toggleable__label\" for=\"0763c62a-d90c-4c9b-b244-ee1afc2c999d\">genre_country_encoder</label><div class=\"sk-toggleable__content\"><pre>['all_genres', 'top_countries']</pre></div></div></div><div class=\"sk-serial\"><div class=\"sk-item\"><div class=\"sk-estimator sk-toggleable\"><input class=\"sk-toggleable__control sk-hidden--visually\" id=\"0ae9c029-98e9-48ef-a8fa-6d54d2ce0f90\" type=\"checkbox\" ><label class=\"sk-toggleable__label\" for=\"0ae9c029-98e9-48ef-a8fa-6d54d2ce0f90\">CustomGenreAndCountryEncoder</label><div class=\"sk-toggleable__content\"><pre>CustomGenreAndCountryEncoder()</pre></div></div></div></div></div></div><div class=\"sk-parallel-item\"><div class=\"sk-item\"><div class=\"sk-label-container\"><div class=\"sk-label sk-toggleable\"><input class=\"sk-toggleable__control sk-hidden--visually\" id=\"67b06621-371f-4ef5-9d21-bdf8aebd6b68\" type=\"checkbox\" ><label class=\"sk-toggleable__label\" for=\"67b06621-371f-4ef5-9d21-bdf8aebd6b68\">time_encoder</label><div class=\"sk-toggleable__content\"><pre>['release_date']</pre></div></div></div><div class=\"sk-serial\"><div class=\"sk-item\"><div class=\"sk-estimator sk-toggleable\"><input class=\"sk-toggleable__control sk-hidden--visually\" id=\"a6a85e79-6517-4a2c-950d-b9aa07943a06\" type=\"checkbox\" ><label class=\"sk-toggleable__label\" for=\"a6a85e79-6517-4a2c-950d-b9aa07943a06\">TimeFeaturesExtractor</label><div class=\"sk-toggleable__content\"><pre>TimeFeaturesExtractor()</pre></div></div></div></div></div></div></div></div><div class=\"sk-item\"><div class=\"sk-estimator sk-toggleable\"><input class=\"sk-toggleable__control sk-hidden--visually\" id=\"8962c53b-23e6-4c61-9bae-5c8c045512e4\" type=\"checkbox\" ><label class=\"sk-toggleable__label\" for=\"8962c53b-23e6-4c61-9bae-5c8c045512e4\">RandomForestRegressor</label><div class=\"sk-toggleable__content\"><pre>RandomForestRegressor()</pre></div></div></div></div></div></div></div>"
      ],
      "text/plain": [
       "Pipeline(steps=[('preprocessor',\n",
       "                 ColumnTransformer(sparse_threshold=0,\n",
       "                                   transformers=[('cat_transformer',\n",
       "                                                  OneHotEncoder(handle_unknown='ignore',\n",
       "                                                                sparse=False),\n",
       "                                                  ['original_language',\n",
       "                                                   'status',\n",
       "                                                   'available_in_english']),\n",
       "                                                 ('num_transformer',\n",
       "                                                  RobustScaler(),\n",
       "                                                  ['duration_min', 'budget',\n",
       "                                                   'number_of_awards_won',\n",
       "                                                   'number_of_nominations',\n",
       "                                                   'has_collection',\n",
       "                                                   'number_of_top_productions']),\n",
       "                                                 ('genre_country_encoder',\n",
       "                                                  CustomGenreAndCountryEncoder(),\n",
       "                                                  ['all_genres',\n",
       "                                                   'top_countries']),\n",
       "                                                 ('time_encoder',\n",
       "                                                  TimeFeaturesExtractor(),\n",
       "                                                  ['release_date'])])),\n",
       "                ('Random_Forest', RandomForestRegressor())])"
      ]
     },
     "execution_count": 110,
     "metadata": {},
     "output_type": "execute_result"
    }
   ],
   "source": [
    "final_pipeline = Pipeline([\n",
    "    (\"preprocessor\", preprocessing_v3),\n",
    "    (\"Random_Forest\", forest)\n",
    "    \n",
    "])\n",
    "\n",
    "final_pipeline"
   ]
  },
  {
   "cell_type": "code",
   "execution_count": 112,
   "metadata": {
    "ExecuteTime": {
     "end_time": "2021-06-30T12:03:00.821592Z",
     "start_time": "2021-06-30T12:01:34.237947Z"
    }
   },
   "outputs": [],
   "source": [
    "cv = cross_validate(final_pipeline, X, y, cv = 5, scoring=scoring)"
   ]
  },
  {
   "cell_type": "code",
   "execution_count": 113,
   "metadata": {
    "ExecuteTime": {
     "end_time": "2021-06-30T12:03:00.830219Z",
     "start_time": "2021-06-30T12:03:00.824044Z"
    }
   },
   "outputs": [
    {
     "data": {
      "text/plain": [
       "-0.6948608076147648"
      ]
     },
     "execution_count": 113,
     "metadata": {},
     "output_type": "execute_result"
    }
   ],
   "source": [
    "forest_scores = cv[\"test_score\"].mean()\n",
    "forest_scores"
   ]
  },
  {
   "cell_type": "markdown",
   "metadata": {},
   "source": [
    "### Best hyperparameters quest\n",
    "\n",
    "\n",
    "\n",
    "**📝 Fine tune your model to try to get the best performance in the minimum amount of time!**\n",
    "\n",
    "- Store the result of your search inside the `search` variable.\n",
    "- Store your 5 cross-validated scores inside `best_scores` array of floats"
   ]
  },
  {
   "cell_type": "code",
   "execution_count": 117,
   "metadata": {
    "ExecuteTime": {
     "end_time": "2021-06-30T12:06:29.040398Z",
     "start_time": "2021-06-30T12:06:29.019254Z"
    }
   },
   "outputs": [
    {
     "data": {
      "text/plain": [
       "{'memory': None,\n",
       " 'steps': [('preprocessor',\n",
       "   ColumnTransformer(sparse_threshold=0,\n",
       "                     transformers=[('cat_transformer',\n",
       "                                    OneHotEncoder(handle_unknown='ignore',\n",
       "                                                  sparse=False),\n",
       "                                    ['original_language', 'status',\n",
       "                                     'available_in_english']),\n",
       "                                   ('num_transformer', RobustScaler(),\n",
       "                                    ['duration_min', 'budget',\n",
       "                                     'number_of_awards_won',\n",
       "                                     'number_of_nominations', 'has_collection',\n",
       "                                     'number_of_top_productions']),\n",
       "                                   ('genre_country_encoder',\n",
       "                                    CustomGenreAndCountryEncoder(),\n",
       "                                    ['all_genres', 'top_countries']),\n",
       "                                   ('time_encoder', TimeFeaturesExtractor(),\n",
       "                                    ['release_date'])])),\n",
       "  ('Random_Forest', RandomForestRegressor())],\n",
       " 'verbose': False,\n",
       " 'preprocessor': ColumnTransformer(sparse_threshold=0,\n",
       "                   transformers=[('cat_transformer',\n",
       "                                  OneHotEncoder(handle_unknown='ignore',\n",
       "                                                sparse=False),\n",
       "                                  ['original_language', 'status',\n",
       "                                   'available_in_english']),\n",
       "                                 ('num_transformer', RobustScaler(),\n",
       "                                  ['duration_min', 'budget',\n",
       "                                   'number_of_awards_won',\n",
       "                                   'number_of_nominations', 'has_collection',\n",
       "                                   'number_of_top_productions']),\n",
       "                                 ('genre_country_encoder',\n",
       "                                  CustomGenreAndCountryEncoder(),\n",
       "                                  ['all_genres', 'top_countries']),\n",
       "                                 ('time_encoder', TimeFeaturesExtractor(),\n",
       "                                  ['release_date'])]),\n",
       " 'Random_Forest': RandomForestRegressor(),\n",
       " 'preprocessor__n_jobs': None,\n",
       " 'preprocessor__remainder': 'drop',\n",
       " 'preprocessor__sparse_threshold': 0,\n",
       " 'preprocessor__transformer_weights': None,\n",
       " 'preprocessor__transformers': [('cat_transformer',\n",
       "   OneHotEncoder(handle_unknown='ignore', sparse=False),\n",
       "   ['original_language', 'status', 'available_in_english']),\n",
       "  ('num_transformer',\n",
       "   RobustScaler(),\n",
       "   ['duration_min',\n",
       "    'budget',\n",
       "    'number_of_awards_won',\n",
       "    'number_of_nominations',\n",
       "    'has_collection',\n",
       "    'number_of_top_productions']),\n",
       "  ('genre_country_encoder',\n",
       "   CustomGenreAndCountryEncoder(),\n",
       "   ['all_genres', 'top_countries']),\n",
       "  ('time_encoder', TimeFeaturesExtractor(), ['release_date'])],\n",
       " 'preprocessor__verbose': False,\n",
       " 'preprocessor__cat_transformer': OneHotEncoder(handle_unknown='ignore', sparse=False),\n",
       " 'preprocessor__num_transformer': RobustScaler(),\n",
       " 'preprocessor__genre_country_encoder': CustomGenreAndCountryEncoder(),\n",
       " 'preprocessor__time_encoder': TimeFeaturesExtractor(),\n",
       " 'preprocessor__cat_transformer__categories': 'auto',\n",
       " 'preprocessor__cat_transformer__drop': None,\n",
       " 'preprocessor__cat_transformer__dtype': numpy.float64,\n",
       " 'preprocessor__cat_transformer__handle_unknown': 'ignore',\n",
       " 'preprocessor__cat_transformer__sparse': False,\n",
       " 'preprocessor__num_transformer__copy': True,\n",
       " 'preprocessor__num_transformer__quantile_range': (25.0, 75.0),\n",
       " 'preprocessor__num_transformer__unit_variance': False,\n",
       " 'preprocessor__num_transformer__with_centering': True,\n",
       " 'preprocessor__num_transformer__with_scaling': True,\n",
       " 'Random_Forest__bootstrap': True,\n",
       " 'Random_Forest__ccp_alpha': 0.0,\n",
       " 'Random_Forest__criterion': 'mse',\n",
       " 'Random_Forest__max_depth': None,\n",
       " 'Random_Forest__max_features': 'auto',\n",
       " 'Random_Forest__max_leaf_nodes': None,\n",
       " 'Random_Forest__max_samples': None,\n",
       " 'Random_Forest__min_impurity_decrease': 0.0,\n",
       " 'Random_Forest__min_impurity_split': None,\n",
       " 'Random_Forest__min_samples_leaf': 1,\n",
       " 'Random_Forest__min_samples_split': 2,\n",
       " 'Random_Forest__min_weight_fraction_leaf': 0.0,\n",
       " 'Random_Forest__n_estimators': 100,\n",
       " 'Random_Forest__n_jobs': None,\n",
       " 'Random_Forest__oob_score': False,\n",
       " 'Random_Forest__random_state': None,\n",
       " 'Random_Forest__verbose': 0,\n",
       " 'Random_Forest__warm_start': False}"
      ]
     },
     "execution_count": 117,
     "metadata": {},
     "output_type": "execute_result"
    }
   ],
   "source": [
    "final_pipeline.get_params()"
   ]
  },
  {
   "cell_type": "code",
   "execution_count": 152,
   "metadata": {
    "ExecuteTime": {
     "end_time": "2021-06-30T12:48:17.135485Z",
     "start_time": "2021-06-30T12:48:17.129489Z"
    },
    "tags": [
     "challengify"
    ]
   },
   "outputs": [],
   "source": [
    "grid = {\n",
    "    \"Random_Forest__n_estimators\": [10, 100],\n",
    "    \"Random_Forest__ccp_alpha\" : [0,50]\n",
    "    \n",
    "}\n",
    "\n",
    "\n",
    "grid_search = GridSearchCV(\n",
    "    final_pipeline,\n",
    "    param_grid=grid,\n",
    "    cv = 5,\n",
    "    scoring = scoring)"
   ]
  },
  {
   "cell_type": "code",
   "execution_count": 153,
   "metadata": {
    "ExecuteTime": {
     "end_time": "2021-06-30T12:54:40.770403Z",
     "start_time": "2021-06-30T12:48:17.404896Z"
    }
   },
   "outputs": [],
   "source": [
    "search = grid_search.fit(X,y)"
   ]
  },
  {
   "cell_type": "code",
   "execution_count": 183,
   "metadata": {
    "ExecuteTime": {
     "end_time": "2021-06-30T13:42:09.475704Z",
     "start_time": "2021-06-30T13:20:12.416723Z"
    }
   },
   "outputs": [],
   "source": [
    "cv = cross_validate(grid_search, X, y, cv = 5)"
   ]
  },
  {
   "cell_type": "code",
   "execution_count": 185,
   "metadata": {
    "ExecuteTime": {
     "end_time": "2021-06-30T13:42:52.177723Z",
     "start_time": "2021-06-30T13:42:52.173542Z"
    }
   },
   "outputs": [],
   "source": [
    "best_scores = cv[\"test_score\"].mean()"
   ]
  },
  {
   "cell_type": "code",
   "execution_count": 186,
   "metadata": {
    "ExecuteTime": {
     "end_time": "2021-06-30T13:42:56.047465Z",
     "start_time": "2021-06-30T13:42:56.042144Z"
    }
   },
   "outputs": [
    {
     "data": {
      "text/plain": [
       "-0.6967012646779299"
      ]
     },
     "execution_count": 186,
     "metadata": {},
     "output_type": "execute_result"
    }
   ],
   "source": [
    "best_scores"
   ]
  },
  {
   "cell_type": "markdown",
   "metadata": {},
   "source": [
    "**📝 Re-train your best pipeline on the whole (X,y) dataset**\n",
    "- Store the trained pipeline inside the `best_pipeline` variable"
   ]
  },
  {
   "cell_type": "code",
   "execution_count": 161,
   "metadata": {
    "ExecuteTime": {
     "end_time": "2021-06-30T13:14:15.129739Z",
     "start_time": "2021-06-30T13:13:55.211679Z"
    },
    "tags": [
     "challengify"
    ]
   },
   "outputs": [
    {
     "data": {
      "text/html": [
       "<style>#sk-6266cf8e-f665-44a7-8ccd-87730c256e86 {color: black;background-color: white;}#sk-6266cf8e-f665-44a7-8ccd-87730c256e86 pre{padding: 0;}#sk-6266cf8e-f665-44a7-8ccd-87730c256e86 div.sk-toggleable {background-color: white;}#sk-6266cf8e-f665-44a7-8ccd-87730c256e86 label.sk-toggleable__label {cursor: pointer;display: block;width: 100%;margin-bottom: 0;padding: 0.2em 0.3em;box-sizing: border-box;text-align: center;}#sk-6266cf8e-f665-44a7-8ccd-87730c256e86 div.sk-toggleable__content {max-height: 0;max-width: 0;overflow: hidden;text-align: left;background-color: #f0f8ff;}#sk-6266cf8e-f665-44a7-8ccd-87730c256e86 div.sk-toggleable__content pre {margin: 0.2em;color: black;border-radius: 0.25em;background-color: #f0f8ff;}#sk-6266cf8e-f665-44a7-8ccd-87730c256e86 input.sk-toggleable__control:checked~div.sk-toggleable__content {max-height: 200px;max-width: 100%;overflow: auto;}#sk-6266cf8e-f665-44a7-8ccd-87730c256e86 div.sk-estimator input.sk-toggleable__control:checked~label.sk-toggleable__label {background-color: #d4ebff;}#sk-6266cf8e-f665-44a7-8ccd-87730c256e86 div.sk-label input.sk-toggleable__control:checked~label.sk-toggleable__label {background-color: #d4ebff;}#sk-6266cf8e-f665-44a7-8ccd-87730c256e86 input.sk-hidden--visually {border: 0;clip: rect(1px 1px 1px 1px);clip: rect(1px, 1px, 1px, 1px);height: 1px;margin: -1px;overflow: hidden;padding: 0;position: absolute;width: 1px;}#sk-6266cf8e-f665-44a7-8ccd-87730c256e86 div.sk-estimator {font-family: monospace;background-color: #f0f8ff;margin: 0.25em 0.25em;border: 1px dotted black;border-radius: 0.25em;box-sizing: border-box;}#sk-6266cf8e-f665-44a7-8ccd-87730c256e86 div.sk-estimator:hover {background-color: #d4ebff;}#sk-6266cf8e-f665-44a7-8ccd-87730c256e86 div.sk-parallel-item::after {content: \"\";width: 100%;border-bottom: 1px solid gray;flex-grow: 1;}#sk-6266cf8e-f665-44a7-8ccd-87730c256e86 div.sk-label:hover label.sk-toggleable__label {background-color: #d4ebff;}#sk-6266cf8e-f665-44a7-8ccd-87730c256e86 div.sk-serial::before {content: \"\";position: absolute;border-left: 1px solid gray;box-sizing: border-box;top: 2em;bottom: 0;left: 50%;}#sk-6266cf8e-f665-44a7-8ccd-87730c256e86 div.sk-serial {display: flex;flex-direction: column;align-items: center;background-color: white;}#sk-6266cf8e-f665-44a7-8ccd-87730c256e86 div.sk-item {z-index: 1;}#sk-6266cf8e-f665-44a7-8ccd-87730c256e86 div.sk-parallel {display: flex;align-items: stretch;justify-content: center;background-color: white;}#sk-6266cf8e-f665-44a7-8ccd-87730c256e86 div.sk-parallel-item {display: flex;flex-direction: column;position: relative;background-color: white;}#sk-6266cf8e-f665-44a7-8ccd-87730c256e86 div.sk-parallel-item:first-child::after {align-self: flex-end;width: 50%;}#sk-6266cf8e-f665-44a7-8ccd-87730c256e86 div.sk-parallel-item:last-child::after {align-self: flex-start;width: 50%;}#sk-6266cf8e-f665-44a7-8ccd-87730c256e86 div.sk-parallel-item:only-child::after {width: 0;}#sk-6266cf8e-f665-44a7-8ccd-87730c256e86 div.sk-dashed-wrapped {border: 1px dashed gray;margin: 0.2em;box-sizing: border-box;padding-bottom: 0.1em;background-color: white;position: relative;}#sk-6266cf8e-f665-44a7-8ccd-87730c256e86 div.sk-label label {font-family: monospace;font-weight: bold;background-color: white;display: inline-block;line-height: 1.2em;}#sk-6266cf8e-f665-44a7-8ccd-87730c256e86 div.sk-label-container {position: relative;z-index: 2;text-align: center;}#sk-6266cf8e-f665-44a7-8ccd-87730c256e86 div.sk-container {display: inline-block;position: relative;}</style><div id=\"sk-6266cf8e-f665-44a7-8ccd-87730c256e86\" class\"sk-top-container\"><div class=\"sk-container\"><div class=\"sk-item sk-dashed-wrapped\"><div class=\"sk-label-container\"><div class=\"sk-label sk-toggleable\"><input class=\"sk-toggleable__control sk-hidden--visually\" id=\"49a1692f-46ca-4c4c-bcae-eec17ef72f5d\" type=\"checkbox\" ><label class=\"sk-toggleable__label\" for=\"49a1692f-46ca-4c4c-bcae-eec17ef72f5d\">Pipeline</label><div class=\"sk-toggleable__content\"><pre>Pipeline(steps=[('preprocessor',\n",
       "                 ColumnTransformer(sparse_threshold=0,\n",
       "                                   transformers=[('cat_transformer',\n",
       "                                                  OneHotEncoder(handle_unknown='ignore',\n",
       "                                                                sparse=False),\n",
       "                                                  ['original_language',\n",
       "                                                   'status',\n",
       "                                                   'available_in_english']),\n",
       "                                                 ('num_transformer',\n",
       "                                                  RobustScaler(),\n",
       "                                                  ['duration_min', 'budget',\n",
       "                                                   'number_of_awards_won',\n",
       "                                                   'number_of_nominations',\n",
       "                                                   'has_collection',\n",
       "                                                   'number_of_top_productions']),\n",
       "                                                 ('genre_country_encoder',\n",
       "                                                  CustomGenreAndCountryEncoder(),\n",
       "                                                  ['all_genres',\n",
       "                                                   'top_countries']),\n",
       "                                                 ('time_encoder',\n",
       "                                                  TimeFeaturesExtractor(),\n",
       "                                                  ['release_date'])])),\n",
       "                ('Random_Forest', RandomForestRegressor(ccp_alpha=0))])</pre></div></div></div><div class=\"sk-serial\"><div class=\"sk-item sk-dashed-wrapped\"><div class=\"sk-label-container\"><div class=\"sk-label sk-toggleable\"><input class=\"sk-toggleable__control sk-hidden--visually\" id=\"87a08e7f-65d3-449a-97ca-aa13f427c1a9\" type=\"checkbox\" ><label class=\"sk-toggleable__label\" for=\"87a08e7f-65d3-449a-97ca-aa13f427c1a9\">preprocessor: ColumnTransformer</label><div class=\"sk-toggleable__content\"><pre>ColumnTransformer(sparse_threshold=0,\n",
       "                  transformers=[('cat_transformer',\n",
       "                                 OneHotEncoder(handle_unknown='ignore',\n",
       "                                               sparse=False),\n",
       "                                 ['original_language', 'status',\n",
       "                                  'available_in_english']),\n",
       "                                ('num_transformer', RobustScaler(),\n",
       "                                 ['duration_min', 'budget',\n",
       "                                  'number_of_awards_won',\n",
       "                                  'number_of_nominations', 'has_collection',\n",
       "                                  'number_of_top_productions']),\n",
       "                                ('genre_country_encoder',\n",
       "                                 CustomGenreAndCountryEncoder(),\n",
       "                                 ['all_genres', 'top_countries']),\n",
       "                                ('time_encoder', TimeFeaturesExtractor(),\n",
       "                                 ['release_date'])])</pre></div></div></div><div class=\"sk-parallel\"><div class=\"sk-parallel-item\"><div class=\"sk-item\"><div class=\"sk-label-container\"><div class=\"sk-label sk-toggleable\"><input class=\"sk-toggleable__control sk-hidden--visually\" id=\"82f598d7-83b5-4f37-a528-62f058eabb90\" type=\"checkbox\" ><label class=\"sk-toggleable__label\" for=\"82f598d7-83b5-4f37-a528-62f058eabb90\">cat_transformer</label><div class=\"sk-toggleable__content\"><pre>['original_language', 'status', 'available_in_english']</pre></div></div></div><div class=\"sk-serial\"><div class=\"sk-item\"><div class=\"sk-estimator sk-toggleable\"><input class=\"sk-toggleable__control sk-hidden--visually\" id=\"cd75a2ad-1f0a-43d9-90c5-d4ef9c8af591\" type=\"checkbox\" ><label class=\"sk-toggleable__label\" for=\"cd75a2ad-1f0a-43d9-90c5-d4ef9c8af591\">OneHotEncoder</label><div class=\"sk-toggleable__content\"><pre>OneHotEncoder(handle_unknown='ignore', sparse=False)</pre></div></div></div></div></div></div><div class=\"sk-parallel-item\"><div class=\"sk-item\"><div class=\"sk-label-container\"><div class=\"sk-label sk-toggleable\"><input class=\"sk-toggleable__control sk-hidden--visually\" id=\"6dfa6072-e51e-45cc-bbaa-ba4b8d72c22e\" type=\"checkbox\" ><label class=\"sk-toggleable__label\" for=\"6dfa6072-e51e-45cc-bbaa-ba4b8d72c22e\">num_transformer</label><div class=\"sk-toggleable__content\"><pre>['duration_min', 'budget', 'number_of_awards_won', 'number_of_nominations', 'has_collection', 'number_of_top_productions']</pre></div></div></div><div class=\"sk-serial\"><div class=\"sk-item\"><div class=\"sk-estimator sk-toggleable\"><input class=\"sk-toggleable__control sk-hidden--visually\" id=\"410743eb-e550-47fc-9eca-5160a5d65075\" type=\"checkbox\" ><label class=\"sk-toggleable__label\" for=\"410743eb-e550-47fc-9eca-5160a5d65075\">RobustScaler</label><div class=\"sk-toggleable__content\"><pre>RobustScaler()</pre></div></div></div></div></div></div><div class=\"sk-parallel-item\"><div class=\"sk-item\"><div class=\"sk-label-container\"><div class=\"sk-label sk-toggleable\"><input class=\"sk-toggleable__control sk-hidden--visually\" id=\"1cc38f53-c935-4107-af61-3addd0967b54\" type=\"checkbox\" ><label class=\"sk-toggleable__label\" for=\"1cc38f53-c935-4107-af61-3addd0967b54\">genre_country_encoder</label><div class=\"sk-toggleable__content\"><pre>['all_genres', 'top_countries']</pre></div></div></div><div class=\"sk-serial\"><div class=\"sk-item\"><div class=\"sk-estimator sk-toggleable\"><input class=\"sk-toggleable__control sk-hidden--visually\" id=\"ddb2038a-7553-4f16-a544-0201f56468ef\" type=\"checkbox\" ><label class=\"sk-toggleable__label\" for=\"ddb2038a-7553-4f16-a544-0201f56468ef\">CustomGenreAndCountryEncoder</label><div class=\"sk-toggleable__content\"><pre>CustomGenreAndCountryEncoder()</pre></div></div></div></div></div></div><div class=\"sk-parallel-item\"><div class=\"sk-item\"><div class=\"sk-label-container\"><div class=\"sk-label sk-toggleable\"><input class=\"sk-toggleable__control sk-hidden--visually\" id=\"6abad9f7-70f4-4cf3-b83a-339bc0a4dc2e\" type=\"checkbox\" ><label class=\"sk-toggleable__label\" for=\"6abad9f7-70f4-4cf3-b83a-339bc0a4dc2e\">time_encoder</label><div class=\"sk-toggleable__content\"><pre>['release_date']</pre></div></div></div><div class=\"sk-serial\"><div class=\"sk-item\"><div class=\"sk-estimator sk-toggleable\"><input class=\"sk-toggleable__control sk-hidden--visually\" id=\"cbe9d329-7620-4066-a1ed-74e946bba76d\" type=\"checkbox\" ><label class=\"sk-toggleable__label\" for=\"cbe9d329-7620-4066-a1ed-74e946bba76d\">TimeFeaturesExtractor</label><div class=\"sk-toggleable__content\"><pre>TimeFeaturesExtractor()</pre></div></div></div></div></div></div></div></div><div class=\"sk-item\"><div class=\"sk-estimator sk-toggleable\"><input class=\"sk-toggleable__control sk-hidden--visually\" id=\"569f670f-db24-4b93-b193-a3b522165d39\" type=\"checkbox\" ><label class=\"sk-toggleable__label\" for=\"569f670f-db24-4b93-b193-a3b522165d39\">RandomForestRegressor</label><div class=\"sk-toggleable__content\"><pre>RandomForestRegressor(ccp_alpha=0)</pre></div></div></div></div></div></div></div>"
      ],
      "text/plain": [
       "Pipeline(steps=[('preprocessor',\n",
       "                 ColumnTransformer(sparse_threshold=0,\n",
       "                                   transformers=[('cat_transformer',\n",
       "                                                  OneHotEncoder(handle_unknown='ignore',\n",
       "                                                                sparse=False),\n",
       "                                                  ['original_language',\n",
       "                                                   'status',\n",
       "                                                   'available_in_english']),\n",
       "                                                 ('num_transformer',\n",
       "                                                  RobustScaler(),\n",
       "                                                  ['duration_min', 'budget',\n",
       "                                                   'number_of_awards_won',\n",
       "                                                   'number_of_nominations',\n",
       "                                                   'has_collection',\n",
       "                                                   'number_of_top_productions']),\n",
       "                                                 ('genre_country_encoder',\n",
       "                                                  CustomGenreAndCountryEncoder(),\n",
       "                                                  ['all_genres',\n",
       "                                                   'top_countries']),\n",
       "                                                 ('time_encoder',\n",
       "                                                  TimeFeaturesExtractor(),\n",
       "                                                  ['release_date'])])),\n",
       "                ('Random_Forest', RandomForestRegressor(ccp_alpha=0))])"
      ]
     },
     "execution_count": 161,
     "metadata": {},
     "output_type": "execute_result"
    }
   ],
   "source": [
    "best_pipeline = search.best_estimator_\n",
    "best_pipeline.fit(X,y)"
   ]
  },
  {
   "cell_type": "markdown",
   "metadata": {},
   "source": [
    "### Prediction\n",
    "\n",
    "Now you have your model tuned with the best hyperparameters, you are ready for a prediction.\n",
    "\n",
    "Here is a famous TV show released in 2017:\n",
    "\n",
    "```python\n",
    "dict(\n",
    "        original_title=str(\"La Casa de Papel\"),\n",
    "        title=str(\"Money Heist\"), \n",
    "        release_date= pd.to_datetime([\"2017-05-02\"]), \n",
    "        duration_min=float(50),\n",
    "        description=str(\"An unusual group of robbers attempt to carry out the most perfect robbery\"), \n",
    "        budget=float(3_000_000), \n",
    "        original_language =str(\"es\"), \n",
    "        status=str(\"Released\"),\n",
    "        number_of_awards_won =int(2), \n",
    "        number_of_nominations=int(5), \n",
    "        has_collection=int(1),\n",
    "        all_genres=str(\"Action, Crime, Mystery\"), \n",
    "        top_countries=str(\"Spain, France, United States of America\"), \n",
    "        number_of_top_productions=int('1'),\n",
    "        available_in_english=bool('True') \n",
    ")\n",
    "```\n",
    "\n",
    "**📝 Compute the predicted popularity of this TV show and store it into the `popularity` variable as a floating number.**"
   ]
  },
  {
   "cell_type": "code",
   "execution_count": 172,
   "metadata": {
    "ExecuteTime": {
     "end_time": "2021-06-30T13:17:28.455128Z",
     "start_time": "2021-06-30T13:17:28.445937Z"
    },
    "tags": [
     "challengify"
    ]
   },
   "outputs": [],
   "source": [
    "tmp = dict(\n",
    "        original_title=str(\"La Casa de Papel\"),\n",
    "        title=str(\"Money Heist\"), \n",
    "        release_date= pd.to_datetime([\"2017-05-02\"]), \n",
    "        duration_min=float(50),\n",
    "        description=str(\"An unusual group of robbers attempt to carry out the most perfect robbery\"), \n",
    "        budget=float(3_000_000), \n",
    "        original_language =str(\"es\"), \n",
    "        status=str(\"Released\"),\n",
    "        number_of_awards_won =int(2), \n",
    "        number_of_nominations=int(5), \n",
    "        has_collection=int(1),\n",
    "        all_genres=str(\"Action, Crime, Mystery\"), \n",
    "        top_countries=str(\"Spain, France, United States of America\"), \n",
    "        number_of_top_productions=int('1'),\n",
    "        available_in_english=bool('True') \n",
    ")\n",
    "\n",
    "X_predict = pd.DataFrame(tmp)"
   ]
  },
  {
   "cell_type": "code",
   "execution_count": 173,
   "metadata": {
    "ExecuteTime": {
     "end_time": "2021-06-30T13:17:29.013524Z",
     "start_time": "2021-06-30T13:17:29.008962Z"
    }
   },
   "outputs": [],
   "source": [
    "X_predict[\"release_date\"] = \"2017-05-02\""
   ]
  },
  {
   "cell_type": "code",
   "execution_count": 174,
   "metadata": {
    "ExecuteTime": {
     "end_time": "2021-06-30T13:17:30.032330Z",
     "start_time": "2021-06-30T13:17:29.626873Z"
    }
   },
   "outputs": [
    {
     "data": {
      "text/html": [
       "<div>\n",
       "<style scoped>\n",
       "    .dataframe tbody tr th:only-of-type {\n",
       "        vertical-align: middle;\n",
       "    }\n",
       "\n",
       "    .dataframe tbody tr th {\n",
       "        vertical-align: top;\n",
       "    }\n",
       "\n",
       "    .dataframe thead th {\n",
       "        text-align: right;\n",
       "    }\n",
       "</style>\n",
       "<table border=\"1\" class=\"dataframe\">\n",
       "  <thead>\n",
       "    <tr style=\"text-align: right;\">\n",
       "      <th></th>\n",
       "      <th>original_title</th>\n",
       "      <th>title</th>\n",
       "      <th>release_date</th>\n",
       "      <th>duration_min</th>\n",
       "      <th>description</th>\n",
       "      <th>budget</th>\n",
       "      <th>original_language</th>\n",
       "      <th>status</th>\n",
       "      <th>number_of_awards_won</th>\n",
       "      <th>number_of_nominations</th>\n",
       "      <th>has_collection</th>\n",
       "      <th>all_genres</th>\n",
       "      <th>top_countries</th>\n",
       "      <th>number_of_top_productions</th>\n",
       "      <th>available_in_english</th>\n",
       "    </tr>\n",
       "  </thead>\n",
       "  <tbody>\n",
       "    <tr>\n",
       "      <th>0</th>\n",
       "      <td>La Casa de Papel</td>\n",
       "      <td>Money Heist</td>\n",
       "      <td>2017-05-02</td>\n",
       "      <td>50.0</td>\n",
       "      <td>An unusual group of robbers attempt to carry o...</td>\n",
       "      <td>3000000.0</td>\n",
       "      <td>es</td>\n",
       "      <td>Released</td>\n",
       "      <td>2</td>\n",
       "      <td>5</td>\n",
       "      <td>1</td>\n",
       "      <td>Action, Crime, Mystery</td>\n",
       "      <td>Spain, France, United States of America</td>\n",
       "      <td>1</td>\n",
       "      <td>True</td>\n",
       "    </tr>\n",
       "  </tbody>\n",
       "</table>\n",
       "</div>"
      ],
      "text/plain": [
       "     original_title        title release_date  duration_min  \\\n",
       "0  La Casa de Papel  Money Heist   2017-05-02          50.0   \n",
       "\n",
       "                                         description     budget  \\\n",
       "0  An unusual group of robbers attempt to carry o...  3000000.0   \n",
       "\n",
       "  original_language    status  number_of_awards_won  number_of_nominations  \\\n",
       "0                es  Released                     2                      5   \n",
       "\n",
       "   has_collection              all_genres  \\\n",
       "0               1  Action, Crime, Mystery   \n",
       "\n",
       "                             top_countries  number_of_top_productions  \\\n",
       "0  Spain, France, United States of America                          1   \n",
       "\n",
       "   available_in_english  \n",
       "0                  True  "
      ]
     },
     "execution_count": 174,
     "metadata": {},
     "output_type": "execute_result"
    }
   ],
   "source": [
    "X_predict"
   ]
  },
  {
   "cell_type": "code",
   "execution_count": 176,
   "metadata": {
    "ExecuteTime": {
     "end_time": "2021-06-30T13:17:53.140834Z",
     "start_time": "2021-06-30T13:17:53.094947Z"
    },
    "tags": [
     "challengify"
    ]
   },
   "outputs": [],
   "source": [
    "popularity = best_pipeline.predict(X_predict)[0]"
   ]
  },
  {
   "cell_type": "markdown",
   "metadata": {},
   "source": [
    "### 🧪 Save your results\n",
    "\n",
    "Run the following cell to save your results."
   ]
  },
  {
   "cell_type": "code",
   "execution_count": 187,
   "metadata": {
    "ExecuteTime": {
     "end_time": "2021-06-30T13:43:00.431987Z",
     "start_time": "2021-06-30T13:43:00.106084Z"
    }
   },
   "outputs": [],
   "source": [
    "ChallengeResult(\n",
    "    \"model_tuning\",\n",
    "    search=search,\n",
    "    best_pipeline=best_pipeline,\n",
    "    best_scores = best_scores,\n",
    "    popularity=popularity\n",
    ").write()"
   ]
  },
  {
   "cell_type": "markdown",
   "metadata": {},
   "source": [
    "## API \n",
    "\n",
    "Time to put a pipeline in production!\n",
    "\n",
    "👉 Go to https://github.com/lewagon/data-certification-api and follow instructions\n",
    "\n",
    "**This final part is independent from the above notebook**"
   ]
  }
 ],
 "metadata": {
  "interpreter": {
   "hash": "572b4e543617d03e90ecaf525e08695da1ff29b13594f787e33b342cf572f792"
  },
  "kernelspec": {
   "display_name": "Python 3",
   "language": "python",
   "name": "python3"
  },
  "language_info": {
   "codemirror_mode": {
    "name": "ipython",
    "version": 3
   },
   "file_extension": ".py",
   "mimetype": "text/x-python",
   "name": "python",
   "nbconvert_exporter": "python",
   "pygments_lexer": "ipython3",
   "version": "3.8.6"
  },
  "toc": {
   "base_numbering": 1,
   "nav_menu": {},
   "number_sections": true,
   "sideBar": true,
   "skip_h1_title": true,
   "title_cell": "Table of Contents",
   "title_sidebar": "Contents",
   "toc_cell": false,
   "toc_position": {
    "height": "calc(100% - 180px)",
    "left": "10px",
    "top": "150px",
    "width": "242px"
   },
   "toc_section_display": true,
   "toc_window_display": true
  },
  "varInspector": {
   "cols": {
    "lenName": 16,
    "lenType": 16,
    "lenVar": 40
   },
   "kernels_config": {
    "python": {
     "delete_cmd_postfix": "",
     "delete_cmd_prefix": "del ",
     "library": "var_list.py",
     "varRefreshCmd": "print(var_dic_list())"
    },
    "r": {
     "delete_cmd_postfix": ") ",
     "delete_cmd_prefix": "rm(",
     "library": "var_list.r",
     "varRefreshCmd": "cat(var_dic_list()) "
    }
   },
   "types_to_exclude": [
    "module",
    "function",
    "builtin_function_or_method",
    "instance",
    "_Feature"
   ],
   "window_display": false
  }
 },
 "nbformat": 4,
 "nbformat_minor": 4
}
