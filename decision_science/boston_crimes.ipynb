{
 "cells": [
  {
   "cell_type": "markdown",
   "metadata": {},
   "source": [
    "\n",
    "# Advisory mission for the Boston municipal authorities\n",
    "\n",
    "\n",
    "![title](assets/boston_logo.png)"
   ]
  },
  {
   "cell_type": "markdown",
   "metadata": {},
   "source": [
    "Welcome to the Decision Science exercise of your data certification exam!\n",
    "\n",
    "Here are a few words to describe how the `decision_science` directory is organised:"
   ]
  },
  {
   "cell_type": "code",
   "execution_count": 1,
   "metadata": {
    "ExecuteTime": {
     "end_time": "2021-06-29T10:42:29.247758Z",
     "start_time": "2021-06-29T10:42:29.129076Z"
    }
   },
   "outputs": [
    {
     "name": "stdout",
     "output_type": "stream",
     "text": [
      "\u001b[01;34m.\u001b[00m\r\n",
      "├── boston_crimes.ipynb\r\n",
      "├── boston_crimes.ipynb:Zone.Identifier\r\n",
      "├── \u001b[01;34mdata\u001b[00m\r\n",
      "│   ├── districts.csv\r\n",
      "│   └── incident_reports.csv\r\n",
      "├── data.py\r\n",
      "├── data.py:Zone.Identifier\r\n",
      "├── \u001b[01;34mdb\u001b[00m\r\n",
      "│   ├── boston_crimes_regression.csv\r\n",
      "│   ├── boston_crimes_regression.csv:Zone.Identifier\r\n",
      "│   ├── boston_crimes.sqlite\r\n",
      "│   ├── boston_crimes.sqlite:Zone.Identifier\r\n",
      "│   └── boston_crimes.xml\r\n",
      "├── \u001b[01;34m__pycache__\u001b[00m\r\n",
      "│   └── data.cpython-38.pyc\r\n",
      "├── README (1).md:Zone.Identifier\r\n",
      "├── README.md\r\n",
      "└── \u001b[01;34mtests\u001b[00m\r\n",
      "    ├── answers_inference.json\r\n",
      "    ├── linear_regression_analysis.pickle\r\n",
      "    ├── linear_regression_model.pickle\r\n",
      "    └── sql.pickle\r\n",
      "\r\n",
      "4 directories, 18 files\r\n"
     ]
    }
   ],
   "source": [
    "# Start by running this cell to see the architecture of the directory\n",
    "!tree"
   ]
  },
  {
   "cell_type": "markdown",
   "metadata": {},
   "source": [
    "- the `boston_crimes.ipynb` notebook that you currently have under your eyes is the main document. You will find all the instructions here and except when it is explicitly specified, you should provide all your answers in this notebook;\n",
    "\n",
    "\n",
    "- the `data` and `db` folders will be filled-in throughout the exercise respectively with `.csv` datasets and a `.sqlite` file, for you to run all your analyses; \n",
    "\n",
    "\n",
    "- you will not have to interact with the `assets` folder for this exercise;\n",
    "\n",
    "\n",
    "- the `tests` folder will contain all the `.pickle` files that will be saved throughout the exercise with your key findings. Please run all the \"Save your results\" cells when completing the exercise!"
   ]
  },
  {
   "cell_type": "markdown",
   "metadata": {},
   "source": [
    "⚠️ **Important remark** before you dive into the exercise. This notebook is quite long and it is easy to get lost in it: take full advantage of the collapsible headers and of the table of content. If you have not yet activated these Jupyter Notebook extensions, you may consider doing so now!"
   ]
  },
  {
   "cell_type": "markdown",
   "metadata": {},
   "source": [
    "# Imports"
   ]
  },
  {
   "cell_type": "markdown",
   "metadata": {},
   "source": [
    "You can use this section to run your imports in a centralised manner throughout the exercise."
   ]
  },
  {
   "cell_type": "code",
   "execution_count": 2,
   "metadata": {
    "ExecuteTime": {
     "end_time": "2021-06-29T10:42:29.260662Z",
     "start_time": "2021-06-29T10:42:29.250659Z"
    }
   },
   "outputs": [],
   "source": [
    "# Load the nbresult package to be able to save your results \n",
    "from nbresult import ChallengeResult"
   ]
  },
  {
   "cell_type": "code",
   "execution_count": 3,
   "metadata": {
    "ExecuteTime": {
     "end_time": "2021-06-29T10:42:29.286001Z",
     "start_time": "2021-06-29T10:42:29.269050Z"
    }
   },
   "outputs": [],
   "source": [
    "# Useful import for data collection\n",
    "import sqlite3"
   ]
  },
  {
   "cell_type": "code",
   "execution_count": 4,
   "metadata": {
    "ExecuteTime": {
     "end_time": "2021-06-29T10:42:29.913761Z",
     "start_time": "2021-06-29T10:42:29.288695Z"
    }
   },
   "outputs": [],
   "source": [
    "# Useful imports for data manipulation and analysis\n",
    "import numpy as np\n",
    "import pandas as pd"
   ]
  },
  {
   "cell_type": "code",
   "execution_count": 5,
   "metadata": {
    "ExecuteTime": {
     "end_time": "2021-06-29T10:42:30.758348Z",
     "start_time": "2021-06-29T10:42:29.917724Z"
    }
   },
   "outputs": [],
   "source": [
    "# Useful imports for data visualisation\n",
    "import matplotlib.pyplot as plt\n",
    "import seaborn as sns"
   ]
  },
  {
   "cell_type": "code",
   "execution_count": 6,
   "metadata": {
    "ExecuteTime": {
     "end_time": "2021-06-29T10:42:30.907390Z",
     "start_time": "2021-06-29T10:42:30.763937Z"
    }
   },
   "outputs": [],
   "source": [
    "# Useful imports to estimate regression models\n",
    "import statsmodels.formula.api as smf"
   ]
  },
  {
   "cell_type": "markdown",
   "metadata": {},
   "source": [
    "# 1. Analysis for the mayor's team"
   ]
  },
  {
   "cell_type": "markdown",
   "metadata": {},
   "source": [
    "During the last municipal campaign in Boston, criminality has been a major topic of debates. As citizens have expressed strong expectations from her on that front, the newly-elected mayor of Boston is looking for data-based insights on criminality in the Massachussetts capital. She has mandated your economics and urbanism consulting firm, *The Locomotive*, for this study."
   ]
  },
  {
   "cell_type": "markdown",
   "metadata": {},
   "source": [
    "## 1.1 Load the database"
   ]
  },
  {
   "cell_type": "markdown",
   "metadata": {},
   "source": [
    "Download the `boston_crimes.sqlite` database from this [URL](https://wagon-public-datasets.s3.amazonaws.com/certification_france_2021_q2/boston_crimes.sqlite) and store it inside the `db` folder."
   ]
  },
  {
   "cell_type": "code",
   "execution_count": 7,
   "metadata": {
    "ExecuteTime": {
     "end_time": "2021-06-29T10:42:35.659571Z",
     "start_time": "2021-06-29T10:42:30.910012Z"
    }
   },
   "outputs": [
    {
     "name": "stdout",
     "output_type": "stream",
     "text": [
      "  % Total    % Received % Xferd  Average Speed   Time    Time     Time  Current\n",
      "                                 Dload  Upload   Total   Spent    Left  Speed\n",
      "100 19.1M  100 19.1M    0     0  4241k      0  0:00:04  0:00:04 --:--:-- 4241k\n"
     ]
    }
   ],
   "source": [
    "# You may directly run this cell to do so\n",
    "!curl https://wagon-public-datasets.s3.amazonaws.com/certification_france_2021_q2/boston_crimes.sqlite > db/boston_crimes.sqlite"
   ]
  },
  {
   "cell_type": "markdown",
   "metadata": {},
   "source": [
    "## 1.2 Familiarize yourself with the database"
   ]
  },
  {
   "cell_type": "markdown",
   "metadata": {},
   "source": [
    "This section aims at giving you a first overview of the database. \n",
    "\n",
    "As you will see, it consists in three tables: \n",
    "\n",
    "- the `incident_reports` table has been provided by the Police Department of Boston. Each observation corresponds to a criminal incident that has required an intervention by the police in the municipality of Boston;  \n",
    "\n",
    "\n",
    "\n",
    "- the `districts` table has been provided by the Urbanism Department of Boston. It gathers geographical information about the various police districts of Boston;  \n",
    "\n",
    "\n",
    "\n",
    "- and the `indicators` table has been shared by the Economics Department of Boston, which keeps track of various indicators of the social and economic activity of Boston neighborhoods. Each observation corresponds to a police district.\n",
    "\n",
    "More information about the different fields of these three tables can be found in the dedicated `README.md` file"
   ]
  },
  {
   "cell_type": "markdown",
   "metadata": {},
   "source": [
    "### Connect to the database"
   ]
  },
  {
   "cell_type": "markdown",
   "metadata": {},
   "source": [
    "**🔍 Using your preferred SQL client, connect to the database and browse through it as you wish to get acquainted with the data.**"
   ]
  },
  {
   "cell_type": "markdown",
   "metadata": {},
   "source": [
    "### Draw a schema of the database"
   ]
  },
  {
   "cell_type": "markdown",
   "metadata": {},
   "source": [
    "**📝 Draw the database schema thanks to the [schema editor](https://kitt.lewagon.com/db) on Kitt.**"
   ]
  },
  {
   "cell_type": "markdown",
   "metadata": {},
   "source": [
    "**📝 Download the schema and save it as `boston_crimes.xml` in the `db` folder.**"
   ]
  },
  {
   "cell_type": "markdown",
   "metadata": {},
   "source": [
    "## 1.3 Extract the relevant dataset"
   ]
  },
  {
   "cell_type": "markdown",
   "metadata": {},
   "source": [
    "Now that you have a good overview of the database, you can kick off the work! You will start with an SQL query to gather the relevant information."
   ]
  },
  {
   "cell_type": "markdown",
   "metadata": {},
   "source": [
    "### Build the dataset"
   ]
  },
  {
   "cell_type": "markdown",
   "metadata": {},
   "source": [
    "We want to investigate the influence of the socio-economic characteristics of Boston's different districts on the number of crime reports and incidents. To do so, we need to extract the relevant dataset. **Each row should correspond to one of the 12 police districts of Boston** (as listed in the `districts` table of the database).\n",
    "\n",
    "To identify the district, we will need **the following columns**: \n",
    "\n",
    "- the `CODE` of the police district (1 letter and 1 or 2 numbers);\n",
    "- the full `NAME` of the police district.\n",
    "\n",
    "Additionally, you will need to **create an additional field** (which will serve as dependent variable in future regressions): `NB_INCIDENTS`, i.e. the total number of incidents reported in the police district over the period covered by the data at hand (2015-2019).\n",
    "\n",
    "Eventually, we want the dataset to **include several socio-economic indicators**:\n",
    "\n",
    "- `MEDIAN_AGE`;\n",
    "- `TOTAL_POP`;\n",
    "- `PERC_OF_30_34`;\n",
    "- `PERC_MARRIED_COUPLE_FAMILY`;\n",
    "- `PER_CAPITA_INCOME`;\n",
    "- `PERC_OTHER_STATE_OR_ABROAD`;\n",
    "- `PERC_LESS_THAN_HIGH_SCHOOL`;\n",
    "- `PERC_COLLEGE_GRADUATES`. \n",
    "\n",
    "Overall, your dataset should comprise 12 rows and 11 columns.\n",
    "\n",
    "Eventually, note that **the resulting DataFrame must be ordered by the number of incidents**, from the largest to the smallest total."
   ]
  },
  {
   "cell_type": "markdown",
   "metadata": {},
   "source": [
    "**📝 Write the SQL query you need to fetch the data. Save it as a `str` in the `query` variable.**"
   ]
  },
  {
   "cell_type": "code",
   "execution_count": 8,
   "metadata": {
    "ExecuteTime": {
     "end_time": "2021-06-29T10:42:35.667935Z",
     "start_time": "2021-06-29T10:42:35.663932Z"
    }
   },
   "outputs": [],
   "source": [
    "query = \"\"\"\n",
    "WITH TT AS (WITH UU AS (WITH JJ AS (SELECT DISTRICT ,\n",
    "COUNT(INCIDENT_NUMBER) AS NB_INCIDENT\n",
    "FROM incident_reports\n",
    "GROUP BY DISTRICT)\n",
    "SELECT *\n",
    "FROM JJ\n",
    "JOIN indicators ON indicators.CODE = JJ.DISTRICT)\n",
    "SELECT *\n",
    "FROM UU\n",
    "JOIN districts ON districts.CODE = UU.CODE)\n",
    "SELECT MEDIAN_AGE,\n",
    "TOTAL_POP,\n",
    "PERC_OF_30_34,\n",
    "PERC_MARRIED_COUPLE_FAMILY,\n",
    "PER_CAPITA_INCOME,\n",
    "PERC_OTHER_STATE_OR_ABROAD,\n",
    "PERC_LESS_THAN_HIGH_SCHOOL,\n",
    "PERC_COLLEGE_GRADUATES,\n",
    "CODE,\n",
    "NAME,\n",
    "NB_INCIDENT\n",
    "FROM TT\n",
    "\n",
    "\"\"\""
   ]
  },
  {
   "cell_type": "markdown",
   "metadata": {},
   "source": [
    "**📝 Store the output of the query in a `DataFrame` named `crimes_df`. Display the 5 first rows, as well as the shape of the dataset.**"
   ]
  },
  {
   "cell_type": "code",
   "execution_count": 9,
   "metadata": {
    "ExecuteTime": {
     "end_time": "2021-06-29T10:42:35.972634Z",
     "start_time": "2021-06-29T10:42:35.671257Z"
    },
    "tags": [
     "challengify"
    ]
   },
   "outputs": [
    {
     "data": {
      "text/html": [
       "<div>\n",
       "<style scoped>\n",
       "    .dataframe tbody tr th:only-of-type {\n",
       "        vertical-align: middle;\n",
       "    }\n",
       "\n",
       "    .dataframe tbody tr th {\n",
       "        vertical-align: top;\n",
       "    }\n",
       "\n",
       "    .dataframe thead th {\n",
       "        text-align: right;\n",
       "    }\n",
       "</style>\n",
       "<table border=\"1\" class=\"dataframe\">\n",
       "  <thead>\n",
       "    <tr style=\"text-align: right;\">\n",
       "      <th></th>\n",
       "      <th>MEDIAN_AGE</th>\n",
       "      <th>TOTAL_POP</th>\n",
       "      <th>PERC_OF_30_34</th>\n",
       "      <th>PERC_MARRIED_COUPLE_FAMILY</th>\n",
       "      <th>PER_CAPITA_INCOME</th>\n",
       "      <th>PERC_OTHER_STATE_OR_ABROAD</th>\n",
       "      <th>PERC_LESS_THAN_HIGH_SCHOOL</th>\n",
       "      <th>PERC_COLLEGE_GRADUATES</th>\n",
       "      <th>CODE</th>\n",
       "      <th>NAME</th>\n",
       "      <th>NB_INCIDENT</th>\n",
       "    </tr>\n",
       "  </thead>\n",
       "  <tbody>\n",
       "    <tr>\n",
       "      <th>0</th>\n",
       "      <td>30.8</td>\n",
       "      <td>55297</td>\n",
       "      <td>52.8</td>\n",
       "      <td>26.4</td>\n",
       "      <td>41261</td>\n",
       "      <td>8.6</td>\n",
       "      <td>6.7</td>\n",
       "      <td>10.5</td>\n",
       "      <td>D14</td>\n",
       "      <td>Brighton</td>\n",
       "      <td>13788</td>\n",
       "    </tr>\n",
       "    <tr>\n",
       "      <th>1</th>\n",
       "      <td>35.7</td>\n",
       "      <td>19890</td>\n",
       "      <td>28.2</td>\n",
       "      <td>36.4</td>\n",
       "      <td>75339</td>\n",
       "      <td>3.4</td>\n",
       "      <td>7.9</td>\n",
       "      <td>8.2</td>\n",
       "      <td>A15</td>\n",
       "      <td>Charlestown</td>\n",
       "      <td>4765</td>\n",
       "    </tr>\n",
       "    <tr>\n",
       "      <th>2</th>\n",
       "      <td>33.4</td>\n",
       "      <td>126909</td>\n",
       "      <td>28.2</td>\n",
       "      <td>26.6</td>\n",
       "      <td>29767</td>\n",
       "      <td>2.4</td>\n",
       "      <td>18.0</td>\n",
       "      <td>17.1</td>\n",
       "      <td>C11</td>\n",
       "      <td>Dorchester</td>\n",
       "      <td>32875</td>\n",
       "    </tr>\n",
       "    <tr>\n",
       "      <th>3</th>\n",
       "      <td>33.5</td>\n",
       "      <td>18306</td>\n",
       "      <td>32.5</td>\n",
       "      <td>35.8</td>\n",
       "      <td>80057</td>\n",
       "      <td>14.8</td>\n",
       "      <td>15.4</td>\n",
       "      <td>6.9</td>\n",
       "      <td>A1</td>\n",
       "      <td>Downtown</td>\n",
       "      <td>26260</td>\n",
       "    </tr>\n",
       "    <tr>\n",
       "      <th>4</th>\n",
       "      <td>30.6</td>\n",
       "      <td>47263</td>\n",
       "      <td>31.1</td>\n",
       "      <td>30.4</td>\n",
       "      <td>31473</td>\n",
       "      <td>3.5</td>\n",
       "      <td>27.2</td>\n",
       "      <td>11.5</td>\n",
       "      <td>A7</td>\n",
       "      <td>East Boston</td>\n",
       "      <td>9691</td>\n",
       "    </tr>\n",
       "  </tbody>\n",
       "</table>\n",
       "</div>"
      ],
      "text/plain": [
       "   MEDIAN_AGE  TOTAL_POP  PERC_OF_30_34  PERC_MARRIED_COUPLE_FAMILY  \\\n",
       "0        30.8      55297           52.8                        26.4   \n",
       "1        35.7      19890           28.2                        36.4   \n",
       "2        33.4     126909           28.2                        26.6   \n",
       "3        33.5      18306           32.5                        35.8   \n",
       "4        30.6      47263           31.1                        30.4   \n",
       "\n",
       "   PER_CAPITA_INCOME  PERC_OTHER_STATE_OR_ABROAD  PERC_LESS_THAN_HIGH_SCHOOL  \\\n",
       "0              41261                         8.6                         6.7   \n",
       "1              75339                         3.4                         7.9   \n",
       "2              29767                         2.4                        18.0   \n",
       "3              80057                        14.8                        15.4   \n",
       "4              31473                         3.5                        27.2   \n",
       "\n",
       "   PERC_COLLEGE_GRADUATES CODE         NAME  NB_INCIDENT  \n",
       "0                    10.5  D14     Brighton        13788  \n",
       "1                     8.2  A15  Charlestown         4765  \n",
       "2                    17.1  C11   Dorchester        32875  \n",
       "3                     6.9   A1     Downtown        26260  \n",
       "4                    11.5   A7  East Boston         9691  "
      ]
     },
     "execution_count": 9,
     "metadata": {},
     "output_type": "execute_result"
    }
   ],
   "source": [
    "conn = sqlite3.connect(\"db/boston_crimes.sqlite\")\n",
    "\n",
    "c = conn.cursor()\n",
    "\n",
    "query = query\n",
    "\n",
    "\n",
    "crimes_df = pd.read_sql_query(query, conn)\n",
    "crimes_df.head(5)"
   ]
  },
  {
   "cell_type": "code",
   "execution_count": 10,
   "metadata": {
    "ExecuteTime": {
     "end_time": "2021-06-29T10:42:35.983087Z",
     "start_time": "2021-06-29T10:42:35.975614Z"
    }
   },
   "outputs": [
    {
     "data": {
      "text/plain": [
       "(12, 11)"
      ]
     },
     "execution_count": 10,
     "metadata": {},
     "output_type": "execute_result"
    }
   ],
   "source": [
    "crimes_df.shape"
   ]
  },
  {
   "cell_type": "markdown",
   "metadata": {},
   "source": [
    "### Save your results"
   ]
  },
  {
   "cell_type": "markdown",
   "metadata": {},
   "source": [
    "You can run the following cell to save your results:"
   ]
  },
  {
   "cell_type": "code",
   "execution_count": 11,
   "metadata": {
    "ExecuteTime": {
     "end_time": "2021-06-29T10:42:35.994213Z",
     "start_time": "2021-06-29T10:42:35.986203Z"
    }
   },
   "outputs": [],
   "source": [
    "ChallengeResult('sql', query=query, data=crimes_df).write()"
   ]
  },
  {
   "cell_type": "markdown",
   "metadata": {},
   "source": [
    "## 1.4 Linear regression - The socio-economic determinants of criminality\n",
    "\n",
    "As mentioned above, we want to investigate the impact of the socio-economic characteristics of the different Boston police districts on the number of incidents that are reported in these areas. \n",
    "- We are going to use the number of incidents as dependent variable \n",
    "- our regressors will be the various socio-economic indicators extracted from the database."
   ]
  },
  {
   "cell_type": "markdown",
   "metadata": {},
   "source": [
    "### 1.4.1 Start from a fresh dataset\n",
    "\n",
    "To make sure that you are using the right data, you can load a fresh dataset from this [URL](https://wagon-public-datasets.s3.amazonaws.com/certification_france_2021_q2/regression.csv).\n",
    "\n",
    "**📝 Load the data into a DataFrame named `data`**"
   ]
  },
  {
   "cell_type": "code",
   "execution_count": 12,
   "metadata": {
    "ExecuteTime": {
     "end_time": "2021-06-29T10:42:36.032924Z",
     "start_time": "2021-06-29T10:42:35.996691Z"
    },
    "tags": [
     "challengify"
    ]
   },
   "outputs": [
    {
     "data": {
      "text/html": [
       "<div>\n",
       "<style scoped>\n",
       "    .dataframe tbody tr th:only-of-type {\n",
       "        vertical-align: middle;\n",
       "    }\n",
       "\n",
       "    .dataframe tbody tr th {\n",
       "        vertical-align: top;\n",
       "    }\n",
       "\n",
       "    .dataframe thead th {\n",
       "        text-align: right;\n",
       "    }\n",
       "</style>\n",
       "<table border=\"1\" class=\"dataframe\">\n",
       "  <thead>\n",
       "    <tr style=\"text-align: right;\">\n",
       "      <th></th>\n",
       "      <th>MEDIAN_AGE</th>\n",
       "      <th>TOTAL_POP</th>\n",
       "      <th>PERC_OF_30_34</th>\n",
       "      <th>PERC_MARRIED_COUPLE_FAMILY</th>\n",
       "      <th>PER_CAPITA_INCOME</th>\n",
       "      <th>PERC_OTHER_STATE_OR_ABROAD</th>\n",
       "      <th>PERC_LESS_THAN_HIGH_SCHOOL</th>\n",
       "      <th>PERC_COLLEGE_GRADUATES</th>\n",
       "      <th>CODE</th>\n",
       "      <th>NB_INCIDENTS</th>\n",
       "      <th>NAME</th>\n",
       "    </tr>\n",
       "  </thead>\n",
       "  <tbody>\n",
       "    <tr>\n",
       "      <th>0</th>\n",
       "      <td>30.8</td>\n",
       "      <td>55297</td>\n",
       "      <td>52.8</td>\n",
       "      <td>26.4</td>\n",
       "      <td>41261</td>\n",
       "      <td>8.6</td>\n",
       "      <td>6.7</td>\n",
       "      <td>10.5</td>\n",
       "      <td>D14</td>\n",
       "      <td>13788</td>\n",
       "      <td>Brighton</td>\n",
       "    </tr>\n",
       "    <tr>\n",
       "      <th>1</th>\n",
       "      <td>35.7</td>\n",
       "      <td>19890</td>\n",
       "      <td>28.2</td>\n",
       "      <td>36.4</td>\n",
       "      <td>75339</td>\n",
       "      <td>3.4</td>\n",
       "      <td>7.9</td>\n",
       "      <td>8.2</td>\n",
       "      <td>A15</td>\n",
       "      <td>4765</td>\n",
       "      <td>Charlestown</td>\n",
       "    </tr>\n",
       "    <tr>\n",
       "      <th>2</th>\n",
       "      <td>33.4</td>\n",
       "      <td>126909</td>\n",
       "      <td>28.2</td>\n",
       "      <td>26.6</td>\n",
       "      <td>29767</td>\n",
       "      <td>2.4</td>\n",
       "      <td>18.0</td>\n",
       "      <td>17.1</td>\n",
       "      <td>C11</td>\n",
       "      <td>32875</td>\n",
       "      <td>Dorchester</td>\n",
       "    </tr>\n",
       "    <tr>\n",
       "      <th>3</th>\n",
       "      <td>33.5</td>\n",
       "      <td>18306</td>\n",
       "      <td>32.5</td>\n",
       "      <td>35.8</td>\n",
       "      <td>80057</td>\n",
       "      <td>14.8</td>\n",
       "      <td>15.4</td>\n",
       "      <td>6.9</td>\n",
       "      <td>A1</td>\n",
       "      <td>26260</td>\n",
       "      <td>Downtown</td>\n",
       "    </tr>\n",
       "    <tr>\n",
       "      <th>4</th>\n",
       "      <td>30.6</td>\n",
       "      <td>47263</td>\n",
       "      <td>31.1</td>\n",
       "      <td>30.4</td>\n",
       "      <td>31473</td>\n",
       "      <td>3.5</td>\n",
       "      <td>27.2</td>\n",
       "      <td>11.5</td>\n",
       "      <td>A7</td>\n",
       "      <td>9691</td>\n",
       "      <td>East Boston</td>\n",
       "    </tr>\n",
       "  </tbody>\n",
       "</table>\n",
       "</div>"
      ],
      "text/plain": [
       "   MEDIAN_AGE  TOTAL_POP  PERC_OF_30_34  PERC_MARRIED_COUPLE_FAMILY  \\\n",
       "0        30.8      55297           52.8                        26.4   \n",
       "1        35.7      19890           28.2                        36.4   \n",
       "2        33.4     126909           28.2                        26.6   \n",
       "3        33.5      18306           32.5                        35.8   \n",
       "4        30.6      47263           31.1                        30.4   \n",
       "\n",
       "   PER_CAPITA_INCOME  PERC_OTHER_STATE_OR_ABROAD  PERC_LESS_THAN_HIGH_SCHOOL  \\\n",
       "0              41261                         8.6                         6.7   \n",
       "1              75339                         3.4                         7.9   \n",
       "2              29767                         2.4                        18.0   \n",
       "3              80057                        14.8                        15.4   \n",
       "4              31473                         3.5                        27.2   \n",
       "\n",
       "   PERC_COLLEGE_GRADUATES CODE  NB_INCIDENTS         NAME  \n",
       "0                    10.5  D14         13788     Brighton  \n",
       "1                     8.2  A15          4765  Charlestown  \n",
       "2                    17.1  C11         32875   Dorchester  \n",
       "3                     6.9   A1         26260     Downtown  \n",
       "4                    11.5   A7          9691  East Boston  "
      ]
     },
     "execution_count": 12,
     "metadata": {},
     "output_type": "execute_result"
    }
   ],
   "source": [
    "data = pd.read_csv(\"db/boston_crimes_regression.csv\")\n",
    "data.head(5)"
   ]
  },
  {
   "cell_type": "markdown",
   "metadata": {},
   "source": [
    "### 1.4.2 Run the regression and output its summary"
   ]
  },
  {
   "cell_type": "markdown",
   "metadata": {},
   "source": [
    "Thanks to the Statsmodels Formula API, we will run the regression described below. \n",
    "\n",
    "The dependent variable (or target variable) should be **the total number of incidents** reported in each police district.\n",
    "\n",
    "We will focus on the following regressors: \n",
    "\n",
    "- the **median age** in the district, whose effect is difficult to anticipate on the number of crimes;\n",
    " \n",
    " \n",
    "- the **percentage of 30-34 years old** in the district, whose effect is also unclear a priori;\n",
    " \n",
    " \n",
    "- the **share of families with a married couple** among all households, which could be anticipated to have a negative effect on criminality (more attention to safety among residents...);\n",
    " \n",
    " \n",
    "- the **percentage of residents having moved from abroad or from another US state over the last year**, mobility being often associated with social marginalisation and possibly with a higher risk of resorting to illegal activities;\n",
    " \n",
    " \n",
    "- the **percentage of residents having stopped their studies before getting a high school degree**. Economic models would suggest that due to the more narrow job opportunities to which this group has access, the incentive is stronger to resort to illicit activities;\n",
    " \n",
    " \n",
    "- the **percentage of college graduates** in the district, which we would expect to have an opposite effect.\n",
    " \n",
    "**📝 Based on these indications, estimate the linear regression model and output its summary in this section of the notebook. Store the estimated model inside a `model` variable.**"
   ]
  },
  {
   "cell_type": "code",
   "execution_count": 13,
   "metadata": {
    "ExecuteTime": {
     "end_time": "2021-06-29T10:42:36.044351Z",
     "start_time": "2021-06-29T10:42:36.035694Z"
    }
   },
   "outputs": [
    {
     "data": {
      "text/plain": [
       "Index(['MEDIAN_AGE', 'TOTAL_POP', 'PERC_OF_30_34',\n",
       "       'PERC_MARRIED_COUPLE_FAMILY', 'PER_CAPITA_INCOME',\n",
       "       'PERC_OTHER_STATE_OR_ABROAD', 'PERC_LESS_THAN_HIGH_SCHOOL',\n",
       "       'PERC_COLLEGE_GRADUATES', 'CODE', 'NB_INCIDENTS', 'NAME'],\n",
       "      dtype='object')"
      ]
     },
     "execution_count": 13,
     "metadata": {},
     "output_type": "execute_result"
    }
   ],
   "source": [
    "data.columns"
   ]
  },
  {
   "cell_type": "code",
   "execution_count": 14,
   "metadata": {
    "ExecuteTime": {
     "end_time": "2021-06-29T10:42:36.102165Z",
     "start_time": "2021-06-29T10:42:36.053425Z"
    },
    "tags": [
     "challengify"
    ]
   },
   "outputs": [
    {
     "name": "stderr",
     "output_type": "stream",
     "text": [
      "/home/eldrad/.pyenv/versions/3.8.6/envs/lewagon3/lib/python3.8/site-packages/scipy/stats/stats.py:1603: UserWarning: kurtosistest only valid for n>=20 ... continuing anyway, n=12\n",
      "  warnings.warn(\"kurtosistest only valid for n>=20 ... continuing \"\n"
     ]
    },
    {
     "data": {
      "text/html": [
       "<table class=\"simpletable\">\n",
       "<caption>OLS Regression Results</caption>\n",
       "<tr>\n",
       "  <th>Dep. Variable:</th>      <td>NB_INCIDENTS</td>   <th>  R-squared:         </th> <td>   0.899</td>\n",
       "</tr>\n",
       "<tr>\n",
       "  <th>Model:</th>                   <td>OLS</td>       <th>  Adj. R-squared:    </th> <td>   0.777</td>\n",
       "</tr>\n",
       "<tr>\n",
       "  <th>Method:</th>             <td>Least Squares</td>  <th>  F-statistic:       </th> <td>   7.391</td>\n",
       "</tr>\n",
       "<tr>\n",
       "  <th>Date:</th>             <td>Tue, 29 Jun 2021</td> <th>  Prob (F-statistic):</th>  <td>0.0222</td> \n",
       "</tr>\n",
       "<tr>\n",
       "  <th>Time:</th>                 <td>12:42:36</td>     <th>  Log-Likelihood:    </th> <td> -114.59</td>\n",
       "</tr>\n",
       "<tr>\n",
       "  <th>No. Observations:</th>      <td>    12</td>      <th>  AIC:               </th> <td>   243.2</td>\n",
       "</tr>\n",
       "<tr>\n",
       "  <th>Df Residuals:</th>          <td>     5</td>      <th>  BIC:               </th> <td>   246.6</td>\n",
       "</tr>\n",
       "<tr>\n",
       "  <th>Df Model:</th>              <td>     6</td>      <th>                     </th>     <td> </td>   \n",
       "</tr>\n",
       "<tr>\n",
       "  <th>Covariance Type:</th>      <td>nonrobust</td>    <th>                     </th>     <td> </td>   \n",
       "</tr>\n",
       "</table>\n",
       "<table class=\"simpletable\">\n",
       "<tr>\n",
       "               <td></td>                 <th>coef</th>     <th>std err</th>      <th>t</th>      <th>P>|t|</th>  <th>[0.025</th>    <th>0.975]</th>  \n",
       "</tr>\n",
       "<tr>\n",
       "  <th>Intercept</th>                  <td> 1.358e+04</td> <td> 6.16e+04</td> <td>    0.220</td> <td> 0.834</td> <td>-1.45e+05</td> <td> 1.72e+05</td>\n",
       "</tr>\n",
       "<tr>\n",
       "  <th>MEDIAN_AGE</th>                 <td> 2252.7344</td> <td> 1237.522</td> <td>    1.820</td> <td> 0.128</td> <td> -928.416</td> <td> 5433.885</td>\n",
       "</tr>\n",
       "<tr>\n",
       "  <th>PERC_OF_30_34</th>              <td> -532.9973</td> <td>  468.940</td> <td>   -1.137</td> <td> 0.307</td> <td>-1738.447</td> <td>  672.452</td>\n",
       "</tr>\n",
       "<tr>\n",
       "  <th>PERC_MARRIED_COUPLE_FAMILY</th> <td>-2115.1839</td> <td>  408.344</td> <td>   -5.180</td> <td> 0.004</td> <td>-3164.866</td> <td>-1065.502</td>\n",
       "</tr>\n",
       "<tr>\n",
       "  <th>PERC_OTHER_STATE_OR_ABROAD</th> <td> 1787.6939</td> <td>  532.432</td> <td>    3.358</td> <td> 0.020</td> <td>  419.034</td> <td> 3156.354</td>\n",
       "</tr>\n",
       "<tr>\n",
       "  <th>PERC_LESS_THAN_HIGH_SCHOOL</th> <td>  112.7375</td> <td>  493.977</td> <td>    0.228</td> <td> 0.829</td> <td>-1157.072</td> <td> 1382.547</td>\n",
       "</tr>\n",
       "<tr>\n",
       "  <th>PERC_COLLEGE_GRADUATES</th>     <td>   19.4699</td> <td>  458.775</td> <td>    0.042</td> <td> 0.968</td> <td>-1159.850</td> <td> 1198.790</td>\n",
       "</tr>\n",
       "</table>\n",
       "<table class=\"simpletable\">\n",
       "<tr>\n",
       "  <th>Omnibus:</th>       <td> 6.933</td> <th>  Durbin-Watson:     </th> <td>   2.255</td>\n",
       "</tr>\n",
       "<tr>\n",
       "  <th>Prob(Omnibus):</th> <td> 0.031</td> <th>  Jarque-Bera (JB):  </th> <td>   3.155</td>\n",
       "</tr>\n",
       "<tr>\n",
       "  <th>Skew:</th>          <td> 1.148</td> <th>  Prob(JB):          </th> <td>   0.206</td>\n",
       "</tr>\n",
       "<tr>\n",
       "  <th>Kurtosis:</th>      <td> 4.020</td> <th>  Cond. No.          </th> <td>2.42e+03</td>\n",
       "</tr>\n",
       "</table><br/><br/>Notes:<br/>[1] Standard Errors assume that the covariance matrix of the errors is correctly specified.<br/>[2] The condition number is large, 2.42e+03. This might indicate that there are<br/>strong multicollinearity or other numerical problems."
      ],
      "text/plain": [
       "<class 'statsmodels.iolib.summary.Summary'>\n",
       "\"\"\"\n",
       "                            OLS Regression Results                            \n",
       "==============================================================================\n",
       "Dep. Variable:           NB_INCIDENTS   R-squared:                       0.899\n",
       "Model:                            OLS   Adj. R-squared:                  0.777\n",
       "Method:                 Least Squares   F-statistic:                     7.391\n",
       "Date:                Tue, 29 Jun 2021   Prob (F-statistic):             0.0222\n",
       "Time:                        12:42:36   Log-Likelihood:                -114.59\n",
       "No. Observations:                  12   AIC:                             243.2\n",
       "Df Residuals:                       5   BIC:                             246.6\n",
       "Df Model:                           6                                         \n",
       "Covariance Type:            nonrobust                                         \n",
       "==============================================================================================\n",
       "                                 coef    std err          t      P>|t|      [0.025      0.975]\n",
       "----------------------------------------------------------------------------------------------\n",
       "Intercept                   1.358e+04   6.16e+04      0.220      0.834   -1.45e+05    1.72e+05\n",
       "MEDIAN_AGE                  2252.7344   1237.522      1.820      0.128    -928.416    5433.885\n",
       "PERC_OF_30_34               -532.9973    468.940     -1.137      0.307   -1738.447     672.452\n",
       "PERC_MARRIED_COUPLE_FAMILY -2115.1839    408.344     -5.180      0.004   -3164.866   -1065.502\n",
       "PERC_OTHER_STATE_OR_ABROAD  1787.6939    532.432      3.358      0.020     419.034    3156.354\n",
       "PERC_LESS_THAN_HIGH_SCHOOL   112.7375    493.977      0.228      0.829   -1157.072    1382.547\n",
       "PERC_COLLEGE_GRADUATES        19.4699    458.775      0.042      0.968   -1159.850    1198.790\n",
       "==============================================================================\n",
       "Omnibus:                        6.933   Durbin-Watson:                   2.255\n",
       "Prob(Omnibus):                  0.031   Jarque-Bera (JB):                3.155\n",
       "Skew:                           1.148   Prob(JB):                        0.206\n",
       "Kurtosis:                       4.020   Cond. No.                     2.42e+03\n",
       "==============================================================================\n",
       "\n",
       "Notes:\n",
       "[1] Standard Errors assume that the covariance matrix of the errors is correctly specified.\n",
       "[2] The condition number is large, 2.42e+03. This might indicate that there are\n",
       "strong multicollinearity or other numerical problems.\n",
       "\"\"\""
      ]
     },
     "execution_count": 14,
     "metadata": {},
     "output_type": "execute_result"
    }
   ],
   "source": [
    "model = smf.ols(formula = \"NB_INCIDENTS ~ MEDIAN_AGE + PERC_OF_30_34 + PERC_MARRIED_COUPLE_FAMILY + PERC_OTHER_STATE_OR_ABROAD + PERC_LESS_THAN_HIGH_SCHOOL + PERC_COLLEGE_GRADUATES\", data = data).fit()\n",
    "model.summary()"
   ]
  },
  {
   "cell_type": "markdown",
   "metadata": {},
   "source": [
    "### Save your results\n",
    "\n",
    "You can run the following cell to save your results:"
   ]
  },
  {
   "cell_type": "code",
   "execution_count": 15,
   "metadata": {
    "ExecuteTime": {
     "end_time": "2021-06-29T10:42:36.111416Z",
     "start_time": "2021-06-29T10:42:36.106430Z"
    }
   },
   "outputs": [],
   "source": [
    "ChallengeResult(\n",
    "    'linear_regression_model',\n",
    "    data=data,\n",
    "    model=model\n",
    ").write()"
   ]
  },
  {
   "cell_type": "markdown",
   "metadata": {},
   "source": [
    "### 1.4.3 Statistical inference questions 🤯"
   ]
  },
  {
   "cell_type": "markdown",
   "metadata": {},
   "source": [
    "You will now be asked a series of statistical inference and methodological questions about the regression model estimated above. Don't worry if results do not perfectly fit the \"predictions\" that we made earlier about the impact of each regressor: the goal was to form an *a priori* hypothesis, which is validated or invalidated through this empirical analysis."
   ]
  },
  {
   "cell_type": "markdown",
   "metadata": {},
   "source": [
    "#### Questions on the results"
   ]
  },
  {
   "cell_type": "markdown",
   "metadata": {},
   "source": [
    "**❓ Is the median age associated with a positive (increasing the number of crimes) or a negative (decreasing the target variable) effect on the number of crime incidents? Simply write your answer as a string below**"
   ]
  },
  {
   "cell_type": "code",
   "execution_count": 16,
   "metadata": {
    "ExecuteTime": {
     "end_time": "2021-06-29T10:42:36.125961Z",
     "start_time": "2021-06-29T10:42:36.114145Z"
    }
   },
   "outputs": [],
   "source": [
    "answer_median_age = '''positive\n",
    "'''"
   ]
  },
  {
   "cell_type": "markdown",
   "metadata": {},
   "source": [
    "**❓ What is the t-statistic associated with the median age regressor? How is it computed?**\n",
    "\n",
    "💡 Hint: We are looking at a ratio"
   ]
  },
  {
   "cell_type": "code",
   "execution_count": 17,
   "metadata": {
    "ExecuteTime": {
     "end_time": "2021-06-29T10:42:36.159889Z",
     "start_time": "2021-06-29T10:42:36.128492Z"
    }
   },
   "outputs": [],
   "source": [
    "answer_t_statistic = '''the t-statistic indicates the overall statistical significance of the regression.\n",
    "\n",
    "t = (mean(x) - µ)/sigma\n",
    "\n",
    "'''"
   ]
  },
  {
   "cell_type": "markdown",
   "metadata": {},
   "source": [
    "**📝 Recompute approximately the t-statistic based on the regression summary.**\n",
    "\n",
    "As it is a ratio $t = \\frac{numerator}{denominator}$:\n",
    "- Store the numerator into a `numerator` variable\n",
    "- Store the denominator into a `denominator` variable\n",
    "- Store the t-statistic into a `t_median_age` variable"
   ]
  },
  {
   "cell_type": "code",
   "execution_count": 18,
   "metadata": {
    "ExecuteTime": {
     "end_time": "2021-06-29T10:42:36.170941Z",
     "start_time": "2021-06-29T10:42:36.164273Z"
    },
    "tags": [
     "challengify"
    ]
   },
   "outputs": [
    {
     "data": {
      "text/plain": [
       "1.8203590724043692"
      ]
     },
     "execution_count": 18,
     "metadata": {},
     "output_type": "execute_result"
    }
   ],
   "source": [
    "numerator = 2252.7344\n",
    "denominator = 1237.522\n",
    "t_median_age = numerator / denominator\n",
    "t_median_age"
   ]
  },
  {
   "cell_type": "markdown",
   "metadata": {},
   "source": [
    "**❓ What is the p-value associated with the median age regressor? Store it in the `pvalue_median_age` variable (you may directly copy-paste it from the regression summary).** "
   ]
  },
  {
   "cell_type": "code",
   "execution_count": 19,
   "metadata": {
    "ExecuteTime": {
     "end_time": "2021-06-29T10:42:36.178436Z",
     "start_time": "2021-06-29T10:42:36.174461Z"
    },
    "tags": [
     "challengify"
    ]
   },
   "outputs": [],
   "source": [
    "pvalue_median_age = 0.128"
   ]
  },
  {
   "cell_type": "markdown",
   "metadata": {},
   "source": [
    "**❓ What does this p-value mean for the median age? Is its effect statistically significant at the 95% confidence level? At the 90% confidence level? Simply formulate your answer in the cell below.**"
   ]
  },
  {
   "cell_type": "code",
   "execution_count": 20,
   "metadata": {
    "ExecuteTime": {
     "end_time": "2021-06-29T10:42:36.186501Z",
     "start_time": "2021-06-29T10:42:36.181487Z"
    }
   },
   "outputs": [],
   "source": [
    "answer_p_value = \"\"\"\n",
    "This p-value indicates that there is approximately 12.8% chance that this value of t-stat can be obtained considering a null\n",
    "hypothesis. This feature therefore appers not to be statistically significant at the 95% confidence level, not even at a 90% \n",
    "confidence level.\n",
    "\"\"\""
   ]
  },
  {
   "cell_type": "markdown",
   "metadata": {},
   "source": [
    "**❓ What are the two regressors whose effect is statistically significant at the 95% confidence level in this regression model? Store the name of the variables as a list of strings in the `significant_regressors` variable.**"
   ]
  },
  {
   "cell_type": "code",
   "execution_count": 21,
   "metadata": {
    "ExecuteTime": {
     "end_time": "2021-06-29T10:42:36.195065Z",
     "start_time": "2021-06-29T10:42:36.189060Z"
    },
    "tags": [
     "challengify"
    ]
   },
   "outputs": [],
   "source": [
    "significant_regressors = [\"PERC_OTHER_STATE_OR_ABROAD\", \"PERC_MARRIED_COUPLE_FAMILY\"]"
   ]
  },
  {
   "cell_type": "markdown",
   "metadata": {},
   "source": [
    "**❓ Holding all other regressors constant, by how much does the total number of incidents increase or decrease when the share of families with a married couple increases by 1 percentage point in the district? Please formulate a full sentence with statistical rigor!**"
   ]
  },
  {
   "cell_type": "code",
   "execution_count": 22,
   "metadata": {
    "ExecuteTime": {
     "end_time": "2021-06-29T10:42:36.218310Z",
     "start_time": "2021-06-29T10:42:36.198002Z"
    }
   },
   "outputs": [
    {
     "data": {
      "text/plain": [
       "Intercept                     13579.170110\n",
       "MEDIAN_AGE                     2252.734415\n",
       "PERC_OF_30_34                  -532.997340\n",
       "PERC_MARRIED_COUPLE_FAMILY    -2115.183942\n",
       "PERC_OTHER_STATE_OR_ABROAD     1787.693933\n",
       "PERC_LESS_THAN_HIGH_SCHOOL      112.737528\n",
       "PERC_COLLEGE_GRADUATES           19.469863\n",
       "dtype: float64"
      ]
     },
     "execution_count": 22,
     "metadata": {},
     "output_type": "execute_result"
    }
   ],
   "source": [
    "model.params"
   ]
  },
  {
   "cell_type": "code",
   "execution_count": 23,
   "metadata": {
    "ExecuteTime": {
     "end_time": "2021-06-29T10:42:36.229861Z",
     "start_time": "2021-06-29T10:42:36.222525Z"
    }
   },
   "outputs": [],
   "source": [
    "answer_how_much_increase = \"\"\"\n",
    "An increase of 1 percentage point of married couples decreases the amount of incident by 2115, holding all other\n",
    "parameters constant.\n",
    "\"\"\""
   ]
  },
  {
   "cell_type": "markdown",
   "metadata": {},
   "source": [
    "#### Limits of this regression model"
   ]
  },
  {
   "cell_type": "markdown",
   "metadata": {},
   "source": [
    "You had asked the intern on the team to estimate a linear regression model so as to investigate the socio-economic determinants of crime in Boston. The results above are those that he presented. In the email he sent to you, he added:\n",
    "\n",
    "> *You will probably notice the extremely high R-squared score of this model: I think we have an excellent fit and the results are solid* 😄\n",
    "\n",
    "But you have very strong doubts about this regression and you think it is a perfect occasion to give some very important advice to your intern..."
   ]
  },
  {
   "cell_type": "markdown",
   "metadata": {},
   "source": [
    "**❓  What is the main limitation of this (clearly spurious) regression according to you? This observation explains why we are getting a very high R-squared and large standard errors. Please provide your answer in the following Markdown cell.**"
   ]
  },
  {
   "cell_type": "code",
   "execution_count": 24,
   "metadata": {
    "ExecuteTime": {
     "end_time": "2021-06-29T10:42:36.242129Z",
     "start_time": "2021-06-29T10:42:36.232314Z"
    }
   },
   "outputs": [],
   "source": [
    "answer_limitations = \"\"\"\n",
    "The homoscedasticity of the sample has not be verified. With high standar errors, it is likely that the features used in the\n",
    "regression show colinearity. Even though the r squared is valid, the coefficient of inference cannot be trusted. It is necessary\n",
    "to check the residuals distibution in case with need to use a non-parametric model, and remove non significant features until\n",
    "we observe no colinearity.\n",
    "\"\"\""
   ]
  },
  {
   "cell_type": "markdown",
   "metadata": {},
   "source": [
    "### Save your results\n",
    "\n",
    "You can run the following cell to save your results:"
   ]
  },
  {
   "cell_type": "code",
   "execution_count": 25,
   "metadata": {
    "ExecuteTime": {
     "end_time": "2021-06-29T10:42:36.258837Z",
     "start_time": "2021-06-29T10:42:36.245045Z"
    }
   },
   "outputs": [],
   "source": [
    "import json\n",
    "answers_inference = {\"MEDIAN_AGE\": answer_median_age,\n",
    "                    \"T_STAT\":answer_t_statistic,\n",
    "                     \"P_VALUE\": answer_p_value,\n",
    "                     \"INCREASE\": answer_how_much_increase,\n",
    "                     \"LIMITATIONS\": answer_limitations}\n",
    "\n",
    "with open(\"tests/answers_inference.json\", \"w\", encoding=\"utf-8\") as f:\n",
    "    json.dump(answers_inference, f, ensure_ascii=False, indent=4)\n",
    "\n",
    "ChallengeResult(\n",
    "    'linear_regression_analysis',\n",
    "    model=model,\n",
    "    numerator=numerator,\n",
    "    denominator=denominator,\n",
    "    t=t_median_age,\n",
    "    pvalue=pvalue_median_age,\n",
    "    regressors=significant_regressors\n",
    ").write()"
   ]
  },
  {
   "cell_type": "markdown",
   "metadata": {},
   "source": [
    "# 2. Analysis for the police department"
   ]
  },
  {
   "cell_type": "markdown",
   "metadata": {},
   "source": [
    "The head of the Police Department of Boston, who read your report for the Mayor's team, was extremely interested in the results. He contacted your consulting firm for an additional presentation, that would focus on the nature of crimes that take place in Boston, the potential time trends that you could identify and/or the heterogeneity of the impact of criminality on the different police districts. "
   ]
  },
  {
   "cell_type": "markdown",
   "metadata": {},
   "source": [
    "## 2.1 Start with a fresh dataset"
   ]
  },
  {
   "cell_type": "markdown",
   "metadata": {},
   "source": [
    "You will start from a fresh dataset, that corresponds more or less to the `incident_reports` table of the database."
   ]
  },
  {
   "cell_type": "code",
   "execution_count": 26,
   "metadata": {
    "ExecuteTime": {
     "end_time": "2021-06-29T10:42:41.377361Z",
     "start_time": "2021-06-29T10:42:36.261363Z"
    }
   },
   "outputs": [
    {
     "name": "stdout",
     "output_type": "stream",
     "text": [
      "  % Total    % Received % Xferd  Average Speed   Time    Time     Time  Current\n",
      "                                 Dload  Upload   Total   Spent    Left  Speed\n",
      "100 19.1M  100 19.1M    0     0  4129k      0  0:00:04  0:00:04 --:--:-- 4801k\n",
      "  % Total    % Received % Xferd  Average Speed   Time    Time     Time  Current\n",
      "                                 Dload  Upload   Total   Spent    Left  Speed\n",
      "100   498  100   498    0     0   4220      0 --:--:-- --:--:-- --:--:--  4220\n"
     ]
    }
   ],
   "source": [
    "# Run this cell to download the datasets in the data directory\n",
    "!curl https://wagon-public-datasets.s3.amazonaws.com/certification_france_2021_q2/incident_reports.csv > data/incident_reports.csv   \n",
    "!curl https://wagon-public-datasets.s3.amazonaws.com/certification_france_2021_q2/districts.csv > data/districts.csv    "
   ]
  },
  {
   "cell_type": "code",
   "execution_count": 27,
   "metadata": {
    "ExecuteTime": {
     "end_time": "2021-06-29T10:42:42.003087Z",
     "start_time": "2021-06-29T10:42:41.379803Z"
    }
   },
   "outputs": [
    {
     "name": "stdout",
     "output_type": "stream",
     "text": [
      "Shape of the DataFrame: (237221, 9)\n"
     ]
    },
    {
     "data": {
      "text/html": [
       "<div>\n",
       "<style scoped>\n",
       "    .dataframe tbody tr th:only-of-type {\n",
       "        vertical-align: middle;\n",
       "    }\n",
       "\n",
       "    .dataframe tbody tr th {\n",
       "        vertical-align: top;\n",
       "    }\n",
       "\n",
       "    .dataframe thead th {\n",
       "        text-align: right;\n",
       "    }\n",
       "</style>\n",
       "<table border=\"1\" class=\"dataframe\">\n",
       "  <thead>\n",
       "    <tr style=\"text-align: right;\">\n",
       "      <th></th>\n",
       "      <th>INCIDENT_NUMBER</th>\n",
       "      <th>OFFENSE_CODE_GROUP</th>\n",
       "      <th>SHOOTING</th>\n",
       "      <th>OCCURRED_ON_DATE</th>\n",
       "      <th>LAT</th>\n",
       "      <th>LONG</th>\n",
       "      <th>NAME</th>\n",
       "      <th>LAT_POLICE_STATION</th>\n",
       "      <th>LONG_POLICE_STATION</th>\n",
       "    </tr>\n",
       "  </thead>\n",
       "  <tbody>\n",
       "    <tr>\n",
       "      <th>0</th>\n",
       "      <td>I192068249</td>\n",
       "      <td>Other</td>\n",
       "      <td>0</td>\n",
       "      <td>2015-08-28 10:20:00</td>\n",
       "      <td>42.330119</td>\n",
       "      <td>-71.084251</td>\n",
       "      <td>Roxbury</td>\n",
       "      <td>42.328894</td>\n",
       "      <td>-71.085359</td>\n",
       "    </tr>\n",
       "    <tr>\n",
       "      <th>1</th>\n",
       "      <td>I182074094</td>\n",
       "      <td>Violence and harassment</td>\n",
       "      <td>0</td>\n",
       "      <td>2015-09-14 09:31:00</td>\n",
       "      <td>42.315142</td>\n",
       "      <td>-71.067047</td>\n",
       "      <td>Roxbury</td>\n",
       "      <td>42.328894</td>\n",
       "      <td>-71.085359</td>\n",
       "    </tr>\n",
       "    <tr>\n",
       "      <th>2</th>\n",
       "      <td>I182054888</td>\n",
       "      <td>Violence and harassment</td>\n",
       "      <td>0</td>\n",
       "      <td>2015-07-12 15:37:00</td>\n",
       "      <td>42.312243</td>\n",
       "      <td>-71.075499</td>\n",
       "      <td>Roxbury</td>\n",
       "      <td>42.328894</td>\n",
       "      <td>-71.085359</td>\n",
       "    </tr>\n",
       "    <tr>\n",
       "      <th>3</th>\n",
       "      <td>I182054888</td>\n",
       "      <td>Other</td>\n",
       "      <td>0</td>\n",
       "      <td>2015-07-12 15:37:00</td>\n",
       "      <td>42.312243</td>\n",
       "      <td>-71.075499</td>\n",
       "      <td>Roxbury</td>\n",
       "      <td>42.328894</td>\n",
       "      <td>-71.085359</td>\n",
       "    </tr>\n",
       "    <tr>\n",
       "      <th>4</th>\n",
       "      <td>I182054888</td>\n",
       "      <td>Other</td>\n",
       "      <td>0</td>\n",
       "      <td>2015-07-12 15:37:00</td>\n",
       "      <td>42.312243</td>\n",
       "      <td>-71.075499</td>\n",
       "      <td>Roxbury</td>\n",
       "      <td>42.328894</td>\n",
       "      <td>-71.085359</td>\n",
       "    </tr>\n",
       "  </tbody>\n",
       "</table>\n",
       "</div>"
      ],
      "text/plain": [
       "  INCIDENT_NUMBER       OFFENSE_CODE_GROUP  SHOOTING     OCCURRED_ON_DATE  \\\n",
       "0      I192068249                    Other         0  2015-08-28 10:20:00   \n",
       "1      I182074094  Violence and harassment         0  2015-09-14 09:31:00   \n",
       "2      I182054888  Violence and harassment         0  2015-07-12 15:37:00   \n",
       "3      I182054888                    Other         0  2015-07-12 15:37:00   \n",
       "4      I182054888                    Other         0  2015-07-12 15:37:00   \n",
       "\n",
       "         LAT       LONG     NAME  LAT_POLICE_STATION  LONG_POLICE_STATION  \n",
       "0  42.330119 -71.084251  Roxbury           42.328894           -71.085359  \n",
       "1  42.315142 -71.067047  Roxbury           42.328894           -71.085359  \n",
       "2  42.312243 -71.075499  Roxbury           42.328894           -71.085359  \n",
       "3  42.312243 -71.075499  Roxbury           42.328894           -71.085359  \n",
       "4  42.312243 -71.075499  Roxbury           42.328894           -71.085359  "
      ]
     },
     "execution_count": 27,
     "metadata": {},
     "output_type": "execute_result"
    }
   ],
   "source": [
    "# Load the dataset\n",
    "from data import load_data_viz_data\n",
    "\n",
    "data = load_data_viz_data()\n",
    "data[['LAT','LONG']] = data[['LAT','LONG']].astype('float64')\n",
    "\n",
    "print(\"Shape of the DataFrame:\", data.shape)\n",
    "\n",
    "data.head()"
   ]
  },
  {
   "cell_type": "code",
   "execution_count": 28,
   "metadata": {
    "ExecuteTime": {
     "end_time": "2021-06-29T10:42:42.038613Z",
     "start_time": "2021-06-29T10:42:42.005938Z"
    }
   },
   "outputs": [
    {
     "data": {
      "text/html": [
       "<div>\n",
       "<style scoped>\n",
       "    .dataframe tbody tr th:only-of-type {\n",
       "        vertical-align: middle;\n",
       "    }\n",
       "\n",
       "    .dataframe tbody tr th {\n",
       "        vertical-align: top;\n",
       "    }\n",
       "\n",
       "    .dataframe thead th {\n",
       "        text-align: right;\n",
       "    }\n",
       "</style>\n",
       "<table border=\"1\" class=\"dataframe\">\n",
       "  <thead>\n",
       "    <tr style=\"text-align: right;\">\n",
       "      <th></th>\n",
       "      <th>INCIDENT_NUMBER</th>\n",
       "      <th>OFFENSE_CODE_GROUP</th>\n",
       "      <th>SHOOTING</th>\n",
       "      <th>OCCURRED_ON_DATE</th>\n",
       "      <th>LAT</th>\n",
       "      <th>LONG</th>\n",
       "      <th>NAME</th>\n",
       "      <th>LAT_POLICE_STATION</th>\n",
       "      <th>LONG_POLICE_STATION</th>\n",
       "    </tr>\n",
       "  </thead>\n",
       "  <tbody>\n",
       "    <tr>\n",
       "      <th>0</th>\n",
       "      <td>I192068249</td>\n",
       "      <td>Other</td>\n",
       "      <td>0</td>\n",
       "      <td>2015-08-28 10:20:00</td>\n",
       "      <td>42.330119</td>\n",
       "      <td>-71.084251</td>\n",
       "      <td>Roxbury</td>\n",
       "      <td>42.328894</td>\n",
       "      <td>-71.085359</td>\n",
       "    </tr>\n",
       "    <tr>\n",
       "      <th>1</th>\n",
       "      <td>I182074094</td>\n",
       "      <td>Violence and harassment</td>\n",
       "      <td>0</td>\n",
       "      <td>2015-09-14 09:31:00</td>\n",
       "      <td>42.315142</td>\n",
       "      <td>-71.067047</td>\n",
       "      <td>Roxbury</td>\n",
       "      <td>42.328894</td>\n",
       "      <td>-71.085359</td>\n",
       "    </tr>\n",
       "    <tr>\n",
       "      <th>2</th>\n",
       "      <td>I182054888</td>\n",
       "      <td>Violence and harassment</td>\n",
       "      <td>0</td>\n",
       "      <td>2015-07-12 15:37:00</td>\n",
       "      <td>42.312243</td>\n",
       "      <td>-71.075499</td>\n",
       "      <td>Roxbury</td>\n",
       "      <td>42.328894</td>\n",
       "      <td>-71.085359</td>\n",
       "    </tr>\n",
       "    <tr>\n",
       "      <th>3</th>\n",
       "      <td>I182054888</td>\n",
       "      <td>Other</td>\n",
       "      <td>0</td>\n",
       "      <td>2015-07-12 15:37:00</td>\n",
       "      <td>42.312243</td>\n",
       "      <td>-71.075499</td>\n",
       "      <td>Roxbury</td>\n",
       "      <td>42.328894</td>\n",
       "      <td>-71.085359</td>\n",
       "    </tr>\n",
       "    <tr>\n",
       "      <th>4</th>\n",
       "      <td>I182054888</td>\n",
       "      <td>Other</td>\n",
       "      <td>0</td>\n",
       "      <td>2015-07-12 15:37:00</td>\n",
       "      <td>42.312243</td>\n",
       "      <td>-71.075499</td>\n",
       "      <td>Roxbury</td>\n",
       "      <td>42.328894</td>\n",
       "      <td>-71.085359</td>\n",
       "    </tr>\n",
       "    <tr>\n",
       "      <th>...</th>\n",
       "      <td>...</td>\n",
       "      <td>...</td>\n",
       "      <td>...</td>\n",
       "      <td>...</td>\n",
       "      <td>...</td>\n",
       "      <td>...</td>\n",
       "      <td>...</td>\n",
       "      <td>...</td>\n",
       "      <td>...</td>\n",
       "    </tr>\n",
       "    <tr>\n",
       "      <th>237216</th>\n",
       "      <td>I172049757</td>\n",
       "      <td>Police investigation procedure</td>\n",
       "      <td>0</td>\n",
       "      <td>2018-08-09 18:00:00</td>\n",
       "      <td>42.355216</td>\n",
       "      <td>-71.060129</td>\n",
       "      <td>Charlestown</td>\n",
       "      <td>42.361800</td>\n",
       "      <td>-71.060300</td>\n",
       "    </tr>\n",
       "    <tr>\n",
       "      <th>237217</th>\n",
       "      <td>I172049757</td>\n",
       "      <td>Drugs and disorderly conduct</td>\n",
       "      <td>0</td>\n",
       "      <td>2018-08-09 18:00:00</td>\n",
       "      <td>42.355216</td>\n",
       "      <td>-71.060129</td>\n",
       "      <td>Charlestown</td>\n",
       "      <td>42.361800</td>\n",
       "      <td>-71.060300</td>\n",
       "    </tr>\n",
       "    <tr>\n",
       "      <th>237218</th>\n",
       "      <td>I172027369</td>\n",
       "      <td>Other</td>\n",
       "      <td>0</td>\n",
       "      <td>2018-12-12 05:00:00</td>\n",
       "      <td>42.376852</td>\n",
       "      <td>-71.068873</td>\n",
       "      <td>Charlestown</td>\n",
       "      <td>42.361800</td>\n",
       "      <td>-71.060300</td>\n",
       "    </tr>\n",
       "    <tr>\n",
       "      <th>237219</th>\n",
       "      <td>I172027369</td>\n",
       "      <td>Police investigation procedure</td>\n",
       "      <td>0</td>\n",
       "      <td>2018-12-12 05:00:00</td>\n",
       "      <td>42.376852</td>\n",
       "      <td>-71.068873</td>\n",
       "      <td>Charlestown</td>\n",
       "      <td>42.361800</td>\n",
       "      <td>-71.060300</td>\n",
       "    </tr>\n",
       "    <tr>\n",
       "      <th>237220</th>\n",
       "      <td>I172027369</td>\n",
       "      <td>Violence and harassment</td>\n",
       "      <td>0</td>\n",
       "      <td>2018-12-12 05:00:00</td>\n",
       "      <td>42.376852</td>\n",
       "      <td>-71.068873</td>\n",
       "      <td>Charlestown</td>\n",
       "      <td>42.361800</td>\n",
       "      <td>-71.060300</td>\n",
       "    </tr>\n",
       "  </tbody>\n",
       "</table>\n",
       "<p>237221 rows × 9 columns</p>\n",
       "</div>"
      ],
      "text/plain": [
       "       INCIDENT_NUMBER              OFFENSE_CODE_GROUP  SHOOTING  \\\n",
       "0           I192068249                           Other         0   \n",
       "1           I182074094         Violence and harassment         0   \n",
       "2           I182054888         Violence and harassment         0   \n",
       "3           I182054888                           Other         0   \n",
       "4           I182054888                           Other         0   \n",
       "...                ...                             ...       ...   \n",
       "237216      I172049757  Police investigation procedure         0   \n",
       "237217      I172049757    Drugs and disorderly conduct         0   \n",
       "237218      I172027369                           Other         0   \n",
       "237219      I172027369  Police investigation procedure         0   \n",
       "237220      I172027369         Violence and harassment         0   \n",
       "\n",
       "           OCCURRED_ON_DATE        LAT       LONG         NAME  \\\n",
       "0       2015-08-28 10:20:00  42.330119 -71.084251      Roxbury   \n",
       "1       2015-09-14 09:31:00  42.315142 -71.067047      Roxbury   \n",
       "2       2015-07-12 15:37:00  42.312243 -71.075499      Roxbury   \n",
       "3       2015-07-12 15:37:00  42.312243 -71.075499      Roxbury   \n",
       "4       2015-07-12 15:37:00  42.312243 -71.075499      Roxbury   \n",
       "...                     ...        ...        ...          ...   \n",
       "237216  2018-08-09 18:00:00  42.355216 -71.060129  Charlestown   \n",
       "237217  2018-08-09 18:00:00  42.355216 -71.060129  Charlestown   \n",
       "237218  2018-12-12 05:00:00  42.376852 -71.068873  Charlestown   \n",
       "237219  2018-12-12 05:00:00  42.376852 -71.068873  Charlestown   \n",
       "237220  2018-12-12 05:00:00  42.376852 -71.068873  Charlestown   \n",
       "\n",
       "        LAT_POLICE_STATION  LONG_POLICE_STATION  \n",
       "0                42.328894           -71.085359  \n",
       "1                42.328894           -71.085359  \n",
       "2                42.328894           -71.085359  \n",
       "3                42.328894           -71.085359  \n",
       "4                42.328894           -71.085359  \n",
       "...                    ...                  ...  \n",
       "237216           42.361800           -71.060300  \n",
       "237217           42.361800           -71.060300  \n",
       "237218           42.361800           -71.060300  \n",
       "237219           42.361800           -71.060300  \n",
       "237220           42.361800           -71.060300  \n",
       "\n",
       "[237221 rows x 9 columns]"
      ]
     },
     "execution_count": 28,
     "metadata": {},
     "output_type": "execute_result"
    }
   ],
   "source": [
    "data"
   ]
  },
  {
   "cell_type": "markdown",
   "metadata": {},
   "source": [
    "## 2.1 Further data manipulations"
   ]
  },
  {
   "cell_type": "markdown",
   "metadata": {},
   "source": [
    "In this section, we are going to answer two specific questions that the head of the Police Department of Boston asked your team, about the characteristics of the incidents that occur in the various districts of the municipality."
   ]
  },
  {
   "cell_type": "markdown",
   "metadata": {},
   "source": [
    "### 2.1.1 Most represented type of incident per district"
   ]
  },
  {
   "cell_type": "markdown",
   "metadata": {},
   "source": [
    "First, the head of the Police Department of Boston wants to know what incident category is most often found in each district. \n",
    "\n",
    "**📝 Construct a DataFrame with**\n",
    "- **one row per police district, designated by its full name**\n",
    "- **one text column that indicates the name of the most common category of incident in the district over the whole sample period.**\n",
    "\n",
    "💡 Hint: you may need to first define a custom aggregation function."
   ]
  },
  {
   "cell_type": "code",
   "execution_count": 29,
   "metadata": {
    "ExecuteTime": {
     "end_time": "2021-06-29T10:42:42.401812Z",
     "start_time": "2021-06-29T10:42:42.040710Z"
    }
   },
   "outputs": [
    {
     "data": {
      "text/html": [
       "<div>\n",
       "<style scoped>\n",
       "    .dataframe tbody tr th:only-of-type {\n",
       "        vertical-align: middle;\n",
       "    }\n",
       "\n",
       "    .dataframe tbody tr th {\n",
       "        vertical-align: top;\n",
       "    }\n",
       "\n",
       "    .dataframe thead th {\n",
       "        text-align: right;\n",
       "    }\n",
       "</style>\n",
       "<table border=\"1\" class=\"dataframe\">\n",
       "  <thead>\n",
       "    <tr style=\"text-align: right;\">\n",
       "      <th></th>\n",
       "      <th>OFFENSE_CODE_GROUP</th>\n",
       "    </tr>\n",
       "    <tr>\n",
       "      <th>NAME</th>\n",
       "      <th></th>\n",
       "    </tr>\n",
       "  </thead>\n",
       "  <tbody>\n",
       "    <tr>\n",
       "      <th>Brighton</th>\n",
       "      <td>Larceny and vandalism</td>\n",
       "    </tr>\n",
       "    <tr>\n",
       "      <th>Charlestown</th>\n",
       "      <td>Larceny and vandalism</td>\n",
       "    </tr>\n",
       "    <tr>\n",
       "      <th>Dorchester</th>\n",
       "      <td>Larceny and vandalism</td>\n",
       "    </tr>\n",
       "    <tr>\n",
       "      <th>Downtown</th>\n",
       "      <td>Larceny and vandalism</td>\n",
       "    </tr>\n",
       "    <tr>\n",
       "      <th>East Boston</th>\n",
       "      <td>Larceny and vandalism</td>\n",
       "    </tr>\n",
       "    <tr>\n",
       "      <th>Hyde Park</th>\n",
       "      <td>Larceny and vandalism</td>\n",
       "    </tr>\n",
       "    <tr>\n",
       "      <th>Jamaica Plain</th>\n",
       "      <td>Larceny and vandalism</td>\n",
       "    </tr>\n",
       "    <tr>\n",
       "      <th>Mattapan</th>\n",
       "      <td>Police investigation procedure</td>\n",
       "    </tr>\n",
       "    <tr>\n",
       "      <th>Roxbury</th>\n",
       "      <td>Larceny and vandalism</td>\n",
       "    </tr>\n",
       "    <tr>\n",
       "      <th>South Boston</th>\n",
       "      <td>Larceny and vandalism</td>\n",
       "    </tr>\n",
       "    <tr>\n",
       "      <th>South End</th>\n",
       "      <td>Larceny and vandalism</td>\n",
       "    </tr>\n",
       "    <tr>\n",
       "      <th>West Roxbury</th>\n",
       "      <td>Larceny and vandalism</td>\n",
       "    </tr>\n",
       "  </tbody>\n",
       "</table>\n",
       "</div>"
      ],
      "text/plain": [
       "                           OFFENSE_CODE_GROUP\n",
       "NAME                                         \n",
       "Brighton                Larceny and vandalism\n",
       "Charlestown             Larceny and vandalism\n",
       "Dorchester              Larceny and vandalism\n",
       "Downtown                Larceny and vandalism\n",
       "East Boston             Larceny and vandalism\n",
       "Hyde Park               Larceny and vandalism\n",
       "Jamaica Plain           Larceny and vandalism\n",
       "Mattapan       Police investigation procedure\n",
       "Roxbury                 Larceny and vandalism\n",
       "South Boston            Larceny and vandalism\n",
       "South End               Larceny and vandalism\n",
       "West Roxbury            Larceny and vandalism"
      ]
     },
     "execution_count": 29,
     "metadata": {},
     "output_type": "execute_result"
    }
   ],
   "source": [
    "data.groupby([\"NAME\"]).agg(pd.Series.mode)[[\"OFFENSE_CODE_GROUP\"]]"
   ]
  },
  {
   "cell_type": "markdown",
   "metadata": {},
   "source": [
    "**❓ Can you tell what is the second most common offense int the Brighton district?**"
   ]
  },
  {
   "cell_type": "code",
   "execution_count": 30,
   "metadata": {
    "ExecuteTime": {
     "end_time": "2021-06-29T10:42:42.422762Z",
     "start_time": "2021-06-29T10:42:42.404261Z"
    }
   },
   "outputs": [
    {
     "data": {
      "text/plain": [
       "Larceny and vandalism             5274\n",
       "Police investigation procedure    2783\n",
       "Fraud and law violations          1807\n",
       "Violence and harassment           1627\n",
       "Other                              925\n",
       "Drugs and disorderly conduct       809\n",
       "Disputes                           563\n",
       "Name: OFFENSE_CODE_GROUP, dtype: int64"
      ]
     },
     "execution_count": 30,
     "metadata": {},
     "output_type": "execute_result"
    }
   ],
   "source": [
    "tmp = data.query('NAME == \"Brighton\"')\n",
    "tmp[\"OFFENSE_CODE_GROUP\"].value_counts()"
   ]
  },
  {
   "cell_type": "code",
   "execution_count": 31,
   "metadata": {
    "ExecuteTime": {
     "end_time": "2021-06-29T10:42:42.429154Z",
     "start_time": "2021-06-29T10:42:42.425774Z"
    }
   },
   "outputs": [],
   "source": [
    "second_most_common_offence = \"Fraud and law violations\""
   ]
  },
  {
   "cell_type": "markdown",
   "metadata": {},
   "source": [
    "### Average distance to the police station per district"
   ]
  },
  {
   "cell_type": "markdown",
   "metadata": {},
   "source": [
    "Second, based on the Haversine distance function defined below, the head of the Police Department would like to know, for each district, **the average distance between the location of the incident and the police station**. \n",
    "\n",
    "**📝 Construct a DataFrame with one row per police district, designated by its full name, and one column that displays this average Haversine distance.**"
   ]
  },
  {
   "cell_type": "code",
   "execution_count": 32,
   "metadata": {
    "ExecuteTime": {
     "end_time": "2021-06-29T10:42:42.461657Z",
     "start_time": "2021-06-29T10:42:42.432087Z"
    }
   },
   "outputs": [],
   "source": [
    "# Haversine distance function\n",
    "from math import radians, sin, cos, asin, sqrt\n",
    "\n",
    "def haversine_distance(lon1, lat1, lon2, lat2):\n",
    "    \"\"\"\n",
    "    Compute distance (km) between two pairs of (lat, lng) coordinates\n",
    "    See - (https://en.wikipedia.org/wiki/Haversine_formula)\n",
    "    \"\"\"\n",
    "    \n",
    "    lon1, lat1, lon2, lat2 = map(radians, [lon1, lat1, lon2, lat2])\n",
    "    dlon = lon2 - lon1\n",
    "    dlat = lat2 - lat1\n",
    "    \n",
    "    a = sin(dlat / 2) ** 2 + cos(lat1) * cos(lat2) * sin(dlon / 2) ** 2\n",
    "    \n",
    "    return 2 * 6371 * asin(sqrt(a))"
   ]
  },
  {
   "cell_type": "code",
   "execution_count": 34,
   "metadata": {
    "ExecuteTime": {
     "end_time": "2021-06-29T10:42:47.649894Z",
     "start_time": "2021-06-29T10:42:42.503542Z"
    },
    "tags": [
     "challengify"
    ]
   },
   "outputs": [],
   "source": [
    "data[\"HAVERSINE_DIST\"] = data.apply(lambda x : haversine_distance(x[\"LAT\"], x[\"LONG\"], x[\"LAT_POLICE_STATION\"], x[\"LONG_POLICE_STATION\"]), axis = 1)"
   ]
  },
  {
   "cell_type": "code",
   "execution_count": 68,
   "metadata": {
    "ExecuteTime": {
     "end_time": "2021-06-29T11:02:13.678295Z",
     "start_time": "2021-06-29T11:02:13.658019Z"
    }
   },
   "outputs": [
    {
     "data": {
      "text/plain": [
       "count    237065.000000\n",
       "mean          1.107907\n",
       "std           0.968261\n",
       "min           0.005424\n",
       "25%           0.486731\n",
       "50%           0.860553\n",
       "75%           1.473928\n",
       "max          14.563883\n",
       "Name: HAVERSINE_DIST, dtype: float64"
      ]
     },
     "execution_count": 68,
     "metadata": {},
     "output_type": "execute_result"
    }
   ],
   "source": [
    "data[\"HAVERSINE_DIST\"].describe()"
   ]
  },
  {
   "cell_type": "code",
   "execution_count": 70,
   "metadata": {
    "ExecuteTime": {
     "end_time": "2021-06-29T11:03:10.700358Z",
     "start_time": "2021-06-29T11:03:10.644355Z"
    }
   },
   "outputs": [],
   "source": [
    "data.drop(data[(data[\"HAVERSINE_DIST\"]>8000)].index, inplace = True)"
   ]
  },
  {
   "cell_type": "code",
   "execution_count": 71,
   "metadata": {
    "ExecuteTime": {
     "end_time": "2021-06-29T11:03:28.572651Z",
     "start_time": "2021-06-29T11:03:27.604316Z"
    }
   },
   "outputs": [
    {
     "name": "stderr",
     "output_type": "stream",
     "text": [
      "/home/eldrad/.pyenv/versions/3.8.6/envs/lewagon3/lib/python3.8/site-packages/seaborn/distributions.py:2557: FutureWarning: `distplot` is a deprecated function and will be removed in a future version. Please adapt your code to use either `displot` (a figure-level function with similar flexibility) or `histplot` (an axes-level function for histograms).\n",
      "  warnings.warn(msg, FutureWarning)\n"
     ]
    },
    {
     "data": {
      "text/plain": [
       "<AxesSubplot:ylabel='Density'>"
      ]
     },
     "execution_count": 71,
     "metadata": {},
     "output_type": "execute_result"
    },
    {
     "data": {
      "image/png": "[encoded data removed]",
      "text/plain": [
       "<Figure size 432x288 with 1 Axes>"
      ]
     },
     "metadata": {
      "needs_background": "light"
     },
     "output_type": "display_data"
    }
   ],
   "source": [
    "sns.distplot(x = data[[\"HAVERSINE_DIST\"]])"
   ]
  },
  {
   "cell_type": "code",
   "execution_count": 73,
   "metadata": {
    "ExecuteTime": {
     "end_time": "2021-06-29T11:04:07.408383Z",
     "start_time": "2021-06-29T11:04:07.347539Z"
    }
   },
   "outputs": [
    {
     "data": {
      "text/html": [
       "<div>\n",
       "<style scoped>\n",
       "    .dataframe tbody tr th:only-of-type {\n",
       "        vertical-align: middle;\n",
       "    }\n",
       "\n",
       "    .dataframe tbody tr th {\n",
       "        vertical-align: top;\n",
       "    }\n",
       "\n",
       "    .dataframe thead th {\n",
       "        text-align: right;\n",
       "    }\n",
       "</style>\n",
       "<table border=\"1\" class=\"dataframe\">\n",
       "  <thead>\n",
       "    <tr style=\"text-align: right;\">\n",
       "      <th></th>\n",
       "      <th>HAVERSINE_DIST</th>\n",
       "    </tr>\n",
       "    <tr>\n",
       "      <th>NAME</th>\n",
       "      <th></th>\n",
       "    </tr>\n",
       "  </thead>\n",
       "  <tbody>\n",
       "    <tr>\n",
       "      <th>Brighton</th>\n",
       "      <td>1.470163</td>\n",
       "    </tr>\n",
       "    <tr>\n",
       "      <th>Charlestown</th>\n",
       "      <td>0.924531</td>\n",
       "    </tr>\n",
       "    <tr>\n",
       "      <th>Dorchester</th>\n",
       "      <td>0.945964</td>\n",
       "    </tr>\n",
       "    <tr>\n",
       "      <th>Downtown</th>\n",
       "      <td>0.556252</td>\n",
       "    </tr>\n",
       "    <tr>\n",
       "      <th>East Boston</th>\n",
       "      <td>1.093503</td>\n",
       "    </tr>\n",
       "    <tr>\n",
       "      <th>Hyde Park</th>\n",
       "      <td>1.192736</td>\n",
       "    </tr>\n",
       "    <tr>\n",
       "      <th>Jamaica Plain</th>\n",
       "      <td>0.859966</td>\n",
       "    </tr>\n",
       "    <tr>\n",
       "      <th>Mattapan</th>\n",
       "      <td>1.012875</td>\n",
       "    </tr>\n",
       "    <tr>\n",
       "      <th>Roxbury</th>\n",
       "      <td>1.156620</td>\n",
       "    </tr>\n",
       "    <tr>\n",
       "      <th>South Boston</th>\n",
       "      <td>1.083292</td>\n",
       "    </tr>\n",
       "    <tr>\n",
       "      <th>South End</th>\n",
       "      <td>1.411900</td>\n",
       "    </tr>\n",
       "    <tr>\n",
       "      <th>West Roxbury</th>\n",
       "      <td>2.133435</td>\n",
       "    </tr>\n",
       "  </tbody>\n",
       "</table>\n",
       "</div>"
      ],
      "text/plain": [
       "               HAVERSINE_DIST\n",
       "NAME                         \n",
       "Brighton             1.470163\n",
       "Charlestown          0.924531\n",
       "Dorchester           0.945964\n",
       "Downtown             0.556252\n",
       "East Boston          1.093503\n",
       "Hyde Park            1.192736\n",
       "Jamaica Plain        0.859966\n",
       "Mattapan             1.012875\n",
       "Roxbury              1.156620\n",
       "South Boston         1.083292\n",
       "South End            1.411900\n",
       "West Roxbury         2.133435"
      ]
     },
     "execution_count": 73,
     "metadata": {},
     "output_type": "execute_result"
    }
   ],
   "source": [
    "dist_df = data.groupby(\"NAME\").mean()[[\"HAVERSINE_DIST\"]]\n",
    "dist_df"
   ]
  },
  {
   "cell_type": "markdown",
   "metadata": {},
   "source": [
    "**❓ Can you tell what is the average distance between the police station and the offenses in the Brighton district?**"
   ]
  },
  {
   "cell_type": "code",
   "execution_count": 79,
   "metadata": {
    "ExecuteTime": {
     "end_time": "2021-06-29T11:05:08.964209Z",
     "start_time": "2021-06-29T11:05:08.960295Z"
    },
    "tags": [
     "challengify"
    ]
   },
   "outputs": [],
   "source": [
    "average_distance_km = dist_df.iloc[0][0]"
   ]
  },
  {
   "cell_type": "code",
   "execution_count": 80,
   "metadata": {
    "ExecuteTime": {
     "end_time": "2021-06-29T11:05:11.729868Z",
     "start_time": "2021-06-29T11:05:11.724918Z"
    }
   },
   "outputs": [],
   "source": [
    "result = ChallengeResult('manipulation',\n",
    "                         second_most_common_offence=second_most_common_offence,\n",
    "                         average_distance_km=average_distance_km)\n",
    "result.write()"
   ]
  },
  {
   "cell_type": "markdown",
   "metadata": {},
   "source": [
    "# 3. Short presentation (REQUIRED TO VALIDATE THE CERTIFICATION)\n",
    "🚨🚨🚨🚨🚨🚨"
   ]
  },
  {
   "cell_type": "markdown",
   "metadata": {},
   "source": [
    "Using the latest dataset that you loaded, your mission is now to prepare 5 slides (including a title slide) that you would present to the head of the Police Department. You may or may not, as you prefer, include the output of the two \"Further data manipulations\" tasks in your presentation.\n",
    "\n",
    "⚠️  You can use any presentation editor of your choice, but **the slides must be shared either in HTML or in PDF format and saved in the current directory**"
   ]
  },
  {
   "cell_type": "markdown",
   "metadata": {},
   "source": [
    "Before you get started, here are four small pieces of advice:\n",
    "\n",
    "- to prepare your data visualisations, do not hesitate to create a separate, blank notebook; \n",
    "\n",
    "\n",
    "- pay particular attention to the readability and the clarity of your legends, titles, charts and tables; \n",
    "\n",
    "\n",
    "- the Pandas `resample` method might be useful if you want to plot time trends;\n",
    "\n",
    "\n",
    "- keep in mind that you are working with real data and sometimes, data are not very talkative. Do not feel discouraged if your charts do not provide revolutionary insights: typically, an absence of trend is a substantial piece of information!"
   ]
  },
  {
   "cell_type": "markdown",
   "metadata": {},
   "source": [
    "Good luck in changing Boston residents' lives!"
   ]
  },
  {
   "cell_type": "markdown",
   "metadata": {},
   "source": [
    "# A word of conclusion"
   ]
  },
  {
   "cell_type": "markdown",
   "metadata": {},
   "source": [
    "Congratulations for going through the exercise 🎉\n",
    "\n",
    "If you wish to pursue your analysis at some point, note that all datasets (and many others) are publicly available online, on the [Analyze Boston](https://data.boston.gov) website.\n",
    "\n",
    "Besides, if you are interested in the topic, you can start by reading the work of Nobel Prize laureate Gary Becker, who was the first to model crime as a rational phenomenon, similarly to an economic decision. This model, although it has limitations, marked a breakthrough in the study of crime and paved the way for many empirical studies that further analysed the socio-economic determinants of illegal activities. \n",
    "\n",
    "👉 [Link](https://olis.leg.state.or.us/liz/2017R1/Downloads/CommitteeMeetingDocument/125036) to download a full-text version of \"Crime and Punishment: An Economic Approach\" by Becker (1968)"
   ]
  }
 ],
 "metadata": {
  "kernelspec": {
   "display_name": "Python 3",
   "language": "python",
   "name": "python3"
  },
  "language_info": {
   "codemirror_mode": {
    "name": "ipython",
    "version": 3
   },
   "file_extension": ".py",
   "mimetype": "text/x-python",
   "name": "python",
   "nbconvert_exporter": "python",
   "pygments_lexer": "ipython3",
   "version": "3.8.6"
  },
  "toc": {
   "base_numbering": 1,
   "nav_menu": {},
   "number_sections": false,
   "sideBar": true,
   "skip_h1_title": false,
   "title_cell": "Table of Contents",
   "title_sidebar": "Contents",
   "toc_cell": false,
   "toc_position": {
    "height": "calc(100% - 180px)",
    "left": "10px",
    "top": "150px",
    "width": "288px"
   },
   "toc_section_display": true,
   "toc_window_display": true
  }
 },
 "nbformat": 4,
 "nbformat_minor": 4
}
